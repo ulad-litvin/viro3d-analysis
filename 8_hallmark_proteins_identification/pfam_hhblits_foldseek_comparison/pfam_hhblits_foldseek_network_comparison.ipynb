{
 "cells": [
  {
   "cell_type": "markdown",
   "metadata": {},
   "source": [
    "# Pfam, Foldseek Network and HHblits comparison"
   ]
  },
  {
   "cell_type": "code",
   "execution_count": null,
   "metadata": {},
   "outputs": [],
   "source": [
    "import pandas as pd\n",
    "import numpy as np\n",
    "import matplotlib.pyplot as plt\n",
    "import seaborn as sns"
   ]
  },
  {
   "cell_type": "markdown",
   "metadata": {},
   "source": [
    "### Compare number of HHblit hits, Foldseek hits and Foldseek Network hits for hallmark proteins"
   ]
  },
  {
   "cell_type": "code",
   "execution_count": null,
   "metadata": {},
   "outputs": [],
   "source": [
    "foldseek_file = \"~/8_hallmark_proteins_identification/hallmark_protein_vs_Viro3D/hallmark_protein_vs_Viro3D.tsv\"\n",
    "df_foldseek = pd.read_csv(foldseek_file, sep='\\t')"
   ]
  },
  {
   "cell_type": "code",
   "execution_count": 15,
   "metadata": {},
   "outputs": [
    {
     "data": {
      "text/plain": [
       "query\n",
       "6c_8e86_polio_vp3_sjr                     1932\n",
       "6b_8e86_polio_vp2_sjr                     1500\n",
       "1_4r0e_polio_rdrp                         1449\n",
       "6a_8e86_polio_vp1_sjr                     1394\n",
       "3C_protease_7l8h                           787\n",
       "5_5a9k_papilloma_s3h                       680\n",
       "Spondweni_E_6ZQI_A_MODEL_1                 596\n",
       "VSV_protein_L_mRNA_capping_domain_6u1x     547\n",
       "3_2py5_phi29_pPolB                         542\n",
       "SARS-CoV-2_RNA_helicase_7nio               529\n",
       "dUTPase_6mjk                               293\n",
       "HCMV_Gb_7KDP_A_MODEL_1                     274\n",
       "RSV_F_6APB_A_MODEL_1                       234\n",
       "7_6b1t_adeno_hexon_djr                     204\n",
       "4_8h56_circovirus_rcre                     184\n",
       "8b_6lgl_vzv_hk97                           118\n",
       "2_1hmv_hiv_rt_p66                          118\n",
       "SARS2_S_6VYB_A_MODEL_1                      65\n",
       "Name: count, dtype: int64"
      ]
     },
     "execution_count": 15,
     "metadata": {},
     "output_type": "execute_result"
    }
   ],
   "source": [
    "df_foldseek[df_foldseek['evalue'] <= 1e-5]['query'].value_counts()"
   ]
  },
  {
   "cell_type": "code",
   "execution_count": null,
   "metadata": {},
   "outputs": [],
   "source": [
    "foldseek_polb_hits = list(df_foldseek[\n",
    "    (df_foldseek['evalue'] <= 1e-5) &\n",
    "    (df_foldseek['query'] == '3_2py5_phi29_pPolB')]['Viro3D ID'].unique())"
   ]
  },
  {
   "cell_type": "code",
   "execution_count": null,
   "metadata": {},
   "outputs": [],
   "source": [
    "network_file = \"../foldseek_1e-5_all_hallmark_vs_network.csv\"\n",
    "df_network = pd.read_csv(network_file)"
   ]
  },
  {
   "cell_type": "code",
   "execution_count": 4,
   "metadata": {},
   "outputs": [
    {
     "data": {
      "text/plain": [
       "hallmark\n",
       "1_4r0e_polio_rdrp             2609\n",
       "6c_8e86_polio_vp3_sjr         2359\n",
       "Spondweni_E_6ZQI_A_MODEL_1     672\n",
       "3_2py5_phi29_pPolB             658\n",
       "HCMV_Gb_7KDP_A_MODEL_1         513\n",
       "7_6b1t_adeno_hexon_djr         313\n",
       "RSV_F_6APB_A_MODEL_1           259\n",
       "2_1hmv_hiv_rt_p66              122\n",
       "8b_6lgl_vzv_hk97               119\n",
       "Name: count, dtype: int64"
      ]
     },
     "execution_count": 4,
     "metadata": {},
     "output_type": "execute_result"
    }
   ],
   "source": [
    "df_network['hallmark'].value_counts()"
   ]
  },
  {
   "cell_type": "code",
   "execution_count": null,
   "metadata": {},
   "outputs": [],
   "source": [
    "hhblits_summary_file = \"./pfam_hhblits_foldseek_summary.csv\"\n",
    "hhblits_summary_df = pd.read_csv(hhblits_summary_file)"
   ]
  },
  {
   "cell_type": "code",
   "execution_count": 28,
   "metadata": {},
   "outputs": [],
   "source": [
    "hhblits_summary_df = hhblits_summary_df[(hhblits_summary_df['tool'] != 'Pfam') &\n",
    "                                        (hhblits_summary_df['hhblits_iteration'] == 1)]"
   ]
  },
  {
   "cell_type": "code",
   "execution_count": 29,
   "metadata": {},
   "outputs": [
    {
     "data": {
      "text/html": [
       "<div>\n",
       "<style scoped>\n",
       "    .dataframe tbody tr th:only-of-type {\n",
       "        vertical-align: middle;\n",
       "    }\n",
       "\n",
       "    .dataframe tbody tr th {\n",
       "        vertical-align: top;\n",
       "    }\n",
       "\n",
       "    .dataframe thead th {\n",
       "        text-align: right;\n",
       "    }\n",
       "</style>\n",
       "<table border=\"1\" class=\"dataframe\">\n",
       "  <thead>\n",
       "    <tr style=\"text-align: right;\">\n",
       "      <th></th>\n",
       "      <th>probe</th>\n",
       "      <th>tool</th>\n",
       "      <th>hhblits_iteration</th>\n",
       "      <th>hits</th>\n",
       "    </tr>\n",
       "  </thead>\n",
       "  <tbody>\n",
       "    <tr>\n",
       "      <th>5</th>\n",
       "      <td>RdRp</td>\n",
       "      <td>HHblits</td>\n",
       "      <td>1</td>\n",
       "      <td>1387</td>\n",
       "    </tr>\n",
       "  </tbody>\n",
       "</table>\n",
       "</div>"
      ],
      "text/plain": [
       "  probe     tool  hhblits_iteration  hits\n",
       "5  RdRp  HHblits                  1  1387"
      ]
     },
     "execution_count": 29,
     "metadata": {},
     "output_type": "execute_result"
    }
   ],
   "source": [
    "hhblits_summary_df.head(1)"
   ]
  },
  {
   "cell_type": "code",
   "execution_count": null,
   "metadata": {},
   "outputs": [
    {
     "data": {
      "image/png": "[encoded data removed]",
      "text/plain": [
       "<Figure size 200x300 with 1 Axes>"
      ]
     },
     "metadata": {},
     "output_type": "display_data"
    }
   ],
   "source": [
    "# plot the distribution of the number of clusters in the hallmark community with seaborn\n",
    "plt.figure(figsize=(2, 3))\n",
    "\n",
    "\n",
    "hallmark_list = hhblits_summary_df['probe'].unique()\n",
    "\n",
    "color_map = {\n",
    "    'RdRp': '#009E73', \n",
    "    'RT': '#F0E442', \n",
    "    'PolB': '#D55E00',\n",
    "    'SJR': '#0072B2',\n",
    "    'DJR': '#E69F00',\n",
    "    'HK97': '#000000',\n",
    "    'Class I FG': '#56B4E9',\n",
    "    'Class II FG': '#CC79A7',\n",
    "    'Class III FG': '#D81B60',\n",
    "}\n",
    "\n",
    "for hallmark in hallmark_list:\n",
    "    sns.lineplot(data=hhblits_summary_df[hhblits_summary_df['probe']==hallmark], x='tool', y='hits', marker='o', label=f'{hallmark}', color=color_map[hallmark])\n",
    "\n",
    "# move the legend outside the plot\n",
    "plt.legend(loc='center left', bbox_to_anchor=(1, 0.5))\n",
    "\n",
    "# relabel the x-axis\n",
    "plt.xlabel('')\n",
    "\n",
    "# relabel the x-ticks\n",
    "plt.xticks(range(3), ['HHblits', 'Foldseek', 'Foldseek Network'])\n",
    "\n",
    "# relabel the y-axis\n",
    "plt.ylabel('Hits')\n",
    "\n",
    "sns.despine()\n",
    "\n",
    "plt.savefig('./figures/hhblits_foldseek_foldseek_network_hallmark_hits.svg', bbox_inches='tight')\n",
    "\n",
    "plt.show()"
   ]
  },
  {
   "cell_type": "markdown",
   "metadata": {},
   "source": [
    "### Sequence identity of Foldseek Network and HHblits hits"
   ]
  },
  {
   "cell_type": "code",
   "execution_count": null,
   "metadata": {},
   "outputs": [],
   "source": [
    "foldseek_file = \"./data/foldseek_RdRp_probe_vs_RdRp_network_hits.tsv\"\n",
    "foldseek_df = pd.read_csv(foldseek_file, sep='\\t')"
   ]
  },
  {
   "cell_type": "code",
   "execution_count": null,
   "metadata": {},
   "outputs": [],
   "source": [
    "foldseek_df['ID'] = foldseek_df['target'].str[3:-8]"
   ]
  },
  {
   "cell_type": "code",
   "execution_count": 14,
   "metadata": {},
   "outputs": [
    {
     "data": {
      "text/html": [
       "<div>\n",
       "<style scoped>\n",
       "    .dataframe tbody tr th:only-of-type {\n",
       "        vertical-align: middle;\n",
       "    }\n",
       "\n",
       "    .dataframe tbody tr th {\n",
       "        vertical-align: top;\n",
       "    }\n",
       "\n",
       "    .dataframe thead th {\n",
       "        text-align: right;\n",
       "    }\n",
       "</style>\n",
       "<table border=\"1\" class=\"dataframe\">\n",
       "  <thead>\n",
       "    <tr style=\"text-align: right;\">\n",
       "      <th></th>\n",
       "      <th>query</th>\n",
       "      <th>target</th>\n",
       "      <th>pident</th>\n",
       "      <th>fident</th>\n",
       "      <th>alnlen</th>\n",
       "      <th>mismatch</th>\n",
       "      <th>gapopen</th>\n",
       "      <th>qstart</th>\n",
       "      <th>qend</th>\n",
       "      <th>qlen</th>\n",
       "      <th>...</th>\n",
       "      <th>tstart</th>\n",
       "      <th>tend</th>\n",
       "      <th>tlen</th>\n",
       "      <th>tcov</th>\n",
       "      <th>evalue</th>\n",
       "      <th>bits</th>\n",
       "      <th>prob</th>\n",
       "      <th>lddt</th>\n",
       "      <th>alntmscore</th>\n",
       "      <th>ID</th>\n",
       "    </tr>\n",
       "  </thead>\n",
       "  <tbody>\n",
       "    <tr>\n",
       "      <th>24</th>\n",
       "      <td>1_4r0e_polio_rdrp</td>\n",
       "      <td>CF-CAA24461.1.1.10_10556_relaxed</td>\n",
       "      <td>99.3</td>\n",
       "      <td>0.993</td>\n",
       "      <td>452</td>\n",
       "      <td>3</td>\n",
       "      <td>0</td>\n",
       "      <td>10</td>\n",
       "      <td>461</td>\n",
       "      <td>461</td>\n",
       "      <td>...</td>\n",
       "      <td>2</td>\n",
       "      <td>453</td>\n",
       "      <td>453</td>\n",
       "      <td>0.998</td>\n",
       "      <td>2.475000e-80</td>\n",
       "      <td>3370</td>\n",
       "      <td>1.000</td>\n",
       "      <td>0.9569</td>\n",
       "      <td>0.9951</td>\n",
       "      <td>CAA24461.1.1.10_10556</td>\n",
       "    </tr>\n",
       "    <tr>\n",
       "      <th>35</th>\n",
       "      <td>1_4r0e_polio_rdrp</td>\n",
       "      <td>CF-AAQ02680.1.1.10_10565_relaxed</td>\n",
       "      <td>98.4</td>\n",
       "      <td>0.984</td>\n",
       "      <td>452</td>\n",
       "      <td>6</td>\n",
       "      <td>1</td>\n",
       "      <td>10</td>\n",
       "      <td>461</td>\n",
       "      <td>461</td>\n",
       "      <td>...</td>\n",
       "      <td>2</td>\n",
       "      <td>452</td>\n",
       "      <td>452</td>\n",
       "      <td>0.998</td>\n",
       "      <td>1.850000e-79</td>\n",
       "      <td>3325</td>\n",
       "      <td>1.000</td>\n",
       "      <td>0.9537</td>\n",
       "      <td>0.9930</td>\n",
       "      <td>AAQ02680.1.1.10_10565</td>\n",
       "    </tr>\n",
       "    <tr>\n",
       "      <th>20</th>\n",
       "      <td>1_4r0e_polio_rdrp</td>\n",
       "      <td>CF-CAA24465.1.1.10_10557_relaxed</td>\n",
       "      <td>98.4</td>\n",
       "      <td>0.984</td>\n",
       "      <td>452</td>\n",
       "      <td>7</td>\n",
       "      <td>0</td>\n",
       "      <td>10</td>\n",
       "      <td>461</td>\n",
       "      <td>461</td>\n",
       "      <td>...</td>\n",
       "      <td>2</td>\n",
       "      <td>453</td>\n",
       "      <td>453</td>\n",
       "      <td>0.998</td>\n",
       "      <td>1.885000e-80</td>\n",
       "      <td>3374</td>\n",
       "      <td>1.000</td>\n",
       "      <td>0.9565</td>\n",
       "      <td>0.9951</td>\n",
       "      <td>CAA24465.1.1.10_10557</td>\n",
       "    </tr>\n",
       "    <tr>\n",
       "      <th>26</th>\n",
       "      <td>1_4r0e_polio_rdrp</td>\n",
       "      <td>CF-AAQ02679.1.1.10_10566_relaxed</td>\n",
       "      <td>98.4</td>\n",
       "      <td>0.984</td>\n",
       "      <td>452</td>\n",
       "      <td>7</td>\n",
       "      <td>0</td>\n",
       "      <td>10</td>\n",
       "      <td>461</td>\n",
       "      <td>461</td>\n",
       "      <td>...</td>\n",
       "      <td>2</td>\n",
       "      <td>453</td>\n",
       "      <td>453</td>\n",
       "      <td>0.998</td>\n",
       "      <td>2.759000e-80</td>\n",
       "      <td>3366</td>\n",
       "      <td>1.000</td>\n",
       "      <td>0.9562</td>\n",
       "      <td>0.9948</td>\n",
       "      <td>AAQ02679.1.1.10_10566</td>\n",
       "    </tr>\n",
       "    <tr>\n",
       "      <th>17</th>\n",
       "      <td>1_4r0e_polio_rdrp</td>\n",
       "      <td>CF-CAA24465.1.9_10557_relaxed</td>\n",
       "      <td>98.4</td>\n",
       "      <td>0.984</td>\n",
       "      <td>460</td>\n",
       "      <td>7</td>\n",
       "      <td>0</td>\n",
       "      <td>2</td>\n",
       "      <td>461</td>\n",
       "      <td>461</td>\n",
       "      <td>...</td>\n",
       "      <td>185</td>\n",
       "      <td>644</td>\n",
       "      <td>644</td>\n",
       "      <td>0.714</td>\n",
       "      <td>1.691000e-80</td>\n",
       "      <td>3388</td>\n",
       "      <td>1.000</td>\n",
       "      <td>0.9636</td>\n",
       "      <td>0.9947</td>\n",
       "      <td>CAA24465.1.9_10557</td>\n",
       "    </tr>\n",
       "    <tr>\n",
       "      <th>...</th>\n",
       "      <td>...</td>\n",
       "      <td>...</td>\n",
       "      <td>...</td>\n",
       "      <td>...</td>\n",
       "      <td>...</td>\n",
       "      <td>...</td>\n",
       "      <td>...</td>\n",
       "      <td>...</td>\n",
       "      <td>...</td>\n",
       "      <td>...</td>\n",
       "      <td>...</td>\n",
       "      <td>...</td>\n",
       "      <td>...</td>\n",
       "      <td>...</td>\n",
       "      <td>...</td>\n",
       "      <td>...</td>\n",
       "      <td>...</td>\n",
       "      <td>...</td>\n",
       "      <td>...</td>\n",
       "      <td>...</td>\n",
       "      <td>...</td>\n",
       "    </tr>\n",
       "    <tr>\n",
       "      <th>2395</th>\n",
       "      <td>1_4r0e_polio_rdrp</td>\n",
       "      <td>CF-AXY55022.1.1.2_9479_relaxed</td>\n",
       "      <td>7.3</td>\n",
       "      <td>0.073</td>\n",
       "      <td>547</td>\n",
       "      <td>303</td>\n",
       "      <td>34</td>\n",
       "      <td>47</td>\n",
       "      <td>435</td>\n",
       "      <td>461</td>\n",
       "      <td>...</td>\n",
       "      <td>186</td>\n",
       "      <td>686</td>\n",
       "      <td>739</td>\n",
       "      <td>0.678</td>\n",
       "      <td>1.204000e-01</td>\n",
       "      <td>44</td>\n",
       "      <td>0.301</td>\n",
       "      <td>0.3070</td>\n",
       "      <td>0.4314</td>\n",
       "      <td>AXY55022.1.1.2_9479</td>\n",
       "    </tr>\n",
       "    <tr>\n",
       "      <th>2380</th>\n",
       "      <td>1_4r0e_polio_rdrp</td>\n",
       "      <td>CF-QLA47051.1.1.2_9613_relaxed</td>\n",
       "      <td>7.2</td>\n",
       "      <td>0.072</td>\n",
       "      <td>567</td>\n",
       "      <td>287</td>\n",
       "      <td>35</td>\n",
       "      <td>67</td>\n",
       "      <td>457</td>\n",
       "      <td>461</td>\n",
       "      <td>...</td>\n",
       "      <td>186</td>\n",
       "      <td>689</td>\n",
       "      <td>744</td>\n",
       "      <td>0.677</td>\n",
       "      <td>2.928000e-02</td>\n",
       "      <td>46</td>\n",
       "      <td>0.353</td>\n",
       "      <td>0.2962</td>\n",
       "      <td>0.3295</td>\n",
       "      <td>QLA47051.1.1.2_9613</td>\n",
       "    </tr>\n",
       "    <tr>\n",
       "      <th>2572</th>\n",
       "      <td>1_4r0e_polio_rdrp</td>\n",
       "      <td>CF-AJG39246.1.1.1_9461_relaxed</td>\n",
       "      <td>6.9</td>\n",
       "      <td>0.069</td>\n",
       "      <td>472</td>\n",
       "      <td>237</td>\n",
       "      <td>24</td>\n",
       "      <td>120</td>\n",
       "      <td>438</td>\n",
       "      <td>461</td>\n",
       "      <td>...</td>\n",
       "      <td>131</td>\n",
       "      <td>553</td>\n",
       "      <td>587</td>\n",
       "      <td>0.721</td>\n",
       "      <td>3.506000e+00</td>\n",
       "      <td>17</td>\n",
       "      <td>0.016</td>\n",
       "      <td>0.2841</td>\n",
       "      <td>0.2992</td>\n",
       "      <td>AJG39246.1.1.1_9461</td>\n",
       "    </tr>\n",
       "    <tr>\n",
       "      <th>2559</th>\n",
       "      <td>1_4r0e_polio_rdrp</td>\n",
       "      <td>CF-AFP93553.1_9283_relaxed</td>\n",
       "      <td>6.8</td>\n",
       "      <td>0.068</td>\n",
       "      <td>450</td>\n",
       "      <td>258</td>\n",
       "      <td>25</td>\n",
       "      <td>102</td>\n",
       "      <td>435</td>\n",
       "      <td>461</td>\n",
       "      <td>...</td>\n",
       "      <td>1000</td>\n",
       "      <td>1404</td>\n",
       "      <td>2066</td>\n",
       "      <td>0.196</td>\n",
       "      <td>1.551000e+00</td>\n",
       "      <td>23</td>\n",
       "      <td>0.045</td>\n",
       "      <td>0.2960</td>\n",
       "      <td>0.3285</td>\n",
       "      <td>AFP93553.1_9283</td>\n",
       "    </tr>\n",
       "    <tr>\n",
       "      <th>2573</th>\n",
       "      <td>1_4r0e_polio_rdrp</td>\n",
       "      <td>CF-QPO14991.1.1.2_9450_relaxed</td>\n",
       "      <td>6.5</td>\n",
       "      <td>0.065</td>\n",
       "      <td>472</td>\n",
       "      <td>230</td>\n",
       "      <td>30</td>\n",
       "      <td>136</td>\n",
       "      <td>459</td>\n",
       "      <td>461</td>\n",
       "      <td>...</td>\n",
       "      <td>188</td>\n",
       "      <td>596</td>\n",
       "      <td>657</td>\n",
       "      <td>0.623</td>\n",
       "      <td>2.820000e+00</td>\n",
       "      <td>17</td>\n",
       "      <td>0.016</td>\n",
       "      <td>0.2615</td>\n",
       "      <td>0.2708</td>\n",
       "      <td>QPO14991.1.1.2_9450</td>\n",
       "    </tr>\n",
       "  </tbody>\n",
       "</table>\n",
       "<p>2593 rows × 21 columns</p>\n",
       "</div>"
      ],
      "text/plain": [
       "                  query                            target  pident  fident  \\\n",
       "24    1_4r0e_polio_rdrp  CF-CAA24461.1.1.10_10556_relaxed    99.3   0.993   \n",
       "35    1_4r0e_polio_rdrp  CF-AAQ02680.1.1.10_10565_relaxed    98.4   0.984   \n",
       "20    1_4r0e_polio_rdrp  CF-CAA24465.1.1.10_10557_relaxed    98.4   0.984   \n",
       "26    1_4r0e_polio_rdrp  CF-AAQ02679.1.1.10_10566_relaxed    98.4   0.984   \n",
       "17    1_4r0e_polio_rdrp     CF-CAA24465.1.9_10557_relaxed    98.4   0.984   \n",
       "...                 ...                               ...     ...     ...   \n",
       "2395  1_4r0e_polio_rdrp    CF-AXY55022.1.1.2_9479_relaxed     7.3   0.073   \n",
       "2380  1_4r0e_polio_rdrp    CF-QLA47051.1.1.2_9613_relaxed     7.2   0.072   \n",
       "2572  1_4r0e_polio_rdrp    CF-AJG39246.1.1.1_9461_relaxed     6.9   0.069   \n",
       "2559  1_4r0e_polio_rdrp        CF-AFP93553.1_9283_relaxed     6.8   0.068   \n",
       "2573  1_4r0e_polio_rdrp    CF-QPO14991.1.1.2_9450_relaxed     6.5   0.065   \n",
       "\n",
       "      alnlen  mismatch  gapopen  qstart  qend  qlen  ...  tstart  tend  tlen  \\\n",
       "24       452         3        0      10   461   461  ...       2   453   453   \n",
       "35       452         6        1      10   461   461  ...       2   452   452   \n",
       "20       452         7        0      10   461   461  ...       2   453   453   \n",
       "26       452         7        0      10   461   461  ...       2   453   453   \n",
       "17       460         7        0       2   461   461  ...     185   644   644   \n",
       "...      ...       ...      ...     ...   ...   ...  ...     ...   ...   ...   \n",
       "2395     547       303       34      47   435   461  ...     186   686   739   \n",
       "2380     567       287       35      67   457   461  ...     186   689   744   \n",
       "2572     472       237       24     120   438   461  ...     131   553   587   \n",
       "2559     450       258       25     102   435   461  ...    1000  1404  2066   \n",
       "2573     472       230       30     136   459   461  ...     188   596   657   \n",
       "\n",
       "       tcov        evalue  bits   prob    lddt  alntmscore  \\\n",
       "24    0.998  2.475000e-80  3370  1.000  0.9569      0.9951   \n",
       "35    0.998  1.850000e-79  3325  1.000  0.9537      0.9930   \n",
       "20    0.998  1.885000e-80  3374  1.000  0.9565      0.9951   \n",
       "26    0.998  2.759000e-80  3366  1.000  0.9562      0.9948   \n",
       "17    0.714  1.691000e-80  3388  1.000  0.9636      0.9947   \n",
       "...     ...           ...   ...    ...     ...         ...   \n",
       "2395  0.678  1.204000e-01    44  0.301  0.3070      0.4314   \n",
       "2380  0.677  2.928000e-02    46  0.353  0.2962      0.3295   \n",
       "2572  0.721  3.506000e+00    17  0.016  0.2841      0.2992   \n",
       "2559  0.196  1.551000e+00    23  0.045  0.2960      0.3285   \n",
       "2573  0.623  2.820000e+00    17  0.016  0.2615      0.2708   \n",
       "\n",
       "                         ID  \n",
       "24    CAA24461.1.1.10_10556  \n",
       "35    AAQ02680.1.1.10_10565  \n",
       "20    CAA24465.1.1.10_10557  \n",
       "26    AAQ02679.1.1.10_10566  \n",
       "17       CAA24465.1.9_10557  \n",
       "...                     ...  \n",
       "2395    AXY55022.1.1.2_9479  \n",
       "2380    QLA47051.1.1.2_9613  \n",
       "2572    AJG39246.1.1.1_9461  \n",
       "2559        AFP93553.1_9283  \n",
       "2573    QPO14991.1.1.2_9450  \n",
       "\n",
       "[2593 rows x 21 columns]"
      ]
     },
     "execution_count": 14,
     "metadata": {},
     "output_type": "execute_result"
    }
   ],
   "source": [
    "foldseek_df.sort_values(by=['pident'], ascending=False)"
   ]
  },
  {
   "cell_type": "code",
   "execution_count": 4,
   "metadata": {},
   "outputs": [],
   "source": [
    "import pandas as pd\n",
    "import re\n",
    "\n",
    "def parse_three_line_blocks(filename):\n",
    "    data = []\n",
    "\n",
    "    with open(filename, 'r') as f:\n",
    "        lines = f.readlines()\n",
    "\n",
    "    # Loop through lines in blocks of 3\n",
    "    for i in range(len(lines) - 2):\n",
    "        \n",
    "        if lines[i].startswith(\"No \"):\n",
    "            \n",
    "            no_line = lines[i].strip()\n",
    "            id_line = lines[i + 1].strip()\n",
    "            stats_line = lines[i + 2].strip()\n",
    "\n",
    "            # Extract \"No\" number\n",
    "            no_match = re.match(r\"No (\\d+)\", no_line)\n",
    "            no = int(no_match.group(1)) if no_match else None\n",
    "\n",
    "            # Extract identifier\n",
    "            identifier = id_line.lstrip(\">\")\n",
    "\n",
    "            # Extract all stats using regex\n",
    "            stats = dict(re.findall(r'(\\w+)=([\\w\\.\\-e%]+)', stats_line))\n",
    "\n",
    "            # Build row\n",
    "            row = {\n",
    "                \"No\": no,\n",
    "                \"ID\": identifier,\n",
    "                \"Probab\": float(stats.get(\"Probab\", 0)),\n",
    "                \"E-value\": stats.get(\"E-value\", None),\n",
    "                \"Score\": float(stats.get(\"Score\", 0)),\n",
    "                \"Aligned_cols\": int(stats.get(\"Aligned_cols\", 0)),\n",
    "                \"Identities\": float(stats.get(\"Identities\", None)[:-1]),\n",
    "                \"Similarity\": float(stats.get(\"Similarity\", 0)),\n",
    "                \"Sum_probs\": float(stats.get(\"Sum_probs\", 0)),\n",
    "                \"Template_Neff\": float(stats.get(\"Template_Neff\", 0)),\n",
    "            }\n",
    "\n",
    "            data.append(row)\n",
    "\n",
    "    return pd.DataFrame(data)"
   ]
  },
  {
   "cell_type": "code",
   "execution_count": null,
   "metadata": {},
   "outputs": [],
   "source": [
    "file_path = \"./data/RdRp_1_iteration.hhr\"\n",
    "df = parse_three_line_blocks(file_path)"
   ]
  },
  {
   "cell_type": "code",
   "execution_count": 22,
   "metadata": {},
   "outputs": [
    {
     "data": {
      "text/html": [
       "<div>\n",
       "<style scoped>\n",
       "    .dataframe tbody tr th:only-of-type {\n",
       "        vertical-align: middle;\n",
       "    }\n",
       "\n",
       "    .dataframe tbody tr th {\n",
       "        vertical-align: top;\n",
       "    }\n",
       "\n",
       "    .dataframe thead th {\n",
       "        text-align: right;\n",
       "    }\n",
       "</style>\n",
       "<table border=\"1\" class=\"dataframe\">\n",
       "  <thead>\n",
       "    <tr style=\"text-align: right;\">\n",
       "      <th></th>\n",
       "      <th>No</th>\n",
       "      <th>ID</th>\n",
       "      <th>Probab</th>\n",
       "      <th>E-value</th>\n",
       "      <th>Score</th>\n",
       "      <th>Aligned_cols</th>\n",
       "      <th>Identities</th>\n",
       "      <th>Similarity</th>\n",
       "      <th>Sum_probs</th>\n",
       "      <th>Template_Neff</th>\n",
       "    </tr>\n",
       "  </thead>\n",
       "  <tbody>\n",
       "    <tr>\n",
       "      <th>11</th>\n",
       "      <td>12</td>\n",
       "      <td>CAA24461.1.1.10_10556</td>\n",
       "      <td>100.00</td>\n",
       "      <td>None</td>\n",
       "      <td>525.97</td>\n",
       "      <td>451</td>\n",
       "      <td>99.0</td>\n",
       "      <td>1.498</td>\n",
       "      <td>418.4</td>\n",
       "      <td>9.5</td>\n",
       "    </tr>\n",
       "    <tr>\n",
       "      <th>12</th>\n",
       "      <td>13</td>\n",
       "      <td>AAQ02680.1.1.10_10565</td>\n",
       "      <td>100.00</td>\n",
       "      <td>None</td>\n",
       "      <td>524.20</td>\n",
       "      <td>450</td>\n",
       "      <td>99.0</td>\n",
       "      <td>1.496</td>\n",
       "      <td>416.0</td>\n",
       "      <td>9.6</td>\n",
       "    </tr>\n",
       "    <tr>\n",
       "      <th>17</th>\n",
       "      <td>18</td>\n",
       "      <td>AAQ02680.1.11_10565</td>\n",
       "      <td>100.00</td>\n",
       "      <td>None</td>\n",
       "      <td>523.87</td>\n",
       "      <td>460</td>\n",
       "      <td>99.0</td>\n",
       "      <td>1.499</td>\n",
       "      <td>424.4</td>\n",
       "      <td>9.6</td>\n",
       "    </tr>\n",
       "    <tr>\n",
       "      <th>13</th>\n",
       "      <td>14</td>\n",
       "      <td>AAQ02684.1.10_10569</td>\n",
       "      <td>100.00</td>\n",
       "      <td>None</td>\n",
       "      <td>526.76</td>\n",
       "      <td>460</td>\n",
       "      <td>98.0</td>\n",
       "      <td>1.491</td>\n",
       "      <td>423.7</td>\n",
       "      <td>9.5</td>\n",
       "    </tr>\n",
       "    <tr>\n",
       "      <th>24</th>\n",
       "      <td>25</td>\n",
       "      <td>CAA25444.1.1.10_10561</td>\n",
       "      <td>100.00</td>\n",
       "      <td>None</td>\n",
       "      <td>517.21</td>\n",
       "      <td>451</td>\n",
       "      <td>98.0</td>\n",
       "      <td>1.488</td>\n",
       "      <td>417.6</td>\n",
       "      <td>9.6</td>\n",
       "    </tr>\n",
       "    <tr>\n",
       "      <th>...</th>\n",
       "      <td>...</td>\n",
       "      <td>...</td>\n",
       "      <td>...</td>\n",
       "      <td>...</td>\n",
       "      <td>...</td>\n",
       "      <td>...</td>\n",
       "      <td>...</td>\n",
       "      <td>...</td>\n",
       "      <td>...</td>\n",
       "      <td>...</td>\n",
       "    </tr>\n",
       "    <tr>\n",
       "      <th>1046</th>\n",
       "      <td>1047</td>\n",
       "      <td>BAA09891.1.1.14_7123</td>\n",
       "      <td>99.33</td>\n",
       "      <td>None</td>\n",
       "      <td>144.28</td>\n",
       "      <td>315</td>\n",
       "      <td>12.0</td>\n",
       "      <td>0.110</td>\n",
       "      <td>224.1</td>\n",
       "      <td>8.8</td>\n",
       "    </tr>\n",
       "    <tr>\n",
       "      <th>1050</th>\n",
       "      <td>1051</td>\n",
       "      <td>AAB66324.1.1.16_7113</td>\n",
       "      <td>99.31</td>\n",
       "      <td>None</td>\n",
       "      <td>142.16</td>\n",
       "      <td>315</td>\n",
       "      <td>12.0</td>\n",
       "      <td>0.093</td>\n",
       "      <td>220.4</td>\n",
       "      <td>8.9</td>\n",
       "    </tr>\n",
       "    <tr>\n",
       "      <th>1070</th>\n",
       "      <td>1071</td>\n",
       "      <td>AAA45676.1.1.15_7114</td>\n",
       "      <td>99.17</td>\n",
       "      <td>None</td>\n",
       "      <td>134.65</td>\n",
       "      <td>315</td>\n",
       "      <td>12.0</td>\n",
       "      <td>0.095</td>\n",
       "      <td>217.7</td>\n",
       "      <td>8.7</td>\n",
       "    </tr>\n",
       "    <tr>\n",
       "      <th>1337</th>\n",
       "      <td>1338</td>\n",
       "      <td>AAB70695.1.11_7151</td>\n",
       "      <td>93.93</td>\n",
       "      <td>None</td>\n",
       "      <td>61.88</td>\n",
       "      <td>305</td>\n",
       "      <td>12.0</td>\n",
       "      <td>0.037</td>\n",
       "      <td>189.4</td>\n",
       "      <td>7.9</td>\n",
       "    </tr>\n",
       "    <tr>\n",
       "      <th>1265</th>\n",
       "      <td>1266</td>\n",
       "      <td>AHH54245.1_10132</td>\n",
       "      <td>95.64</td>\n",
       "      <td>None</td>\n",
       "      <td>75.76</td>\n",
       "      <td>313</td>\n",
       "      <td>12.0</td>\n",
       "      <td>0.131</td>\n",
       "      <td>204.9</td>\n",
       "      <td>5.9</td>\n",
       "    </tr>\n",
       "  </tbody>\n",
       "</table>\n",
       "<p>1387 rows × 10 columns</p>\n",
       "</div>"
      ],
      "text/plain": [
       "        No                     ID  Probab E-value   Score  Aligned_cols  \\\n",
       "11      12  CAA24461.1.1.10_10556  100.00    None  525.97           451   \n",
       "12      13  AAQ02680.1.1.10_10565  100.00    None  524.20           450   \n",
       "17      18    AAQ02680.1.11_10565  100.00    None  523.87           460   \n",
       "13      14    AAQ02684.1.10_10569  100.00    None  526.76           460   \n",
       "24      25  CAA25444.1.1.10_10561  100.00    None  517.21           451   \n",
       "...    ...                    ...     ...     ...     ...           ...   \n",
       "1046  1047   BAA09891.1.1.14_7123   99.33    None  144.28           315   \n",
       "1050  1051   AAB66324.1.1.16_7113   99.31    None  142.16           315   \n",
       "1070  1071   AAA45676.1.1.15_7114   99.17    None  134.65           315   \n",
       "1337  1338     AAB70695.1.11_7151   93.93    None   61.88           305   \n",
       "1265  1266       AHH54245.1_10132   95.64    None   75.76           313   \n",
       "\n",
       "      Identities  Similarity  Sum_probs  Template_Neff  \n",
       "11          99.0       1.498      418.4            9.5  \n",
       "12          99.0       1.496      416.0            9.6  \n",
       "17          99.0       1.499      424.4            9.6  \n",
       "13          98.0       1.491      423.7            9.5  \n",
       "24          98.0       1.488      417.6            9.6  \n",
       "...          ...         ...        ...            ...  \n",
       "1046        12.0       0.110      224.1            8.8  \n",
       "1050        12.0       0.093      220.4            8.9  \n",
       "1070        12.0       0.095      217.7            8.7  \n",
       "1337        12.0       0.037      189.4            7.9  \n",
       "1265        12.0       0.131      204.9            5.9  \n",
       "\n",
       "[1387 rows x 10 columns]"
      ]
     },
     "execution_count": 22,
     "metadata": {},
     "output_type": "execute_result"
    }
   ],
   "source": [
    "df.sort_values(by=['Identities'], ascending=False)"
   ]
  },
  {
   "cell_type": "code",
   "execution_count": 42,
   "metadata": {},
   "outputs": [],
   "source": [
    "df = pd.merge(df, foldseek_df[['ID', 'pident']], on='ID', how='left')"
   ]
  },
  {
   "cell_type": "code",
   "execution_count": null,
   "metadata": {},
   "outputs": [
    {
     "data": {
      "image/png": "[encoded data removed]",
      "text/plain": [
       "<Figure size 300x200 with 1 Axes>"
      ]
     },
     "metadata": {},
     "output_type": "display_data"
    }
   ],
   "source": [
    "fig, ax = plt.subplots(figsize=(3, 2))\n",
    "\n",
    "#plt.style.use('seaborn-v0_8')\n",
    "\n",
    "ax = sns.despine()\n",
    "ax = sns.histplot(foldseek_df, x='pident', bins=50, color='#459c76', alpha=1)\n",
    "ax = sns.histplot(df, x='Identities', bins=50, color='#c66721', alpha=1)\n",
    "\n",
    "#ax.set_title(\"Tip distribution by day\")\n",
    "#ax.set_ylabel('Count')\n",
    "plt.ylabel('Hits')\n",
    "#ax.set_xlabel('AA Identity (%)')\n",
    "ax.set_xticks([10, 20, 30, 40, 50, 60, 70, 80, 90, 100])\n",
    "#ax.set_xticks([10, 30, 50, 70, 90, 100])\n",
    "plt.xlabel('AA Identity (%)')\n",
    "\n",
    "plt.savefig(\"./figures/foldseek_network_vs_hhblits_sequence_identity_histplot.svg\", format=\"svg\", bbox_inches='tight')\n",
    "plt.show()\n"
   ]
  },
  {
   "cell_type": "markdown",
   "metadata": {},
   "source": [
    "### HHblits number of hits per iteration"
   ]
  },
  {
   "cell_type": "code",
   "execution_count": null,
   "metadata": {},
   "outputs": [],
   "source": [
    "hhblits_summary_file = \"./pfam_hhblits_foldseek_summary.csv\"\n",
    "hhblits_summary_df = pd.read_csv(hhblits_summary_file)"
   ]
  },
  {
   "cell_type": "code",
   "execution_count": 5,
   "metadata": {},
   "outputs": [
    {
     "data": {
      "text/html": [
       "<div>\n",
       "<style scoped>\n",
       "    .dataframe tbody tr th:only-of-type {\n",
       "        vertical-align: middle;\n",
       "    }\n",
       "\n",
       "    .dataframe tbody tr th {\n",
       "        vertical-align: top;\n",
       "    }\n",
       "\n",
       "    .dataframe thead th {\n",
       "        text-align: right;\n",
       "    }\n",
       "</style>\n",
       "<table border=\"1\" class=\"dataframe\">\n",
       "  <thead>\n",
       "    <tr style=\"text-align: right;\">\n",
       "      <th></th>\n",
       "      <th>probe</th>\n",
       "      <th>tool</th>\n",
       "      <th>hhblits_iteration</th>\n",
       "      <th>hits</th>\n",
       "    </tr>\n",
       "  </thead>\n",
       "  <tbody>\n",
       "    <tr>\n",
       "      <th>0</th>\n",
       "      <td>RdRp</td>\n",
       "      <td>Pfam</td>\n",
       "      <td>1</td>\n",
       "      <td>2798</td>\n",
       "    </tr>\n",
       "    <tr>\n",
       "      <th>1</th>\n",
       "      <td>RdRp</td>\n",
       "      <td>Pfam</td>\n",
       "      <td>2</td>\n",
       "      <td>2798</td>\n",
       "    </tr>\n",
       "    <tr>\n",
       "      <th>2</th>\n",
       "      <td>RdRp</td>\n",
       "      <td>Pfam</td>\n",
       "      <td>3</td>\n",
       "      <td>2798</td>\n",
       "    </tr>\n",
       "    <tr>\n",
       "      <th>3</th>\n",
       "      <td>RdRp</td>\n",
       "      <td>Pfam</td>\n",
       "      <td>4</td>\n",
       "      <td>2798</td>\n",
       "    </tr>\n",
       "    <tr>\n",
       "      <th>4</th>\n",
       "      <td>RdRp</td>\n",
       "      <td>Pfam</td>\n",
       "      <td>5</td>\n",
       "      <td>2798</td>\n",
       "    </tr>\n",
       "  </tbody>\n",
       "</table>\n",
       "</div>"
      ],
      "text/plain": [
       "  probe  tool  hhblits_iteration  hits\n",
       "0  RdRp  Pfam                  1  2798\n",
       "1  RdRp  Pfam                  2  2798\n",
       "2  RdRp  Pfam                  3  2798\n",
       "3  RdRp  Pfam                  4  2798\n",
       "4  RdRp  Pfam                  5  2798"
      ]
     },
     "execution_count": 5,
     "metadata": {},
     "output_type": "execute_result"
    }
   ],
   "source": [
    "hhblits_summary_df.head(5)"
   ]
  },
  {
   "cell_type": "code",
   "execution_count": null,
   "metadata": {},
   "outputs": [
    {
     "data": {
      "image/png": "[encoded data removed]",
      "text/plain": [
       "<Figure size 300x200 with 1 Axes>"
      ]
     },
     "metadata": {},
     "output_type": "display_data"
    }
   ],
   "source": [
    "fig, ax = plt.subplots(figsize=(3, 2))\n",
    "\n",
    "ax = sns.despine()\n",
    "ax = sns.lineplot(hhblits_summary_df[hhblits_summary_df['probe']=='RdRp'], x='hhblits_iteration', y='hits', hue='tool', alpha=1, legend=False)\n",
    "\n",
    "plt.ylabel('Hits')\n",
    "ax.set_ylim(0,3000)\n",
    "ax.set_xticks([1,2,3,4,5])\n",
    "plt.xlabel('HHblits iterations')\n",
    "\n",
    "plt.savefig(\"./figures/rdrp_pfam_foldseek_network_hhblits_hits_number_lineplot.svg\", format=\"svg\", bbox_inches='tight')\n",
    "plt.show()"
   ]
  },
  {
   "cell_type": "code",
   "execution_count": null,
   "metadata": {},
   "outputs": [
    {
     "data": {
      "image/png": "[encoded data removed]",
      "text/plain": [
       "<Figure size 300x200 with 1 Axes>"
      ]
     },
     "metadata": {},
     "output_type": "display_data"
    }
   ],
   "source": [
    "fig, ax = plt.subplots(figsize=(3, 2))\n",
    "\n",
    "ax = sns.despine()\n",
    "ax = sns.lineplot(hhblits_summary_df[hhblits_summary_df['probe']=='RT'], x='hhblits_iteration', y='hits', hue='tool', alpha=1, legend=False)\n",
    "\n",
    "plt.ylabel('Hits')\n",
    "ax.set_ylim(0,150)\n",
    "ax.set_xticks([1,2,3,4,5])\n",
    "plt.xlabel('HHblits iterations')\n",
    "\n",
    "plt.savefig(\"./figures/rt_pfam_foldseek_network_hhblits_hits_number_lineplot.svg\", format=\"svg\", bbox_inches='tight')\n",
    "plt.show()"
   ]
  },
  {
   "cell_type": "code",
   "execution_count": null,
   "metadata": {},
   "outputs": [
    {
     "data": {
      "image/png": "[encoded data removed]",
      "text/plain": [
       "<Figure size 300x200 with 1 Axes>"
      ]
     },
     "metadata": {},
     "output_type": "display_data"
    }
   ],
   "source": [
    "fig, ax = plt.subplots(figsize=(3, 2))\n",
    "\n",
    "ax = sns.despine()\n",
    "ax = sns.lineplot(hhblits_summary_df[hhblits_summary_df['probe']=='PolB'], x='hhblits_iteration', y='hits', hue='tool', alpha=1, legend=False)\n",
    "\n",
    "plt.ylabel('Hits')\n",
    "ax.set_ylim(0,700)\n",
    "ax.set_xticks([1,2,3,4,5])\n",
    "plt.xlabel('HHblits iterations')\n",
    "\n",
    "plt.savefig(\"./figures/polb_pfam_foldseek_network_hhblits_hits_number_lineplot.svg\", format=\"svg\", bbox_inches='tight')\n",
    "plt.show()"
   ]
  },
  {
   "cell_type": "markdown",
   "metadata": {},
   "source": [
    "## RdRp , RT, and PolB Pfam analysis\n",
    "\n",
    "- use InterProScan results with multiple Pfam annotations per protein\n",
    "- find all proteins and viruses that have this annotation\n",
    "- what is the overlap between these records/viruses and our network search using single probe (RdRp, RT, PolB): E-value 10^-5 and 90% overlap"
   ]
  },
  {
   "cell_type": "code",
   "execution_count": null,
   "metadata": {},
   "outputs": [],
   "source": [
    "viruses_file = \"~/2_protein_structure_prediction/metadata/Viro3D_virus_list.csv\"\n",
    "df_viruses = pd.read_csv(viruses_file)"
   ]
  },
  {
   "cell_type": "code",
   "execution_count": 3,
   "metadata": {},
   "outputs": [
    {
     "data": {
      "text/plain": [
       "(2475, 13)"
      ]
     },
     "execution_count": 3,
     "metadata": {},
     "output_type": "execute_result"
    }
   ],
   "source": [
    "df_viruses[df_viruses['ICTV Realm'] == 'Riboviria'].shape"
   ]
  },
  {
   "cell_type": "code",
   "execution_count": 4,
   "metadata": {},
   "outputs": [
    {
     "data": {
      "text/plain": [
       "Genome coverage\n",
       "Complete genome           1671\n",
       "Complete coding genome     543\n",
       "Partial genome             261\n",
       "Name: count, dtype: int64"
      ]
     },
     "execution_count": 4,
     "metadata": {},
     "output_type": "execute_result"
    }
   ],
   "source": [
    "df_viruses[df_viruses['ICTV Realm'] == 'Riboviria']['Genome coverage'].value_counts()"
   ]
  },
  {
   "cell_type": "code",
   "execution_count": 5,
   "metadata": {},
   "outputs": [],
   "source": [
    "complete_sort = df_viruses[(df_viruses['ICTV Realm'] == 'Riboviria')&\n",
    "                           (df_viruses['Genome coverage'] == 'Complete genome')]['ICTV Sort'].unique()\n",
    "\n",
    "complete_coding_sort = df_viruses[(df_viruses['ICTV Realm'] == 'Riboviria')&\n",
    "                                  (df_viruses['Genome coverage'] == 'Complete coding genome')]['ICTV Sort'].unique()\n",
    "\n",
    "partial_sort = df_viruses[(df_viruses['ICTV Realm'] == 'Riboviria')&\n",
    "                          (df_viruses['Genome coverage'] == 'Partial genome')]['ICTV Sort'].unique()"
   ]
  },
  {
   "cell_type": "code",
   "execution_count": 6,
   "metadata": {},
   "outputs": [
    {
     "data": {
      "text/plain": [
       "(1671, 543, 261)"
      ]
     },
     "execution_count": 6,
     "metadata": {},
     "output_type": "execute_result"
    }
   ],
   "source": [
    "len(complete_sort), len(complete_coding_sort), len(partial_sort)"
   ]
  },
  {
   "cell_type": "code",
   "execution_count": null,
   "metadata": {},
   "outputs": [],
   "source": [
    "proteins_file = \"~/2_protein_structure_prediction/metadata/Viro3D_protein_list.csv\"\n",
    "df_proteins = pd.read_csv(proteins_file)"
   ]
  },
  {
   "cell_type": "code",
   "execution_count": null,
   "metadata": {},
   "outputs": [],
   "source": [
    "file_interpro = \"~/7_functional_coverage_expansion/interproscan5_analysis/predicted_proteins_results_interproscan-v5.69-101.0.tsv\"\n",
    "col_names = [\n",
    "    \"Protein Accession\",\n",
    "    \"Sequence MD5 Digest\",\n",
    "    \"Sequence Length\",\n",
    "    \"Analysis\",\n",
    "    \"Signature Accession\",\n",
    "    \"Signature Description\",\n",
    "    \"Start Location\",\n",
    "    \"Stop Location\",\n",
    "    \"Score\",\n",
    "    \"Status\",\n",
    "    \"Date\",\n",
    "    \"InterPro Annotations Accession\",\n",
    "    \"InterPro Annotations Description\",\n",
    "    \"GO Annotations\",\n",
    "    \"Pathways Annotations\"\n",
    "]\n",
    "df_interpro = pd.read_csv(file_interpro, sep=\"\\t\", names=col_names, header=None, index_col=False)"
   ]
  },
  {
   "cell_type": "code",
   "execution_count": 9,
   "metadata": {},
   "outputs": [],
   "source": [
    "df_pfam = df_interpro[df_interpro[\"Analysis\"] == 'Pfam'][[\n",
    "    \"Protein Accession\",\n",
    "    \"Signature Description\",\n",
    "    \"InterPro Annotations Accession\",\n",
    "    \"InterPro Annotations Description\",\n",
    "    \"Start Location\",\n",
    "    \"Stop Location\"]]"
   ]
  },
  {
   "cell_type": "code",
   "execution_count": 10,
   "metadata": {},
   "outputs": [],
   "source": [
    "df_pfam = pd.merge(df_pfam, df_proteins[['Viro3D ID', 'ICTV Sort']], left_on='Protein Accession', right_on='Viro3D ID', how='left')\n",
    "df_pfam.drop(columns=['Protein Accession'], inplace=True)\n",
    "df_pfam = pd.merge(df_pfam, df_viruses[['ICTV Sort', 'ICTV Realm']], on='ICTV Sort', how='left')"
   ]
  },
  {
   "cell_type": "code",
   "execution_count": 11,
   "metadata": {},
   "outputs": [],
   "source": [
    "rdrp_virus_sort = df_pfam[(df_pfam['ICTV Realm'] == 'Riboviria') & \n",
    "        (df_pfam[\"Signature Description\"].str.contains(\"RNA polymerase\"))]['ICTV Sort'].unique()\n",
    "\n",
    "rt_virus_sort = df_pfam[(df_pfam['ICTV Realm'] == 'Riboviria') & \n",
    "        (df_pfam[\"Signature Description\"].str.contains(\"DNA polymerase\", case=False))]['ICTV Sort'].unique()\n",
    "\n",
    "polb_virus_sort = df_pfam[(df_pfam['ICTV Realm'] != 'Riboviria') & \n",
    "        ((df_pfam[\"Signature Description\"].str.contains(\"DNA polymerase family B\", case=False)) |\n",
    "         (df_pfam[\"Signature Description\"].str.contains(\"DNA polymerase type B\", case=False)))]['ICTV Sort'].unique()"
   ]
  },
  {
   "cell_type": "code",
   "execution_count": 12,
   "metadata": {},
   "outputs": [
    {
     "data": {
      "text/plain": [
       "(2140, 106, 538)"
      ]
     },
     "execution_count": 12,
     "metadata": {},
     "output_type": "execute_result"
    }
   ],
   "source": [
    "len(rdrp_virus_sort), len(rt_virus_sort), len(polb_virus_sort)"
   ]
  },
  {
   "cell_type": "code",
   "execution_count": 13,
   "metadata": {},
   "outputs": [],
   "source": [
    "rdrp_protein_id = df_pfam[(df_pfam['ICTV Realm'] == 'Riboviria') & \n",
    "        (df_pfam[\"Signature Description\"].str.contains(\"RNA polymerase\"))]['Viro3D ID'].unique()\n",
    "\n",
    "rt_protein_id = df_pfam[(df_pfam['ICTV Realm'] == 'Riboviria') & \n",
    "        (df_pfam[\"Signature Description\"].str.contains(\"DNA polymerase\", case=False))]['Viro3D ID'].unique()\n",
    "\n",
    "polb_protein_id = df_pfam[(df_pfam['ICTV Realm'] != 'Riboviria') & \n",
    "        ((df_pfam[\"Signature Description\"].str.contains(\"DNA polymerase family B\", case=False)) |\n",
    "         (df_pfam[\"Signature Description\"].str.contains(\"DNA polymerase type B\", case=False)))]['Viro3D ID'].unique()"
   ]
  },
  {
   "cell_type": "code",
   "execution_count": 14,
   "metadata": {},
   "outputs": [
    {
     "data": {
      "text/plain": [
       "(2798, 116, 557)"
      ]
     },
     "execution_count": 14,
     "metadata": {},
     "output_type": "execute_result"
    }
   ],
   "source": [
    "len(rdrp_protein_id), len(rt_protein_id), len(polb_protein_id)"
   ]
  },
  {
   "cell_type": "code",
   "execution_count": 15,
   "metadata": {},
   "outputs": [
    {
     "data": {
      "text/plain": [
       "Signature Description\n",
       "DNA polymerase family B                                   397\n",
       "DNA polymerase family B, exonuclease domain               362\n",
       "DNA polymerase type B, organellar and viral               183\n",
       "DNA polymerase family B viral insert                       53\n",
       "DNA polymerase family B exonuclease domain, N-terminal     42\n",
       "Name: count, dtype: int64"
      ]
     },
     "execution_count": 15,
     "metadata": {},
     "output_type": "execute_result"
    }
   ],
   "source": [
    "df_pfam[(df_pfam['ICTV Realm'] != 'Riboviria') & \n",
    "        ((df_pfam[\"Signature Description\"].str.contains(\"DNA polymerase family B\", case=False)) |\n",
    "         (df_pfam[\"Signature Description\"].str.contains(\"DNA polymerase type B\", case=False)))]['Signature Description'].value_counts()"
   ]
  },
  {
   "cell_type": "code",
   "execution_count": null,
   "metadata": {},
   "outputs": [],
   "source": [
    "hallmark_file = \"../foldseek_1e-5_all_hallmark_vs_network.csv\"\n",
    "df_hallmark = pd.read_csv(hallmark_file)"
   ]
  },
  {
   "cell_type": "code",
   "execution_count": 17,
   "metadata": {},
   "outputs": [],
   "source": [
    "df_hallmark['Viro3D ID'] = df_hallmark['cluster_member'].str[3:-8]"
   ]
  },
  {
   "cell_type": "code",
   "execution_count": 18,
   "metadata": {},
   "outputs": [],
   "source": [
    "rdrp_hits_virus_sort = list(df_hallmark[(df_hallmark['hallmark'] == '1_4r0e_polio_rdrp') &\n",
    "                                        (df_hallmark['ictv_realm'] == 'Riboviria')]['ictv_sort'].unique())\n",
    "\n",
    "rt_hits_virus_sort = list(df_hallmark[(df_hallmark['hallmark'] == '2_1hmv_hiv_rt_p66') &\n",
    "                                      (df_hallmark['ictv_realm'] == 'Riboviria')]['ictv_sort'].unique())\n",
    "\n",
    "polb_hits_virus_sort = list(df_hallmark[(df_hallmark['hallmark'] == '3_2py5_phi29_pPolB') &\n",
    "                                      (df_hallmark['ictv_realm'] != 'Riboviria')]['ictv_sort'].unique())"
   ]
  },
  {
   "cell_type": "code",
   "execution_count": 19,
   "metadata": {},
   "outputs": [
    {
     "data": {
      "text/plain": [
       "(1671, 543, 261)"
      ]
     },
     "execution_count": 19,
     "metadata": {},
     "output_type": "execute_result"
    }
   ],
   "source": [
    "len(complete_sort), len(complete_coding_sort), len(partial_sort)"
   ]
  },
  {
   "cell_type": "code",
   "execution_count": 20,
   "metadata": {},
   "outputs": [
    {
     "data": {
      "text/plain": [
       "(1516, 100)"
      ]
     },
     "execution_count": 20,
     "metadata": {},
     "output_type": "execute_result"
    }
   ],
   "source": [
    "#len(set(complete_sort) & set(rdrp_hits_virus_sort)), len(set(complete_sort) & set(rt_hits_virus_sort))\n",
    "len(set(complete_sort) & set(rdrp_virus_sort)), len(set(complete_sort) & set(rt_virus_sort))"
   ]
  },
  {
   "cell_type": "code",
   "execution_count": 21,
   "metadata": {},
   "outputs": [
    {
     "data": {
      "text/plain": [
       "(513, 2)"
      ]
     },
     "execution_count": 21,
     "metadata": {},
     "output_type": "execute_result"
    }
   ],
   "source": [
    "#len(set(complete_coding_sort) & set(rdrp_hits_virus_sort)), len(set(complete_coding_sort) & set(rt_hits_virus_sort))\n",
    "len(set(complete_coding_sort) & set(rdrp_virus_sort)), len(set(complete_coding_sort) & set(rt_virus_sort))"
   ]
  },
  {
   "cell_type": "code",
   "execution_count": 22,
   "metadata": {},
   "outputs": [
    {
     "data": {
      "text/plain": [
       "(111, 4)"
      ]
     },
     "execution_count": 22,
     "metadata": {},
     "output_type": "execute_result"
    }
   ],
   "source": [
    "#len(set(partial_sort) & set(rdrp_hits_virus_sort)), len(set(partial_sort) & set(rt_hits_virus_sort))\n",
    "len(set(partial_sort) & set(rdrp_virus_sort)), len(set(partial_sort) & set(rt_virus_sort))"
   ]
  },
  {
   "cell_type": "code",
   "execution_count": 23,
   "metadata": {},
   "outputs": [
    {
     "data": {
      "text/html": [
       "<div>\n",
       "<style scoped>\n",
       "    .dataframe tbody tr th:only-of-type {\n",
       "        vertical-align: middle;\n",
       "    }\n",
       "\n",
       "    .dataframe tbody tr th {\n",
       "        vertical-align: top;\n",
       "    }\n",
       "\n",
       "    .dataframe thead th {\n",
       "        text-align: right;\n",
       "    }\n",
       "</style>\n",
       "<table border=\"1\" class=\"dataframe\">\n",
       "  <thead>\n",
       "    <tr style=\"text-align: right;\">\n",
       "      <th></th>\n",
       "      <th>Genome coverage</th>\n",
       "      <th>RdRp hits</th>\n",
       "      <th>RT hits</th>\n",
       "      <th>Missing</th>\n",
       "    </tr>\n",
       "  </thead>\n",
       "  <tbody>\n",
       "    <tr>\n",
       "      <th>0</th>\n",
       "      <td>Complete genomes</td>\n",
       "      <td>1516</td>\n",
       "      <td>1616</td>\n",
       "      <td>1671</td>\n",
       "    </tr>\n",
       "    <tr>\n",
       "      <th>1</th>\n",
       "      <td>Complete coding genomes</td>\n",
       "      <td>513</td>\n",
       "      <td>515</td>\n",
       "      <td>543</td>\n",
       "    </tr>\n",
       "    <tr>\n",
       "      <th>2</th>\n",
       "      <td>Partial genomes</td>\n",
       "      <td>111</td>\n",
       "      <td>115</td>\n",
       "      <td>261</td>\n",
       "    </tr>\n",
       "  </tbody>\n",
       "</table>\n",
       "</div>"
      ],
      "text/plain": [
       "           Genome coverage  RdRp hits  RT hits  Missing\n",
       "0         Complete genomes       1516     1616     1671\n",
       "1  Complete coding genomes        513      515      543\n",
       "2          Partial genomes        111      115      261"
      ]
     },
     "execution_count": 23,
     "metadata": {},
     "output_type": "execute_result"
    }
   ],
   "source": [
    "df_dict = {\"Genome coverage\": [\"Complete genomes\", \"Complete coding genomes\", \"Partial genomes\"],\n",
    "           \"RdRp hits\": [1516, 513, 111],\n",
    "           \"RT hits\": [1516+100, 513+2, 111+4],\n",
    "           \"Missing\": [1671, 543, 261]}\n",
    "df_plot = pd.DataFrame(df_dict)\n",
    "df_plot"
   ]
  },
  {
   "cell_type": "code",
   "execution_count": null,
   "metadata": {},
   "outputs": [
    {
     "data": {
      "text/plain": [
       "<function matplotlib.pyplot.show(close=None, block=None)>"
      ]
     },
     "execution_count": 26,
     "metadata": {},
     "output_type": "execute_result"
    },
    {
     "data": {
      "image/png": "[encoded data removed]",
      "text/plain": [
       "<Figure size 300x200 with 1 Axes>"
      ]
     },
     "metadata": {},
     "output_type": "display_data"
    }
   ],
   "source": [
    "# change figure size\n",
    "plt.figure(figsize=(3, 2))\n",
    "#sns.barplot(data=df_plot, y=\"realm\", x=\"viruses\", color='lightgrey', alpha=1)\n",
    "sns.barplot(df_plot, y=\"Genome coverage\", x=\"Missing\", color='#bd87d8', alpha=1)\n",
    "sns.barplot(df_plot, y=\"Genome coverage\", x=\"RT hits\", color='#c39a39', alpha=1)\n",
    "sns.barplot(df_plot, y=\"Genome coverage\", x=\"RdRp hits\", color='#45709f', alpha=1)\n",
    "# remove the top and right lines\n",
    "sns.despine()\n",
    "# remove the y-axis label\n",
    "plt.ylabel(\"\")\n",
    "plt.xlabel(\"Riboviria Viruses\")\n",
    "# make y-tick labels italic\n",
    "#plt.yticks(fontstyle='italic')\n",
    "# save the figure\n",
    "plt.savefig(\"./figures/genome_coverage_rdrp_rt_hits_number_barplot_3.svg\", format=\"svg\")\n",
    "plt.show"
   ]
  },
  {
   "cell_type": "code",
   "execution_count": 25,
   "metadata": {},
   "outputs": [
    {
     "data": {
      "text/plain": [
       "(2141, 110, 519)"
      ]
     },
     "execution_count": 25,
     "metadata": {},
     "output_type": "execute_result"
    }
   ],
   "source": [
    "len(rdrp_hits_virus_sort), len(rt_hits_virus_sort), len(polb_hits_virus_sort)"
   ]
  },
  {
   "cell_type": "code",
   "execution_count": 26,
   "metadata": {},
   "outputs": [
    {
     "data": {
      "text/plain": [
       "(511, 8, 27)"
      ]
     },
     "execution_count": 26,
     "metadata": {},
     "output_type": "execute_result"
    }
   ],
   "source": [
    "len(set(polb_hits_virus_sort) & set(polb_virus_sort)), len(set(polb_hits_virus_sort) - set(polb_virus_sort)), len(set(polb_virus_sort) - set(polb_hits_virus_sort))"
   ]
  },
  {
   "cell_type": "code",
   "execution_count": 27,
   "metadata": {},
   "outputs": [],
   "source": [
    "rdrp_hits_protein_id = list(df_hallmark[(df_hallmark['hallmark'] == '1_4r0e_polio_rdrp') &\n",
    "                                        (df_hallmark['ictv_realm'] == 'Riboviria')]['Viro3D ID'].unique())\n",
    "\n",
    "rt_hits_protein_id = list(df_hallmark[(df_hallmark['hallmark'] == '2_1hmv_hiv_rt_p66') &\n",
    "                                      (df_hallmark['ictv_realm'] == 'Riboviria')]['Viro3D ID'].unique())\n",
    "\n",
    "polb_hits_protein_id = list(df_hallmark[(df_hallmark['hallmark'] == '3_2py5_phi29_pPolB') &\n",
    "                                      (df_hallmark['ictv_realm'] != 'Riboviria')]['Viro3D ID'].unique())"
   ]
  },
  {
   "cell_type": "code",
   "execution_count": null,
   "metadata": {},
   "outputs": [
    {
     "data": {
      "image/png": "[encoded data removed]",
      "text/plain": [
       "<Figure size 300x200 with 1 Axes>"
      ]
     },
     "metadata": {},
     "output_type": "display_data"
    }
   ],
   "source": [
    "# Create subsets with category labels\n",
    "only_rdrp = df_proteins[df_proteins['Viro3D ID'].isin(set(rdrp_protein_id) - set(rdrp_hits_protein_id))].copy()\n",
    "only_rdrp['Group'] = 'Pfam unique'\n",
    "\n",
    "in_both = df_proteins[df_proteins['Viro3D ID'].isin(set(rdrp_hits_protein_id) & set(rdrp_protein_id))].copy()\n",
    "in_both['Group'] = 'In both'\n",
    "\n",
    "only_hits = df_proteins[df_proteins['Viro3D ID'].isin(set(rdrp_hits_protein_id) - set(rdrp_protein_id))].copy()\n",
    "only_hits['Group'] = 'Foldseek network unique'\n",
    "\n",
    "# Concatenate all\n",
    "combined_df = pd.concat([only_rdrp, in_both, only_hits])\n",
    "\n",
    "# Plot\n",
    "plt.figure(figsize=(3, 2))\n",
    "sns.violinplot(data=combined_df, x='Group', y='Protein Length')\n",
    "plt.ylim(0, 3000)\n",
    "sns.despine()\n",
    "plt.tight_layout()\n",
    "plt.savefig(\"./figures/pfam_network_rdrp_hits_protein_length_violinplot.svg\", format=\"svg\")\n",
    "plt.show()"
   ]
  },
  {
   "cell_type": "code",
   "execution_count": null,
   "metadata": {},
   "outputs": [],
   "source": [
    "rdrp_hhblits_file = \"./data/RdRp_1_iteration.hhr\"\n",
    "rt_hhblits_file = \"./data/RT_1_iteration.hhr\"\n",
    "polb_hhblits_file = \"./data/PolB_1_iteration.hhr\""
   ]
  },
  {
   "cell_type": "code",
   "execution_count": 21,
   "metadata": {},
   "outputs": [],
   "source": [
    "def process_file_to_dataframe(filename):\n",
    "    columns = [\n",
    "        \"No\", \"Hit\", \"Prob\", \"E-value\", \"P-value\",\n",
    "        \"Score\", \"SS\", \"Cols\", \"Query HMM\", \"Template HMM\", \"Template HMM Len\"\n",
    "    ]\n",
    "    data = []\n",
    "\n",
    "    with open(filename, 'r') as file:\n",
    "        for line in file:\n",
    "            line = line.strip()\n",
    "\n",
    "            if line and line[0].isdigit():\n",
    "                parts = line.split()\n",
    "                #if len(parts) >= len(columns):\n",
    "                #    data.append(parts[:len(columns)])  # trim excess if needed\n",
    "                data.append(parts)\n",
    "    df = pd.DataFrame(data, columns=columns)\n",
    "    return df"
   ]
  },
  {
   "cell_type": "code",
   "execution_count": 28,
   "metadata": {},
   "outputs": [],
   "source": [
    "rdrp_hhblits = process_file_to_dataframe(rdrp_hhblits_file)\n",
    "rt_hhblits = process_file_to_dataframe(rt_hhblits_file)\n",
    "polb_hhblits = process_file_to_dataframe(polb_hhblits_file)"
   ]
  },
  {
   "cell_type": "code",
   "execution_count": 29,
   "metadata": {},
   "outputs": [],
   "source": [
    "rdrp_hhblits_hits = list(rdrp_hhblits['Hit'].unique())\n",
    "rt_hhblits_hits = list(rt_hhblits['Hit'].unique())\n",
    "polb_hhblits_hits = list(polb_hhblits['Hit'].unique())"
   ]
  },
  {
   "cell_type": "code",
   "execution_count": 30,
   "metadata": {},
   "outputs": [
    {
     "data": {
      "text/plain": [
       "(1387, 121, 226)"
      ]
     },
     "execution_count": 30,
     "metadata": {},
     "output_type": "execute_result"
    }
   ],
   "source": [
    "len(rdrp_hhblits_hits), len(rt_hhblits_hits), len(polb_hhblits_hits)"
   ]
  },
  {
   "cell_type": "code",
   "execution_count": 121,
   "metadata": {},
   "outputs": [
    {
     "data": {
      "text/plain": [
       "(2605, 121, 658)"
      ]
     },
     "execution_count": 121,
     "metadata": {},
     "output_type": "execute_result"
    }
   ],
   "source": [
    "len(rdrp_hits_protein_id), len(rt_hits_protein_id), len(polb_hits_protein_id)"
   ]
  },
  {
   "cell_type": "code",
   "execution_count": 122,
   "metadata": {},
   "outputs": [
    {
     "data": {
      "text/plain": [
       "(238, 0, 42)"
      ]
     },
     "execution_count": 122,
     "metadata": {},
     "output_type": "execute_result"
    }
   ],
   "source": [
    "len(set(rdrp_protein_id) - set(rdrp_hits_protein_id)), len(set(rt_protein_id) - set(rt_hits_protein_id)), len(set(polb_protein_id) - set(polb_hits_protein_id))"
   ]
  },
  {
   "cell_type": "code",
   "execution_count": 123,
   "metadata": {},
   "outputs": [
    {
     "data": {
      "text/plain": [
       "(45, 5, 143)"
      ]
     },
     "execution_count": 123,
     "metadata": {},
     "output_type": "execute_result"
    }
   ],
   "source": [
    "len(set(rdrp_hits_protein_id) - set(rdrp_protein_id)), len(set(rt_hits_protein_id) - set(rt_protein_id)), len(set(polb_hits_protein_id) - set(polb_protein_id))"
   ]
  },
  {
   "cell_type": "code",
   "execution_count": 124,
   "metadata": {},
   "outputs": [
    {
     "data": {
      "text/plain": [
       "2560"
      ]
     },
     "execution_count": 124,
     "metadata": {},
     "output_type": "execute_result"
    }
   ],
   "source": [
    "len(set(rdrp_protein_id) & set(rdrp_hits_protein_id))"
   ]
  },
  {
   "cell_type": "code",
   "execution_count": 133,
   "metadata": {},
   "outputs": [
    {
     "data": {
      "text/plain": [
       "1353"
      ]
     },
     "execution_count": 133,
     "metadata": {},
     "output_type": "execute_result"
    }
   ],
   "source": [
    "len(set(rdrp_protein_id) & set(rdrp_hits_protein_id) & set(hhblits))"
   ]
  },
  {
   "cell_type": "code",
   "execution_count": null,
   "metadata": {},
   "outputs": [
    {
     "name": "stderr",
     "output_type": "stream",
     "text": [
      "/home2/2820395l/anaconda3/envs/bio/lib/python3.12/site-packages/matplotlib_venn/layout/venn3/pairwise.py:169: UserWarning: Bad circle positioning.\n",
      "  warnings.warn(\"Bad circle positioning.\")\n"
     ]
    },
    {
     "data": {
      "image/png": "[encoded data removed]",
      "text/plain": [
       "<Figure size 640x480 with 1 Axes>"
      ]
     },
     "metadata": {},
     "output_type": "display_data"
    }
   ],
   "source": [
    "from matplotlib_venn import venn3, venn3_circles\n",
    "import matplotlib.pyplot as plt\n",
    "\n",
    "# Define your sets\n",
    "set1 = set(rdrp_protein_id)\n",
    "set2 = set(rdrp_hits_protein_id)\n",
    "set3 = set(rdrp_hhblits_hits)\n",
    "\n",
    "# Calculate intersections\n",
    "only1 = set1 - set2 - set3\n",
    "only2 = set2 - set1 - set3\n",
    "only3 = set3 - set1 - set2\n",
    "\n",
    "shared12 = (set1 & set2) - set3\n",
    "shared13 = (set1 & set3) - set2\n",
    "shared23 = (set2 & set3) - set1\n",
    "\n",
    "shared123 = set1 & set2 & set3\n",
    "\n",
    "# Create Venn diagram\n",
    "#venn3([set1, set2, set3], set_labels=('Set1', 'Set2', 'Set3'))\n",
    "\n",
    "venn3([set1, set2, set3], set_labels=('Set1', 'Set2', 'Set3'))\n",
    "circles = venn3_circles([set1, set2, set3], linestyle='solid', linewidth=1, color=\"black\")\n",
    "\n",
    "plt.savefig(\"./figures/RdRp_Pfam_vs_Network_vs_HHblits_search_venn_diagram.svg\", format=\"svg\")\n",
    "plt.show()"
   ]
  },
  {
   "cell_type": "code",
   "execution_count": null,
   "metadata": {},
   "outputs": [
    {
     "data": {
      "image/png": "[encoded data removed]",
      "text/plain": [
       "<Figure size 640x480 with 1 Axes>"
      ]
     },
     "metadata": {},
     "output_type": "display_data"
    }
   ],
   "source": [
    "from matplotlib_venn import venn3, venn3_circles\n",
    "import matplotlib.pyplot as plt\n",
    "\n",
    "# Define your sets\n",
    "set1 = set(rt_protein_id)\n",
    "set2 = set(rt_hits_protein_id)\n",
    "set3 = set(rt_hhblits_hits)\n",
    "\n",
    "# Calculate intersections\n",
    "only1 = set1 - set2 - set3\n",
    "only2 = set2 - set1 - set3\n",
    "only3 = set3 - set1 - set2\n",
    "\n",
    "shared12 = (set1 & set2) - set3\n",
    "shared13 = (set1 & set3) - set2\n",
    "shared23 = (set2 & set3) - set1\n",
    "\n",
    "shared123 = set1 & set2 & set3\n",
    "\n",
    "# Create Venn diagram\n",
    "#venn3([set1, set2, set3], set_labels=('Set1', 'Set2', 'Set3'))\n",
    "\n",
    "venn3([set1, set2, set3], set_labels=('Set1', 'Set2', 'Set3'))\n",
    "circles = venn3_circles([set1, set2, set3], linestyle='solid', linewidth=1, color=\"black\")\n",
    "\n",
    "plt.savefig(\"./figures/RT_Pfam_vs_Network_vs_HHblits_search_venn_diagram.svg\", format=\"svg\")\n",
    "plt.show()"
   ]
  },
  {
   "cell_type": "code",
   "execution_count": null,
   "metadata": {},
   "outputs": [
    {
     "data": {
      "image/png": "[encoded data removed]",
      "text/plain": [
       "<Figure size 640x480 with 1 Axes>"
      ]
     },
     "metadata": {},
     "output_type": "display_data"
    }
   ],
   "source": [
    "from matplotlib_venn import venn3, venn3_circles\n",
    "import matplotlib.pyplot as plt\n",
    "\n",
    "# Define your sets\n",
    "set1 = set(polb_protein_id)\n",
    "set2 = set(polb_hits_protein_id)\n",
    "set3 = set(polb_hhblits_hits)\n",
    "\n",
    "# Calculate intersections\n",
    "only1 = set1 - set2 - set3\n",
    "only2 = set2 - set1 - set3\n",
    "only3 = set3 - set1 - set2\n",
    "\n",
    "shared12 = (set1 & set2) - set3\n",
    "shared13 = (set1 & set3) - set2\n",
    "shared23 = (set2 & set3) - set1\n",
    "\n",
    "shared123 = set1 & set2 & set3\n",
    "\n",
    "# Create Venn diagram\n",
    "#venn3([set1, set2, set3], set_labels=('Set1', 'Set2', 'Set3'))\n",
    "\n",
    "venn3([set1, set2, set3], set_labels=('Set1', 'Set2', 'Set3'))\n",
    "circles = venn3_circles([set1, set2, set3], linestyle='solid', linewidth=1, color=\"black\")\n",
    "\n",
    "plt.savefig(\"./figures/PolB_Pfam_vs_Network_vs_HHblits_search_venn_diagram.svg\", format=\"svg\")\n",
    "plt.show()"
   ]
  },
  {
   "cell_type": "markdown",
   "metadata": {},
   "source": [
    "False-positive hits in PolB network results:\n",
    "\n",
    "- Poxvirus F12L proteins:\n",
    "    - cluster 334 (42 members, CF-AAL73754.1_12006_relaxed): Foldseek hit to PolB probe E-value 8.562000e-13\n",
    "\n",
    "- Herpesvirus DNA helicase/primase complex associated proteins:\n",
    "    - cluster 244 (56 members, CF-QBM10893.1_81_relaxed): Network hit to cluster 36 (E-value 9.602e-11) and cluster 230 (E-value 8.16e-10)\n",
    "    - cluster 405 (37 members, CF-QBN85127.1_95_relaxed): Network hit to cluster 36 (E-value 7.841e-11) and cluster 230 (E-value 4.033e-10)\n",
    "\n",
    "Clusters 36 and 230 are true-positive hits:\n",
    "    - cluster 36 (164 members, DNA polymerase family B, CF-CCA61358.1_11896_relaxed): Foldseek hit to PolB probe E-value 4.869000e-10\n",
    "    - cluster 230 (58 members, DNA polymerase family B, CF-ADO00461.1_11945_relaxed): Foldseek hit to PolB probe E-value 4.334000e-10"
   ]
  },
  {
   "cell_type": "code",
   "execution_count": 28,
   "metadata": {},
   "outputs": [
    {
     "data": {
      "text/plain": [
       "Signature Description\n",
       "Herpesvirus DNA helicase/primase complex associated protein    87\n",
       "Poxvirus F12L protein                                          42\n",
       "Herpesvirus helicase-primase complex component                 18\n",
       "Name: count, dtype: int64"
      ]
     },
     "execution_count": 28,
     "metadata": {},
     "output_type": "execute_result"
    }
   ],
   "source": [
    "df_pfam[df_pfam['Viro3D ID'].isin(list(set(polb_hits_protein_id) - set(polb_protein_id)))]['Signature Description'].value_counts()"
   ]
  },
  {
   "cell_type": "code",
   "execution_count": 30,
   "metadata": {},
   "outputs": [],
   "source": [
    "helicase_protein_ids = df_pfam[df_pfam['Viro3D ID'].isin(list(set(polb_hits_protein_id) - set(polb_protein_id))) &\n",
    "        (df_pfam['Signature Description'] == 'Herpesvirus DNA helicase/primase complex associated protein')]['Viro3D ID'].unique()"
   ]
  },
  {
   "cell_type": "code",
   "execution_count": 29,
   "metadata": {},
   "outputs": [],
   "source": [
    "f12l_protein_ids = df_pfam[df_pfam['Viro3D ID'].isin(list(set(polb_hits_protein_id) - set(polb_protein_id))) &\n",
    "        (df_pfam['Signature Description'] == 'Poxvirus F12L protein')]['Viro3D ID'].unique()"
   ]
  },
  {
   "cell_type": "code",
   "execution_count": 32,
   "metadata": {},
   "outputs": [],
   "source": [
    "primase_protein_ids = df_pfam[df_pfam['Viro3D ID'].isin(list(set(polb_hits_protein_id) - set(polb_protein_id))) &\n",
    "        (df_pfam['Signature Description'] == 'Herpesvirus helicase-primase complex component')]['Viro3D ID'].unique()"
   ]
  },
  {
   "cell_type": "code",
   "execution_count": 37,
   "metadata": {},
   "outputs": [
    {
     "data": {
      "text/plain": [
       "(87, 42)"
      ]
     },
     "execution_count": 37,
     "metadata": {},
     "output_type": "execute_result"
    }
   ],
   "source": [
    "len(helicase_protein_ids), len(f12l_protein_ids)"
   ]
  },
  {
   "cell_type": "code",
   "execution_count": 32,
   "metadata": {},
   "outputs": [
    {
     "data": {
      "text/html": [
       "<div>\n",
       "<style scoped>\n",
       "    .dataframe tbody tr th:only-of-type {\n",
       "        vertical-align: middle;\n",
       "    }\n",
       "\n",
       "    .dataframe tbody tr th {\n",
       "        vertical-align: top;\n",
       "    }\n",
       "\n",
       "    .dataframe thead th {\n",
       "        text-align: right;\n",
       "    }\n",
       "</style>\n",
       "<table border=\"1\" class=\"dataframe\">\n",
       "  <thead>\n",
       "    <tr style=\"text-align: right;\">\n",
       "      <th></th>\n",
       "      <th>ICTV Sort</th>\n",
       "      <th>ICTV Species</th>\n",
       "      <th>Viro3D ID</th>\n",
       "      <th>Viro3D Name</th>\n",
       "      <th>Peptide Category</th>\n",
       "      <th>GenBank Protein ID</th>\n",
       "      <th>UniProt ID</th>\n",
       "      <th>Protein Length</th>\n",
       "      <th>GenBank Genome Accession</th>\n",
       "      <th>GenBank Genome Coordinates</th>\n",
       "      <th>ESMFold pLDDT</th>\n",
       "      <th>ESMFold pTM</th>\n",
       "      <th>ColabFold pLDDT</th>\n",
       "      <th>ColabFold pTM</th>\n",
       "      <th>ColabFold median MSA depth</th>\n",
       "      <th>Protein Sequence</th>\n",
       "    </tr>\n",
       "  </thead>\n",
       "  <tbody>\n",
       "    <tr>\n",
       "      <th>3078</th>\n",
       "      <td>64</td>\n",
       "      <td>Simplexvirus humanalpha2</td>\n",
       "      <td>AEV91346.1_64</td>\n",
       "      <td>Gene: UL8; Product: helicase-primase subunit</td>\n",
       "      <td>protein</td>\n",
       "      <td>AEV91346.1</td>\n",
       "      <td>G9I229</td>\n",
       "      <td>752</td>\n",
       "      <td>JN561323.2</td>\n",
       "      <td>[18445:20703](-)</td>\n",
       "      <td>48.2</td>\n",
       "      <td>0.470</td>\n",
       "      <td>90.9</td>\n",
       "      <td>0.89</td>\n",
       "      <td>82.0</td>\n",
       "      <td>MEAPGIVWVEESVSAITLYAVWLPPRTRDCLHALLYLVCRDAAGEA...</td>\n",
       "    </tr>\n",
       "    <tr>\n",
       "      <th>4038</th>\n",
       "      <td>77</td>\n",
       "      <td>Varicellovirus bovinealpha1</td>\n",
       "      <td>AFV53411.1_77</td>\n",
       "      <td>Gene: UL8; Product: component of DNA helicase/...</td>\n",
       "      <td>protein</td>\n",
       "      <td>AFV53411.1</td>\n",
       "      <td>K4P1J6</td>\n",
       "      <td>748</td>\n",
       "      <td>JX898220.1</td>\n",
       "      <td>[88696:90942](+)</td>\n",
       "      <td>52.0</td>\n",
       "      <td>0.561</td>\n",
       "      <td>90.9</td>\n",
       "      <td>0.90</td>\n",
       "      <td>82.0</td>\n",
       "      <td>MPVSHSNGCVCGVSLYSAWAAGPDRARVLLALLCRMDDGGCDAKFA...</td>\n",
       "    </tr>\n",
       "    <tr>\n",
       "      <th>4111</th>\n",
       "      <td>78</td>\n",
       "      <td>Varicellovirus bovinealpha5</td>\n",
       "      <td>AAR86154.1_78</td>\n",
       "      <td>Product: UL8 component of DNA helicase/primase...</td>\n",
       "      <td>protein</td>\n",
       "      <td>AAR86154.1</td>\n",
       "      <td>Q6X219</td>\n",
       "      <td>757</td>\n",
       "      <td>AY261359.1</td>\n",
       "      <td>[90216:92489](+)</td>\n",
       "      <td>49.5</td>\n",
       "      <td>0.544</td>\n",
       "      <td>91.0</td>\n",
       "      <td>0.90</td>\n",
       "      <td>81.0</td>\n",
       "      <td>MPVSYSTGCICGVSLYSAWAAGPDRARVLLALLCRRGDGGCDAVFA...</td>\n",
       "    </tr>\n",
       "    <tr>\n",
       "      <th>4936</th>\n",
       "      <td>89</td>\n",
       "      <td>Varicellovirus equidalpha6</td>\n",
       "      <td>QPI70164.1_89</td>\n",
       "      <td>Product: helicase-primase subunit</td>\n",
       "      <td>protein</td>\n",
       "      <td>QPI70164.1</td>\n",
       "      <td>A0A7S9VN03</td>\n",
       "      <td>752</td>\n",
       "      <td>MT012704.1</td>\n",
       "      <td>[96345:98603](+)</td>\n",
       "      <td>47.9</td>\n",
       "      <td>0.491</td>\n",
       "      <td>91.4</td>\n",
       "      <td>0.90</td>\n",
       "      <td>82.0</td>\n",
       "      <td>MAGRDVEWAAGCVCATSIYSTWTDPADPGALQALVHLLCRREGGDY...</td>\n",
       "    </tr>\n",
       "    <tr>\n",
       "      <th>4335</th>\n",
       "      <td>81</td>\n",
       "      <td>Varicellovirus caprinealpha1</td>\n",
       "      <td>QBM10893.1_81</td>\n",
       "      <td>Gene: UL8; Product: DNA helicase/primase compl...</td>\n",
       "      <td>protein</td>\n",
       "      <td>QBM10893.1</td>\n",
       "      <td>A0AAF1D214</td>\n",
       "      <td>737</td>\n",
       "      <td>MG989243.1</td>\n",
       "      <td>[84447:86660](+)</td>\n",
       "      <td>50.7</td>\n",
       "      <td>0.528</td>\n",
       "      <td>92.9</td>\n",
       "      <td>0.90</td>\n",
       "      <td>82.0</td>\n",
       "      <td>MPVTYSVGCVCSVALYSAWAASPDRARVLLYLLCRESDGSCDAKFA...</td>\n",
       "    </tr>\n",
       "  </tbody>\n",
       "</table>\n",
       "</div>"
      ],
      "text/plain": [
       "      ICTV Sort                  ICTV Species      Viro3D ID  \\\n",
       "3078         64      Simplexvirus humanalpha2  AEV91346.1_64   \n",
       "4038         77   Varicellovirus bovinealpha1  AFV53411.1_77   \n",
       "4111         78   Varicellovirus bovinealpha5  AAR86154.1_78   \n",
       "4936         89    Varicellovirus equidalpha6  QPI70164.1_89   \n",
       "4335         81  Varicellovirus caprinealpha1  QBM10893.1_81   \n",
       "\n",
       "                                            Viro3D Name Peptide Category  \\\n",
       "3078       Gene: UL8; Product: helicase-primase subunit          protein   \n",
       "4038  Gene: UL8; Product: component of DNA helicase/...          protein   \n",
       "4111  Product: UL8 component of DNA helicase/primase...          protein   \n",
       "4936                  Product: helicase-primase subunit          protein   \n",
       "4335  Gene: UL8; Product: DNA helicase/primase compl...          protein   \n",
       "\n",
       "     GenBank Protein ID  UniProt ID  Protein Length GenBank Genome Accession  \\\n",
       "3078         AEV91346.1      G9I229             752               JN561323.2   \n",
       "4038         AFV53411.1      K4P1J6             748               JX898220.1   \n",
       "4111         AAR86154.1      Q6X219             757               AY261359.1   \n",
       "4936         QPI70164.1  A0A7S9VN03             752               MT012704.1   \n",
       "4335         QBM10893.1  A0AAF1D214             737               MG989243.1   \n",
       "\n",
       "     GenBank Genome Coordinates  ESMFold pLDDT  ESMFold pTM  ColabFold pLDDT  \\\n",
       "3078           [18445:20703](-)           48.2        0.470             90.9   \n",
       "4038           [88696:90942](+)           52.0        0.561             90.9   \n",
       "4111           [90216:92489](+)           49.5        0.544             91.0   \n",
       "4936           [96345:98603](+)           47.9        0.491             91.4   \n",
       "4335           [84447:86660](+)           50.7        0.528             92.9   \n",
       "\n",
       "      ColabFold pTM  ColabFold median MSA depth  \\\n",
       "3078           0.89                        82.0   \n",
       "4038           0.90                        82.0   \n",
       "4111           0.90                        81.0   \n",
       "4936           0.90                        82.0   \n",
       "4335           0.90                        82.0   \n",
       "\n",
       "                                       Protein Sequence  \n",
       "3078  MEAPGIVWVEESVSAITLYAVWLPPRTRDCLHALLYLVCRDAAGEA...  \n",
       "4038  MPVSHSNGCVCGVSLYSAWAAGPDRARVLLALLCRMDDGGCDAKFA...  \n",
       "4111  MPVSYSTGCICGVSLYSAWAAGPDRARVLLALLCRRGDGGCDAVFA...  \n",
       "4936  MAGRDVEWAAGCVCATSIYSTWTDPADPGALQALVHLLCRREGGDY...  \n",
       "4335  MPVTYSVGCVCSVALYSAWAASPDRARVLLYLLCRESDGSCDAKFA...  "
      ]
     },
     "execution_count": 32,
     "metadata": {},
     "output_type": "execute_result"
    }
   ],
   "source": [
    "df_proteins[df_proteins['Viro3D ID'].isin(helicase_protein_ids)].sort_values(by=['ColabFold pLDDT']).tail(5)"
   ]
  },
  {
   "cell_type": "code",
   "execution_count": 30,
   "metadata": {},
   "outputs": [
    {
     "data": {
      "text/html": [
       "<div>\n",
       "<style scoped>\n",
       "    .dataframe tbody tr th:only-of-type {\n",
       "        vertical-align: middle;\n",
       "    }\n",
       "\n",
       "    .dataframe tbody tr th {\n",
       "        vertical-align: top;\n",
       "    }\n",
       "\n",
       "    .dataframe thead th {\n",
       "        text-align: right;\n",
       "    }\n",
       "</style>\n",
       "<table border=\"1\" class=\"dataframe\">\n",
       "  <thead>\n",
       "    <tr style=\"text-align: right;\">\n",
       "      <th></th>\n",
       "      <th>ICTV Sort</th>\n",
       "      <th>ICTV Species</th>\n",
       "      <th>Viro3D ID</th>\n",
       "      <th>Viro3D Name</th>\n",
       "      <th>Peptide Category</th>\n",
       "      <th>GenBank Protein ID</th>\n",
       "      <th>UniProt ID</th>\n",
       "      <th>Protein Length</th>\n",
       "      <th>GenBank Genome Accession</th>\n",
       "      <th>GenBank Genome Coordinates</th>\n",
       "      <th>ESMFold pLDDT</th>\n",
       "      <th>ESMFold pTM</th>\n",
       "      <th>ColabFold pLDDT</th>\n",
       "      <th>ColabFold pTM</th>\n",
       "      <th>ColabFold median MSA depth</th>\n",
       "      <th>Protein Sequence</th>\n",
       "    </tr>\n",
       "  </thead>\n",
       "  <tbody>\n",
       "    <tr>\n",
       "      <th>51578</th>\n",
       "      <td>12005</td>\n",
       "      <td>Akhmeta virus</td>\n",
       "      <td>AXN74841.1_12005</td>\n",
       "      <td>Product: IEV maturation protein</td>\n",
       "      <td>protein</td>\n",
       "      <td>AXN74841.1</td>\n",
       "      <td>A0A346FS18</td>\n",
       "      <td>636</td>\n",
       "      <td>MH607141.1</td>\n",
       "      <td>[53667:55577](-)</td>\n",
       "      <td>50.4</td>\n",
       "      <td>0.513</td>\n",
       "      <td>88.7</td>\n",
       "      <td>0.85</td>\n",
       "      <td>63.0</td>\n",
       "      <td>MLNRVQILMKTANNYETIEILRNYLRLYIILARNEEGRGILIYDDN...</td>\n",
       "    </tr>\n",
       "    <tr>\n",
       "      <th>52023</th>\n",
       "      <td>12007</td>\n",
       "      <td>Cowpox virus</td>\n",
       "      <td>AAM13505.1_12007</td>\n",
       "      <td>Gene: CPXV060 CDS; Product: CPXV060 protein</td>\n",
       "      <td>protein</td>\n",
       "      <td>AAM13505.1</td>\n",
       "      <td>Q8QN06</td>\n",
       "      <td>634</td>\n",
       "      <td>AF482758.2</td>\n",
       "      <td>[55566:57470](-)</td>\n",
       "      <td>59.6</td>\n",
       "      <td>0.535</td>\n",
       "      <td>88.7</td>\n",
       "      <td>0.85</td>\n",
       "      <td>63.0</td>\n",
       "      <td>MLNRIQTLMKTANNYETIEILRNYLRLYIILARNEEGRGILIYDDN...</td>\n",
       "    </tr>\n",
       "    <tr>\n",
       "      <th>52596</th>\n",
       "      <td>12010</td>\n",
       "      <td>Raccoonpox virus</td>\n",
       "      <td>AKJ93679.1_12010</td>\n",
       "      <td>Product: Exclusive to IEV</td>\n",
       "      <td>protein</td>\n",
       "      <td>AKJ93679.1</td>\n",
       "      <td>A0A0G3FZY6</td>\n",
       "      <td>637</td>\n",
       "      <td>KP143769.1</td>\n",
       "      <td>[45173:47086](-)</td>\n",
       "      <td>58.4</td>\n",
       "      <td>0.607</td>\n",
       "      <td>88.9</td>\n",
       "      <td>0.86</td>\n",
       "      <td>62.0</td>\n",
       "      <td>MLRRIQTLLQTANDYETIEILRNYLRLYMILARNEEGRGIIIYNDN...</td>\n",
       "    </tr>\n",
       "    <tr>\n",
       "      <th>52392</th>\n",
       "      <td>12009</td>\n",
       "      <td>Monkeypox virus</td>\n",
       "      <td>AAL40502.1_12009</td>\n",
       "      <td>Gene: C18L; Note: similar to Vaccinia virus st...</td>\n",
       "      <td>protein</td>\n",
       "      <td>AAL40502.1</td>\n",
       "      <td>Q8V536</td>\n",
       "      <td>635</td>\n",
       "      <td>AF380138.1</td>\n",
       "      <td>[39154:41061](-)</td>\n",
       "      <td>57.2</td>\n",
       "      <td>0.538</td>\n",
       "      <td>89.1</td>\n",
       "      <td>0.86</td>\n",
       "      <td>62.0</td>\n",
       "      <td>MLNRIQTLMKTANNYETIEILRNYLRLYIILARNEEGRGILIYDDN...</td>\n",
       "    </tr>\n",
       "    <tr>\n",
       "      <th>51796</th>\n",
       "      <td>12006</td>\n",
       "      <td>Camelpox virus</td>\n",
       "      <td>AAL73754.1_12006</td>\n",
       "      <td>Product: putative EEV maturation protein</td>\n",
       "      <td>protein</td>\n",
       "      <td>AAL73754.1</td>\n",
       "      <td>Q8V2X0</td>\n",
       "      <td>635</td>\n",
       "      <td>AF438165.1</td>\n",
       "      <td>[41769:43676](-)</td>\n",
       "      <td>56.6</td>\n",
       "      <td>0.540</td>\n",
       "      <td>89.4</td>\n",
       "      <td>0.86</td>\n",
       "      <td>62.0</td>\n",
       "      <td>MLNRVQILMKTANNYETIEILRNYLRLYIILARNEEGHGILIYDDN...</td>\n",
       "    </tr>\n",
       "  </tbody>\n",
       "</table>\n",
       "</div>"
      ],
      "text/plain": [
       "       ICTV Sort      ICTV Species         Viro3D ID  \\\n",
       "51578      12005     Akhmeta virus  AXN74841.1_12005   \n",
       "52023      12007      Cowpox virus  AAM13505.1_12007   \n",
       "52596      12010  Raccoonpox virus  AKJ93679.1_12010   \n",
       "52392      12009   Monkeypox virus  AAL40502.1_12009   \n",
       "51796      12006    Camelpox virus  AAL73754.1_12006   \n",
       "\n",
       "                                             Viro3D Name Peptide Category  \\\n",
       "51578                    Product: IEV maturation protein          protein   \n",
       "52023        Gene: CPXV060 CDS; Product: CPXV060 protein          protein   \n",
       "52596                          Product: Exclusive to IEV          protein   \n",
       "52392  Gene: C18L; Note: similar to Vaccinia virus st...          protein   \n",
       "51796           Product: putative EEV maturation protein          protein   \n",
       "\n",
       "      GenBank Protein ID  UniProt ID  Protein Length GenBank Genome Accession  \\\n",
       "51578         AXN74841.1  A0A346FS18             636               MH607141.1   \n",
       "52023         AAM13505.1      Q8QN06             634               AF482758.2   \n",
       "52596         AKJ93679.1  A0A0G3FZY6             637               KP143769.1   \n",
       "52392         AAL40502.1      Q8V536             635               AF380138.1   \n",
       "51796         AAL73754.1      Q8V2X0             635               AF438165.1   \n",
       "\n",
       "      GenBank Genome Coordinates  ESMFold pLDDT  ESMFold pTM  ColabFold pLDDT  \\\n",
       "51578           [53667:55577](-)           50.4        0.513             88.7   \n",
       "52023           [55566:57470](-)           59.6        0.535             88.7   \n",
       "52596           [45173:47086](-)           58.4        0.607             88.9   \n",
       "52392           [39154:41061](-)           57.2        0.538             89.1   \n",
       "51796           [41769:43676](-)           56.6        0.540             89.4   \n",
       "\n",
       "       ColabFold pTM  ColabFold median MSA depth  \\\n",
       "51578           0.85                        63.0   \n",
       "52023           0.85                        63.0   \n",
       "52596           0.86                        62.0   \n",
       "52392           0.86                        62.0   \n",
       "51796           0.86                        62.0   \n",
       "\n",
       "                                        Protein Sequence  \n",
       "51578  MLNRVQILMKTANNYETIEILRNYLRLYIILARNEEGRGILIYDDN...  \n",
       "52023  MLNRIQTLMKTANNYETIEILRNYLRLYIILARNEEGRGILIYDDN...  \n",
       "52596  MLRRIQTLLQTANDYETIEILRNYLRLYMILARNEEGRGIIIYNDN...  \n",
       "52392  MLNRIQTLMKTANNYETIEILRNYLRLYIILARNEEGRGILIYDDN...  \n",
       "51796  MLNRVQILMKTANNYETIEILRNYLRLYIILARNEEGHGILIYDDN...  "
      ]
     },
     "execution_count": 30,
     "metadata": {},
     "output_type": "execute_result"
    }
   ],
   "source": [
    "df_proteins[df_proteins['Viro3D ID'].isin(f12l_protein_ids)].sort_values(by=['ColabFold pLDDT']).tail(5)"
   ]
  },
  {
   "cell_type": "code",
   "execution_count": 26,
   "metadata": {},
   "outputs": [
    {
     "data": {
      "text/html": [
       "<div>\n",
       "<style scoped>\n",
       "    .dataframe tbody tr th:only-of-type {\n",
       "        vertical-align: middle;\n",
       "    }\n",
       "\n",
       "    .dataframe tbody tr th {\n",
       "        vertical-align: top;\n",
       "    }\n",
       "\n",
       "    .dataframe thead th {\n",
       "        text-align: right;\n",
       "    }\n",
       "</style>\n",
       "<table border=\"1\" class=\"dataframe\">\n",
       "  <thead>\n",
       "    <tr style=\"text-align: right;\">\n",
       "      <th></th>\n",
       "      <th>ICTV Sort</th>\n",
       "      <th>ICTV Species</th>\n",
       "      <th>Viro3D ID</th>\n",
       "      <th>Viro3D Name</th>\n",
       "      <th>Peptide Category</th>\n",
       "      <th>GenBank Protein ID</th>\n",
       "      <th>UniProt ID</th>\n",
       "      <th>Protein Length</th>\n",
       "      <th>GenBank Genome Accession</th>\n",
       "      <th>GenBank Genome Coordinates</th>\n",
       "      <th>ESMFold pLDDT</th>\n",
       "      <th>ESMFold pTM</th>\n",
       "      <th>ColabFold pLDDT</th>\n",
       "      <th>ColabFold pTM</th>\n",
       "      <th>ColabFold median MSA depth</th>\n",
       "      <th>Protein Sequence</th>\n",
       "    </tr>\n",
       "  </thead>\n",
       "  <tbody>\n",
       "    <tr>\n",
       "      <th>4038</th>\n",
       "      <td>77</td>\n",
       "      <td>Varicellovirus bovinealpha1</td>\n",
       "      <td>AFV53411.1_77</td>\n",
       "      <td>Gene: UL8; Product: component of DNA helicase/...</td>\n",
       "      <td>protein</td>\n",
       "      <td>AFV53411.1</td>\n",
       "      <td>K4P1J6</td>\n",
       "      <td>748</td>\n",
       "      <td>JX898220.1</td>\n",
       "      <td>[88696:90942](+)</td>\n",
       "      <td>52.0</td>\n",
       "      <td>0.561</td>\n",
       "      <td>90.9</td>\n",
       "      <td>0.90</td>\n",
       "      <td>82.0</td>\n",
       "      <td>MPVSHSNGCVCGVSLYSAWAAGPDRARVLLALLCRMDDGGCDAKFA...</td>\n",
       "    </tr>\n",
       "    <tr>\n",
       "      <th>3078</th>\n",
       "      <td>64</td>\n",
       "      <td>Simplexvirus humanalpha2</td>\n",
       "      <td>AEV91346.1_64</td>\n",
       "      <td>Gene: UL8; Product: helicase-primase subunit</td>\n",
       "      <td>protein</td>\n",
       "      <td>AEV91346.1</td>\n",
       "      <td>G9I229</td>\n",
       "      <td>752</td>\n",
       "      <td>JN561323.2</td>\n",
       "      <td>[18445:20703](-)</td>\n",
       "      <td>48.2</td>\n",
       "      <td>0.470</td>\n",
       "      <td>90.9</td>\n",
       "      <td>0.89</td>\n",
       "      <td>82.0</td>\n",
       "      <td>MEAPGIVWVEESVSAITLYAVWLPPRTRDCLHALLYLVCRDAAGEA...</td>\n",
       "    </tr>\n",
       "    <tr>\n",
       "      <th>4111</th>\n",
       "      <td>78</td>\n",
       "      <td>Varicellovirus bovinealpha5</td>\n",
       "      <td>AAR86154.1_78</td>\n",
       "      <td>Product: UL8 component of DNA helicase/primase...</td>\n",
       "      <td>protein</td>\n",
       "      <td>AAR86154.1</td>\n",
       "      <td>Q6X219</td>\n",
       "      <td>757</td>\n",
       "      <td>AY261359.1</td>\n",
       "      <td>[90216:92489](+)</td>\n",
       "      <td>49.5</td>\n",
       "      <td>0.544</td>\n",
       "      <td>91.0</td>\n",
       "      <td>0.90</td>\n",
       "      <td>81.0</td>\n",
       "      <td>MPVSYSTGCICGVSLYSAWAAGPDRARVLLALLCRRGDGGCDAVFA...</td>\n",
       "    </tr>\n",
       "    <tr>\n",
       "      <th>4936</th>\n",
       "      <td>89</td>\n",
       "      <td>Varicellovirus equidalpha6</td>\n",
       "      <td>QPI70164.1_89</td>\n",
       "      <td>Product: helicase-primase subunit</td>\n",
       "      <td>protein</td>\n",
       "      <td>QPI70164.1</td>\n",
       "      <td>A0A7S9VN03</td>\n",
       "      <td>752</td>\n",
       "      <td>MT012704.1</td>\n",
       "      <td>[96345:98603](+)</td>\n",
       "      <td>47.9</td>\n",
       "      <td>0.491</td>\n",
       "      <td>91.4</td>\n",
       "      <td>0.90</td>\n",
       "      <td>82.0</td>\n",
       "      <td>MAGRDVEWAAGCVCATSIYSTWTDPADPGALQALVHLLCRREGGDY...</td>\n",
       "    </tr>\n",
       "    <tr>\n",
       "      <th>4335</th>\n",
       "      <td>81</td>\n",
       "      <td>Varicellovirus caprinealpha1</td>\n",
       "      <td>QBM10893.1_81</td>\n",
       "      <td>Gene: UL8; Product: DNA helicase/primase compl...</td>\n",
       "      <td>protein</td>\n",
       "      <td>QBM10893.1</td>\n",
       "      <td>A0AAF1D214</td>\n",
       "      <td>737</td>\n",
       "      <td>MG989243.1</td>\n",
       "      <td>[84447:86660](+)</td>\n",
       "      <td>50.7</td>\n",
       "      <td>0.528</td>\n",
       "      <td>92.9</td>\n",
       "      <td>0.90</td>\n",
       "      <td>82.0</td>\n",
       "      <td>MPVTYSVGCVCSVALYSAWAASPDRARVLLYLLCRESDGSCDAKFA...</td>\n",
       "    </tr>\n",
       "  </tbody>\n",
       "</table>\n",
       "</div>"
      ],
      "text/plain": [
       "      ICTV Sort                  ICTV Species      Viro3D ID  \\\n",
       "4038         77   Varicellovirus bovinealpha1  AFV53411.1_77   \n",
       "3078         64      Simplexvirus humanalpha2  AEV91346.1_64   \n",
       "4111         78   Varicellovirus bovinealpha5  AAR86154.1_78   \n",
       "4936         89    Varicellovirus equidalpha6  QPI70164.1_89   \n",
       "4335         81  Varicellovirus caprinealpha1  QBM10893.1_81   \n",
       "\n",
       "                                            Viro3D Name Peptide Category  \\\n",
       "4038  Gene: UL8; Product: component of DNA helicase/...          protein   \n",
       "3078       Gene: UL8; Product: helicase-primase subunit          protein   \n",
       "4111  Product: UL8 component of DNA helicase/primase...          protein   \n",
       "4936                  Product: helicase-primase subunit          protein   \n",
       "4335  Gene: UL8; Product: DNA helicase/primase compl...          protein   \n",
       "\n",
       "     GenBank Protein ID  UniProt ID  Protein Length GenBank Genome Accession  \\\n",
       "4038         AFV53411.1      K4P1J6             748               JX898220.1   \n",
       "3078         AEV91346.1      G9I229             752               JN561323.2   \n",
       "4111         AAR86154.1      Q6X219             757               AY261359.1   \n",
       "4936         QPI70164.1  A0A7S9VN03             752               MT012704.1   \n",
       "4335         QBM10893.1  A0AAF1D214             737               MG989243.1   \n",
       "\n",
       "     GenBank Genome Coordinates  ESMFold pLDDT  ESMFold pTM  ColabFold pLDDT  \\\n",
       "4038           [88696:90942](+)           52.0        0.561             90.9   \n",
       "3078           [18445:20703](-)           48.2        0.470             90.9   \n",
       "4111           [90216:92489](+)           49.5        0.544             91.0   \n",
       "4936           [96345:98603](+)           47.9        0.491             91.4   \n",
       "4335           [84447:86660](+)           50.7        0.528             92.9   \n",
       "\n",
       "      ColabFold pTM  ColabFold median MSA depth  \\\n",
       "4038           0.90                        82.0   \n",
       "3078           0.89                        82.0   \n",
       "4111           0.90                        81.0   \n",
       "4936           0.90                        82.0   \n",
       "4335           0.90                        82.0   \n",
       "\n",
       "                                       Protein Sequence  \n",
       "4038  MPVSHSNGCVCGVSLYSAWAAGPDRARVLLALLCRMDDGGCDAKFA...  \n",
       "3078  MEAPGIVWVEESVSAITLYAVWLPPRTRDCLHALLYLVCRDAAGEA...  \n",
       "4111  MPVSYSTGCICGVSLYSAWAAGPDRARVLLALLCRRGDGGCDAVFA...  \n",
       "4936  MAGRDVEWAAGCVCATSIYSTWTDPADPGALQALVHLLCRREGGDY...  \n",
       "4335  MPVTYSVGCVCSVALYSAWAASPDRARVLLYLLCRESDGSCDAKFA...  "
      ]
     },
     "execution_count": 26,
     "metadata": {},
     "output_type": "execute_result"
    }
   ],
   "source": [
    "df_proteins[df_proteins['Viro3D ID'].isin(list(set(polb_hits_protein_id) - set(polb_protein_id)))].sort_values(by=['ColabFold pLDDT']).tail(5)"
   ]
  },
  {
   "cell_type": "code",
   "execution_count": 46,
   "metadata": {},
   "outputs": [
    {
     "data": {
      "text/plain": [
       "Signature Description\n",
       "DNA polymerase family B                                   369\n",
       "DNA polymerase family B, exonuclease domain               321\n",
       "DNA polymerase type B, organellar and viral               173\n",
       "DNA polymerase family B viral insert                       51\n",
       "Poxvirus F12L protein                                      42\n",
       "DNA polymerase family B exonuclease domain, N-terminal     42\n",
       "DNA polymerase catalytic subunit Pol                       22\n",
       "RNase_H superfamily                                         2\n",
       "Name: count, dtype: int64"
      ]
     },
     "execution_count": 46,
     "metadata": {},
     "output_type": "execute_result"
    }
   ],
   "source": [
    "df_pfam[df_pfam['Viro3D ID'].isin(foldseek_polb_hits)]['Signature Description'].value_counts()"
   ]
  },
  {
   "cell_type": "markdown",
   "metadata": {},
   "source": [
    "## Virus isolates overlap"
   ]
  },
  {
   "cell_type": "code",
   "execution_count": 70,
   "metadata": {},
   "outputs": [
    {
     "data": {
      "image/png": "[encoded data removed]",
      "text/plain": [
       "<Figure size 640x480 with 1 Axes>"
      ]
     },
     "metadata": {},
     "output_type": "display_data"
    }
   ],
   "source": [
    "# import modules \n",
    "from matplotlib_venn import venn2,venn2_circles \n",
    "from matplotlib import pyplot as plt \n",
    "\n",
    "# depict venn diagram \n",
    "venn2(\n",
    "    subsets = (42, 43, 2098), \n",
    "\tset_labels = ('Pfam', 'Network'), \n",
    "\tset_colors=(\"#F0E442\", \"#009E73\"),\n",
    "    alpha=0.7)\n",
    "\n",
    "# add outline \n",
    "venn2_circles(\n",
    "    subsets=(42, 43, 2098),\n",
    "    linestyle=\"solid\",\n",
    "    linewidth=1) \n",
    "\n",
    "plt.savefig(\"pfam/RdRp_Pfam_vs_Network_search_venn_diagram.svg\", format=\"svg\")\n",
    "plt.show()"
   ]
  },
  {
   "cell_type": "code",
   "execution_count": 87,
   "metadata": {},
   "outputs": [
    {
     "data": {
      "text/plain": [
       "ICTV Family\n",
       "Sedoreoviridae      17\n",
       "Qinviridae           7\n",
       "Nodaviridae          6\n",
       "Mesoniviridae        4\n",
       "Hypoviridae          2\n",
       "Euroniviridae        1\n",
       "Mononiviridae        1\n",
       "Nairoviridae         1\n",
       "Picobirnaviridae     1\n",
       "Phasmaviridae        1\n",
       "Picornaviridae       1\n",
       "Yueviridae           1\n",
       "Name: count, dtype: int64"
      ]
     },
     "execution_count": 87,
     "metadata": {},
     "output_type": "execute_result"
    }
   ],
   "source": [
    "df_viruses[df_viruses['ICTV Sort'].isin(list(set(rdrp_hits_virus_sort) - set(rdrp_virus_sort)))]['ICTV Family'].value_counts()"
   ]
  },
  {
   "cell_type": "code",
   "execution_count": 88,
   "metadata": {},
   "outputs": [
    {
     "data": {
      "text/plain": [
       "ICTV Family\n",
       "Picornaviridae         552\n",
       "Rhabdoviridae          234\n",
       "Peribunyaviridae       188\n",
       "Flaviviridae           144\n",
       "Phenuiviridae          140\n",
       "Paramyxoviridae         86\n",
       "Arenaviridae            67\n",
       "Coronaviridae           57\n",
       "Hantaviridae            52\n",
       "Nairoviridae            46\n",
       "Togaviridae             42\n",
       "Chuviridae              42\n",
       "Spinareoviridae         38\n",
       "Lispiviridae            30\n",
       "Caliciviridae           27\n",
       "Hepeviridae             24\n",
       "Arteriviridae           23\n",
       "Nyamiviridae            22\n",
       "Orthomyxoviridae        21\n",
       "Sedoreoviridae          20\n",
       "Tobaniviridae           20\n",
       "Astroviridae            20\n",
       "Bornaviridae            20\n",
       "Dicistroviridae         16\n",
       "Birnaviridae            16\n",
       "Iflaviridae             16\n",
       "Filoviridae             16\n",
       "Phasmaviridae           15\n",
       "Xinmoviridae            14\n",
       "Nodaviridae             12\n",
       "Aliusviridae            12\n",
       "Mesoniviridae           10\n",
       "Polycipiviridae          8\n",
       "Artoviridae              8\n",
       "Roniviridae              4\n",
       "Picobirnaviridae         4\n",
       "Pneumoviridae            4\n",
       "Matonaviridae            3\n",
       "Cruliviridae             3\n",
       "Sinhaliviridae           2\n",
       "Solinviviridae           2\n",
       "Medioniviridae           2\n",
       "Permutotetraviridae      2\n",
       "Euroniviridae            2\n",
       "Mymonaviridae            2\n",
       "Crepuscuviridae          1\n",
       "Cremegaviridae           1\n",
       "Gresnaviridae            1\n",
       "Carmotetraviridae        1\n",
       "Nanhypoviridae           1\n",
       "Natareviridae            1\n",
       "Olifoviridae             1\n",
       "Myriaviridae             1\n",
       "Sunviridae               1\n",
       "Tymoviridae              1\n",
       "Name: count, dtype: int64"
      ]
     },
     "execution_count": 88,
     "metadata": {},
     "output_type": "execute_result"
    }
   ],
   "source": [
    "df_viruses[df_viruses['ICTV Sort'].isin(list(set(rdrp_hits_virus_sort) & set(rdrp_virus_sort)))]['ICTV Family'].value_counts()"
   ]
  },
  {
   "cell_type": "code",
   "execution_count": 80,
   "metadata": {},
   "outputs": [
    {
     "data": {
      "text/plain": [
       "ICTV Family\n",
       "Phasmaviridae        13\n",
       "Hantaviridae          5\n",
       "Rhabdoviridae         5\n",
       "Phenuiviridae         4\n",
       "Arenaviridae          3\n",
       "Alphatetraviridae     3\n",
       "Nairoviridae          2\n",
       "Cremegaviridae        1\n",
       "Bornaviridae          1\n",
       "Caliciviridae         1\n",
       "Orthomyxoviridae      1\n",
       "Mypoviridae           1\n",
       "Matonaviridae         1\n",
       "Wupedeviridae         1\n",
       "Name: count, dtype: int64"
      ]
     },
     "execution_count": 80,
     "metadata": {},
     "output_type": "execute_result"
    }
   ],
   "source": [
    "df_viruses[df_viruses['ICTV Sort'].isin(list(set(rdrp_virus_sort) - set(rdrp_hits_virus_sort)))]['ICTV Family'].value_counts()"
   ]
  },
  {
   "cell_type": "code",
   "execution_count": 71,
   "metadata": {},
   "outputs": [
    {
     "data": {
      "image/png": "[encoded data removed]",
      "text/plain": [
       "<Figure size 640x480 with 1 Axes>"
      ]
     },
     "metadata": {},
     "output_type": "display_data"
    }
   ],
   "source": [
    "# import modules \n",
    "from matplotlib_venn import venn2,venn2_circles \n",
    "from matplotlib import pyplot as plt \n",
    "\n",
    "# depict venn diagram \n",
    "venn2(\n",
    "    subsets = (0, 4, 106), \n",
    "\tset_labels = ('Pfam', 'Network'), \n",
    "\tset_colors=(\"#F0E442\", \"#009E73\"),\n",
    "    alpha=0.7)\n",
    "\n",
    "# add outline \n",
    "venn2_circles(\n",
    "    subsets=(0, 4, 106),\n",
    "    linestyle=\"solid\",\n",
    "    linewidth=1) \n",
    "\n",
    "plt.savefig(\"pfam/RT_Pfam_vs_Network_search_venn_diagram.svg\", format=\"svg\")\n",
    "plt.show()"
   ]
  },
  {
   "cell_type": "code",
   "execution_count": 85,
   "metadata": {},
   "outputs": [
    {
     "data": {
      "text/plain": [
       "ICTV Family\n",
       "Belpaoviridae    4\n",
       "Name: count, dtype: int64"
      ]
     },
     "execution_count": 85,
     "metadata": {},
     "output_type": "execute_result"
    }
   ],
   "source": [
    "df_viruses[df_viruses['ICTV Sort'].isin(list(set(rt_hits_virus_sort) - set(rt_virus_sort)))]['ICTV Family'].value_counts()"
   ]
  },
  {
   "cell_type": "code",
   "execution_count": 86,
   "metadata": {},
   "outputs": [
    {
     "data": {
      "text/plain": [
       "ICTV Family\n",
       "Retroviridae      44\n",
       "Hepadnaviridae    39\n",
       "Metaviridae       18\n",
       "Belpaoviridae      3\n",
       "Pseudoviridae      2\n",
       "Name: count, dtype: int64"
      ]
     },
     "execution_count": 86,
     "metadata": {},
     "output_type": "execute_result"
    }
   ],
   "source": [
    "df_viruses[df_viruses['ICTV Sort'].isin(list(set(rt_hits_virus_sort) & set(rt_virus_sort)))]['ICTV Family'].value_counts()"
   ]
  },
  {
   "cell_type": "code",
   "execution_count": 78,
   "metadata": {},
   "outputs": [
    {
     "data": {
      "text/plain": [
       "Series([], Name: count, dtype: int64)"
      ]
     },
     "execution_count": 78,
     "metadata": {},
     "output_type": "execute_result"
    }
   ],
   "source": [
    "df_viruses[df_viruses['ICTV Sort'].isin(list(set(rt_virus_sort) - set(rt_hits_virus_sort)))]['ICTV Family'].value_counts()"
   ]
  },
  {
   "cell_type": "code",
   "execution_count": 74,
   "metadata": {},
   "outputs": [
    {
     "data": {
      "image/png": "[encoded data removed]",
      "text/plain": [
       "<Figure size 640x480 with 1 Axes>"
      ]
     },
     "metadata": {},
     "output_type": "display_data"
    }
   ],
   "source": [
    "# import modules \n",
    "from matplotlib_venn import venn2,venn2_circles \n",
    "from matplotlib import pyplot as plt \n",
    "\n",
    "# depict venn diagram \n",
    "venn2(\n",
    "    subsets = (27, 8, 511), \n",
    "\tset_labels = ('Pfam', 'Network'), \n",
    "\tset_colors=(\"#F0E442\", \"#009E73\"),\n",
    "    alpha=0.7)\n",
    "\n",
    "# add outline \n",
    "venn2_circles(\n",
    "    subsets=(27, 8, 511),\n",
    "    linestyle=\"solid\",\n",
    "    linewidth=1) \n",
    "\n",
    "plt.savefig(\"pfam/PolB_Pfam_vs_Network_search_venn_diagram.svg\", format=\"svg\")\n",
    "plt.show()"
   ]
  },
  {
   "cell_type": "code",
   "execution_count": 83,
   "metadata": {},
   "outputs": [
    {
     "data": {
      "text/plain": [
       "ICTV Family\n",
       "Nudiviridae           5\n",
       "Orthoherpesviridae    2\n",
       "Adintoviridae         1\n",
       "Name: count, dtype: int64"
      ]
     },
     "execution_count": 83,
     "metadata": {},
     "output_type": "execute_result"
    }
   ],
   "source": [
    "df_viruses[df_viruses['ICTV Sort'].isin(list(set(polb_hits_virus_sort) - set(polb_virus_sort)))]['ICTV Family'].value_counts()"
   ]
  },
  {
   "cell_type": "code",
   "execution_count": 84,
   "metadata": {},
   "outputs": [
    {
     "data": {
      "text/plain": [
       "ICTV Family\n",
       "Adenoviridae          164\n",
       "Orthoherpesviridae    109\n",
       "Baculoviridae         100\n",
       "Poxviridae             51\n",
       "Iridoviridae           47\n",
       "Asfarviridae           12\n",
       "Alloherpesviridae      10\n",
       "Nudiviridae             9\n",
       "Ascoviridae             5\n",
       "Hytrosaviridae          2\n",
       "Bidnaviridae            1\n",
       "Adintoviridae           1\n",
       "Name: count, dtype: int64"
      ]
     },
     "execution_count": 84,
     "metadata": {},
     "output_type": "execute_result"
    }
   ],
   "source": [
    "df_viruses[df_viruses['ICTV Sort'].isin(list(set(polb_hits_virus_sort) & set(polb_virus_sort)))]['ICTV Family'].value_counts()"
   ]
  },
  {
   "cell_type": "code",
   "execution_count": 76,
   "metadata": {},
   "outputs": [
    {
     "data": {
      "text/plain": [
       "ICTV Family\n",
       "Nimaviridae            13\n",
       "Adenoviridae            8\n",
       "Malacoherpesviridae     2\n",
       "Orthoherpesviridae      1\n",
       "Alloherpesviridae       1\n",
       "Ascoviridae             1\n",
       "Poxviridae              1\n",
       "Name: count, dtype: int64"
      ]
     },
     "execution_count": 76,
     "metadata": {},
     "output_type": "execute_result"
    }
   ],
   "source": [
    "df_viruses[df_viruses['ICTV Sort'].isin(list(set(polb_virus_sort) - set(polb_hits_virus_sort)))]['ICTV Family'].value_counts()"
   ]
  }
 ],
 "metadata": {
  "kernelspec": {
   "display_name": "bio",
   "language": "python",
   "name": "python3"
  },
  "language_info": {
   "codemirror_mode": {
    "name": "ipython",
    "version": 3
   },
   "file_extension": ".py",
   "mimetype": "text/x-python",
   "name": "python",
   "nbconvert_exporter": "python",
   "pygments_lexer": "ipython3",
   "version": "3.12.0"
  }
 },
 "nbformat": 4,
 "nbformat_minor": 2
}
