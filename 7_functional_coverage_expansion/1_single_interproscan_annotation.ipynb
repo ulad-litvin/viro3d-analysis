{
 "cells": [
  {
   "cell_type": "markdown",
   "metadata": {},
   "source": [
    "# Propagate InterProScan annotation through clusters and the network"
   ]
  },
  {
   "cell_type": "code",
   "execution_count": 1,
   "metadata": {},
   "outputs": [],
   "source": [
    "import pandas as pd\n",
    "import numpy as np\n",
    "import matplotlib.pyplot as plt\n",
    "import seaborn as sns"
   ]
  },
  {
   "cell_type": "markdown",
   "metadata": {},
   "source": [
    "## Step 1: Create meta file with InterProScan results\n",
    "\n",
    "InterProScan file column names\n",
    "\n",
    "- Protein accession (e.g. P51587)\n",
    "- Sequence MD5 digest (e.g. 14086411a2cdf1c4cba63020e1622579)\n",
    "- Sequence length (e.g. 3418)\n",
    "- Analysis (e.g. Pfam / PRINTS / Gene3D)\n",
    "- Signature accession (e.g. PF09103 / G3DSA:2.40.50.140)\n",
    "- Signature description (e.g. BRCA2 repeat profile)\n",
    "- Start location\n",
    "- Stop location\n",
    "- Score - is the e-value (or score) of the match reported by member database method (e.g. 3.1E-52)\n",
    "- Status - is the status of the match (T: true)\n",
    "- Date - is the date of the run\n",
    "- InterPro annotations - accession (e.g. IPR002093)\n",
    "- InterPro annotations - description (e.g. BRCA2 repeat)\n",
    "- GO annotations with their source(s), e.g. GO:0005515(InterPro)|GO:0006302(PANTHER)|GO:0007195(InterPro,PANTHER). This is an optional column; only displayed if the --goterms option is switched on\n",
    "- Pathways annotations, e.g. REACT_71. This is an optional column; only displayed if the --pathways option is switched on"
   ]
  },
  {
   "cell_type": "code",
   "execution_count": null,
   "metadata": {},
   "outputs": [],
   "source": [
    "file_interpro = \"./interproscan5_analysis/predicted_proteins_results_interproscan-v5.69-101.0.tsv\"\n",
    "file_meta = \"~/4_structural_clustering/foldseekCluster90_1E-5/foldseekCluster90_1E-5_meta.csv\"\n",
    "col_names = [\n",
    "    \"Protein Accession\",\n",
    "    \"Sequence MD5 Digest\",\n",
    "    \"Sequence Length\",\n",
    "    \"Analysis\",\n",
    "    \"Signature Accession\",\n",
    "    \"Signature Description\",\n",
    "    \"Start Location\",\n",
    "    \"Stop Location\",\n",
    "    \"Score\",\n",
    "    \"Status\",\n",
    "    \"Date\",\n",
    "    \"InterPro Annotations Accession\",\n",
    "    \"InterPro Annotations Description\",\n",
    "    \"GO Annotations\",\n",
    "    \"Pathways Annotations\"\n",
    "]\n",
    "df_interpro = pd.read_csv(file_interpro, sep=\"\\t\", names=col_names, header=None, index_col=False)\n",
    "df_meta = pd.read_csv(file_meta)"
   ]
  },
  {
   "cell_type": "code",
   "execution_count": null,
   "metadata": {},
   "outputs": [],
   "source": [
    "df_interpro['filter'] = df_interpro['Protein Accession'] + \"_\" + df_interpro['Analysis']\n",
    "df_interpro['length'] = df_interpro['Stop Location'] - df_interpro['Start Location'] + 1\n",
    "df_interpro.sort_values(by=['length'], ascending=False, inplace=True)\n",
    "df_interpro.drop_duplicates(subset='filter', keep='first', inplace=True)\n",
    "df_interpro.drop(columns=['filter'], inplace=True)"
   ]
  },
  {
   "cell_type": "code",
   "execution_count": null,
   "metadata": {},
   "outputs": [],
   "source": [
    "for analysis in [\"Pfam\", \"Gene3D\", \"SUPERFAMILY\"]:\n",
    "\n",
    "    df = df_interpro[df_interpro[\"Analysis\"] == analysis][[\"Protein Accession\", \"Signature Description\", \"InterPro Annotations Description\", \"GO Annotations\", \"Start Location\", \"Stop Location\"]]\n",
    "    df_meta = df_meta.merge(df, left_on=\"member_record_id\", right_on=\"Protein Accession\", how=\"left\")\n",
    "    df_meta.drop(columns=[\"Protein Accession\"], inplace=True)\n",
    "    df_meta.rename(columns={\n",
    "        \"Signature Description\": f\"{analysis}_description\",\n",
    "        \"InterPro Annotations Description\": f\"{analysis}_interpro_description\",\n",
    "        \"GO Annotations\": f\"{analysis}_GO\",\n",
    "        \"Start Location\": f\"{analysis}_start\",\n",
    "        \"Stop Location\": f\"{analysis}_stop\"}, inplace=True)\n",
    "\n",
    "df_meta.drop(columns=[\"Pfam_interpro_description\", \"SUPERFAMILY_interpro_description\", \"Gene3D_description\"], inplace=True)\n",
    "df_meta.rename(columns={\"Pfam_description\": \"Pfam\", \"Gene3D_interpro_description\": \"Gene3D\", \"SUPERFAMILY_description\": \"SUPERFAMILY\"}, inplace=True)"
   ]
  },
  {
   "cell_type": "code",
   "execution_count": null,
   "metadata": {},
   "outputs": [],
   "source": [
    "# replace '-' with np.nan\n",
    "df_meta.replace('-', np.nan, inplace=True)"
   ]
  },
  {
   "cell_type": "code",
   "execution_count": null,
   "metadata": {},
   "outputs": [],
   "source": [
    "df_meta.drop(columns=[\"Gene3D_GO\", \"SUPERFAMILY_GO\"], inplace=True)"
   ]
  },
  {
   "cell_type": "code",
   "execution_count": null,
   "metadata": {},
   "outputs": [],
   "source": [
    "df_meta.to_csv(\"./foldseekCluster90_1E-5_meta_single_interproscan_tmp.csv\", index=False)"
   ]
  },
  {
   "cell_type": "markdown",
   "metadata": {},
   "source": [
    "## Step 2: Expand InterProScan annotation to other cluster members"
   ]
  },
  {
   "cell_type": "markdown",
   "metadata": {},
   "source": [
    "### Create summary files"
   ]
  },
  {
   "cell_type": "code",
   "execution_count": 34,
   "metadata": {},
   "outputs": [],
   "source": [
    "file_meta = \"./foldseekCluster90_1E-5_meta_interproscan_tmp.csv\"\n",
    "file_stats = \"~/4_structural_clustering/foldseekCluster90_1E-5/foldseekCluster90_1E-5_stats.csv\"\n",
    "file_foldseek = \"~/6_network_analysis/foldseek_structure_reps_all_vs_all/foldseekCluster90_structure_reps_all_vs_all.tsv\"\n",
    "\n",
    "df_meta = pd.read_csv(file_meta)\n",
    "df_stats = pd.read_csv(file_stats)\n",
    "df_foldseek = pd.read_csv(file_foldseek, sep=\"\\t\")"
   ]
  },
  {
   "cell_type": "code",
   "execution_count": null,
   "metadata": {},
   "outputs": [],
   "source": [
    "df_meta.fillna(\"-\", inplace=True)"
   ]
  },
  {
   "cell_type": "code",
   "execution_count": null,
   "metadata": {},
   "outputs": [],
   "source": [
    "# Create CSV files with the annotation summary of the clusters\n",
    "# indicate the count of all annotations for each cluster\n",
    "\n",
    "for analysis in [\"Pfam\", \"Gene3D\", \"SUPERFAMILY\"]:\n",
    "    \n",
    "    df = pd.DataFrame(columns=['cluster_id', f'{analysis}', f'{analysis}_count'])\n",
    "\n",
    "    for i, row in df_meta[df_meta[f'{analysis}'].notna()].iterrows():\n",
    "        \n",
    "        cluster_id = row['cluster_id']\n",
    "        term = row[f'{analysis}']\n",
    "\n",
    "        if term not in df[df['cluster_id'] == cluster_id][f'{analysis}'].values:\n",
    "            new_row = pd.DataFrame([{\n",
    "                'cluster_id': cluster_id,\n",
    "                f'{analysis}': term,\n",
    "                f'{analysis}_count': 1\n",
    "            }])\n",
    "            df = pd.concat([df, new_row], ignore_index=True)\n",
    "        else:\n",
    "            df.loc[(df['cluster_id'] == cluster_id) & (df[f'{analysis}'] == term), f'{analysis}_count'] += 1\n",
    "        \n",
    "        print(i, cluster_id, term)\n",
    "    \n",
    "    df.sort_values(by=['cluster_id', f'{analysis}_count'], ascending=[True, False], inplace=True)\n",
    "    df = df_stats.merge(df, on='cluster_id')\n",
    "    df.to_csv(f\"./foldseekCluster90_1E-5_stats_{analysis}_summary.csv\", index=False)"
   ]
  },
  {
   "cell_type": "markdown",
   "metadata": {},
   "source": [
    "### Create a stats file"
   ]
  },
  {
   "cell_type": "code",
   "execution_count": null,
   "metadata": {},
   "outputs": [],
   "source": [
    "# Create stats CSV file top annotation for each cluster and its ratio\n",
    "# (portion of annotated records in the cluster that share the top annotation)\n",
    "\n",
    "for analysis in [\"Pfam\", \"Gene3D\", \"SUPERFAMILY\"]:\n",
    "    \n",
    "    file_summary = f\"./foldseekCluster90_1E-5_stats_{analysis}_summary.csv\"\n",
    "    df_summary = pd.read_csv(file_summary)\n",
    "\n",
    "    for index, row in df_stats.iterrows():\n",
    "        \n",
    "        cluster_id = row['cluster_id']\n",
    "        \n",
    "        df = df_summary[df_summary['cluster_id'] == cluster_id]\n",
    "        \n",
    "        cluster_size = df['cluster_size'].values[0]\n",
    "        \n",
    "        try:\n",
    "            top_annotation = df[df[f'{analysis}'] != '-'][f'{analysis}'].values[0]\n",
    "            top_annotation_count = df[df[f'{analysis}'] != '-'][f'{analysis}_count'].values[0]\n",
    "        except IndexError:\n",
    "            top_annotation = np.nan\n",
    "            top_annotation_count = 0\n",
    "        \n",
    "        try:\n",
    "            no_annotation_count = df[df[f'{analysis}'] == '-'][f'{analysis}_count'].values[0]\n",
    "        except IndexError:\n",
    "            no_annotation_count = 0\n",
    "\n",
    "        top_annotation_ration = round(top_annotation_count / (cluster_size - no_annotation_count), 2)\n",
    "\n",
    "        if pd.isnull(top_annotation):\n",
    "            df_stats.loc[index, f'{analysis}_annotation_type'] = np.nan\n",
    "            df_stats.loc[index, f'{analysis}_annotation'] = np.nan\n",
    "            df_stats.loc[index, f'{analysis}_ratio'] = np.nan\n",
    "        else:\n",
    "            df_stats.loc[index, f'{analysis}_annotation_type'] = \"cluster\"\n",
    "            df_stats.loc[index, f'{analysis}_annotation'] = top_annotation\n",
    "            df_stats.loc[index, f'{analysis}_ratio'] = top_annotation_ration\n",
    "\n",
    "        print(cluster_id, cluster_size, top_annotation, top_annotation_ration)\n",
    "\n",
    "df_stats.to_csv(\"./foldseekCluster90_stats_interpro_annotation_tmp.csv\", index=False)"
   ]
  },
  {
   "cell_type": "code",
   "execution_count": null,
   "metadata": {},
   "outputs": [],
   "source": [
    "plt.figure(figsize=(3, 4))\n",
    "\n",
    "sns.kdeplot(df_meta[df_meta['SUPERFAMILY_annotation_type'] == 'cluster'], x=\"SUPERFAMILY_annotation_probability\",\n",
    "            fill=False, clip=(0,1))\n",
    "\n",
    "# X-axis label\n",
    "plt.xlabel('Cluster annotation probability')\n",
    "\n",
    "#plt.savefig('./figures/cluster_interpro_pfam_annotation_probability_kde.png', dpi=600, bbox_inches='tight')\n",
    "#plt.savefig('./figures/cluster_interpro_pfam_annotation_probability_kde.svg', bbox_inches='tight', format='svg')\n",
    "\n",
    "plt.show()"
   ]
  },
  {
   "cell_type": "markdown",
   "metadata": {},
   "source": [
    "## Step 3: Expand annotation using network information"
   ]
  },
  {
   "cell_type": "code",
   "execution_count": 50,
   "metadata": {},
   "outputs": [],
   "source": [
    "file_meta = \"./foldseekCluster90_1E-5_meta_single_interproscan_tmp.csv\"\n",
    "file_stats = \"./foldseekCluster90_1E-5_stats_single_interproscan_tmp.csv\"\n",
    "file_foldseek = \"~/6_network_analysis/foldseek_structure_reps_all_vs_all/foldseekCluster90_structure_reps_all_vs_all.tsv\"\n",
    "\n",
    "df_meta = pd.read_csv(file_meta)\n",
    "df_stats = pd.read_csv(file_stats)\n",
    "df_foldseek = pd.read_csv(file_foldseek, sep=\"\\t\")"
   ]
  },
  {
   "cell_type": "code",
   "execution_count": 51,
   "metadata": {},
   "outputs": [],
   "source": [
    "df_stats = df_stats.merge(df_meta[[\n",
    "    'cluster_member',\n",
    "    'Pfam',\n",
    "    'Pfam_start',\n",
    "    'Pfam_stop',\n",
    "    'Gene3D',\n",
    "    'Gene3D_start',\n",
    "    'Gene3D_stop',\n",
    "    'SUPERFAMILY',\n",
    "    'SUPERFAMILY_start',\n",
    "    'SUPERFAMILY_stop']], left_on='structure_representative', right_on='cluster_member', how='left')\n",
    "\n",
    "df_stats.drop(columns=['cluster_member'], inplace=True)"
   ]
  },
  {
   "cell_type": "code",
   "execution_count": 52,
   "metadata": {},
   "outputs": [],
   "source": [
    "# leave only df rows that have cluster_representative from df_stats in query column\n",
    "df_foldseek = df_foldseek[df_foldseek[\"query\"].isin(df_stats[df_stats[\"structure_representative_plddt\"] > 50][\"structure_representative\"])]\n",
    "df_foldseek = df_foldseek[df_foldseek[\"target\"].isin(df_stats[df_stats[\"structure_representative_plddt\"] > 50][\"structure_representative\"])]\n",
    "\n",
    "# filter out non-significant hits\n",
    "df_foldseek = df_foldseek[df_foldseek['evalue'] < 1e-3]\n",
    "\n",
    "# filter out self hits\n",
    "df_foldseek = df_foldseek[df_foldseek[\"query\"] != df_foldseek[\"target\"]]"
   ]
  },
  {
   "cell_type": "code",
   "execution_count": 53,
   "metadata": {},
   "outputs": [],
   "source": [
    "# add top target annotations to the df_foldseek\n",
    "for analysis in [\"Pfam\", \"Gene3D\", \"SUPERFAMILY\"]:\n",
    "\n",
    "    df_foldseek = df_foldseek.merge(df_stats[['structure_representative',\n",
    "                                              f'{analysis}',\n",
    "                                              f'{analysis}_start',\n",
    "                                              f'{analysis}_stop']], left_on='target', right_on='structure_representative')\n",
    "    \n",
    "    df_foldseek = df_foldseek.drop(columns=['structure_representative'])\n",
    "\n",
    "    df_foldseek = df_foldseek.rename(columns={\n",
    "        f'{analysis}': f'target_{analysis}_annotation',\n",
    "        f'{analysis}_start': f'target_{analysis}_start',\n",
    "        f'{analysis}_stop': f'target_{analysis}_stop'})"
   ]
  },
  {
   "cell_type": "code",
   "execution_count": 54,
   "metadata": {},
   "outputs": [],
   "source": [
    "def calculate_overlap(tstart, tend, target_start, target_stop, overlap_threshold=0.9):\n",
    "    '''\n",
    "    Calculate the overlap between Foldseek target hit and InterProScan target annotation\n",
    "    Should be used to filter out hits that do not overlap with the target annotation\n",
    "    '''\n",
    "    query_range = set(range(int(tstart), int(tend) + 1))\n",
    "    target_range = set(range(int(target_start), int(target_stop) + 1))\n",
    "\n",
    "    overlap = query_range.intersection(target_range)\n",
    "\n",
    "    return len(overlap) >= (overlap_threshold * len(target_range))"
   ]
  },
  {
   "cell_type": "markdown",
   "metadata": {},
   "source": [
    "### Update the stats file"
   ]
  },
  {
   "cell_type": "code",
   "execution_count": null,
   "metadata": {},
   "outputs": [],
   "source": [
    "for analysis in [\"Pfam\", \"Gene3D\", \"SUPERFAMILY\"]:\n",
    "\n",
    "    df_foldseek_analysis = df_foldseek.dropna(subset=[f'target_{analysis}_annotation'])\n",
    "    df_foldseek_analysis = df_foldseek_analysis[df_foldseek_analysis.apply(lambda row: calculate_overlap(row['tstart'], row['tend'], row[f'target_{analysis}_start'], row[f'target_{analysis}_stop']), axis=1)]\n",
    "    \n",
    "    for index, row in df_stats.iterrows():\n",
    "\n",
    "        cluster_id = row[\"cluster_id\"]\n",
    "        cluster_str_rep = row['structure_representative']\n",
    "        description = row[f'{analysis}_annotation']\n",
    "\n",
    "        if pd.isnull(description):\n",
    "            \n",
    "            df_foldseek_sub = df_foldseek_analysis[df_foldseek_analysis['query'] == cluster_str_rep]\n",
    "            annotated_members = df_foldseek_sub[df_foldseek_sub[f'target_{analysis}_annotation'].notna()].shape[0]\n",
    "            \n",
    "            if annotated_members > 0:\n",
    "\n",
    "                community_size = df_foldseek_sub.shape[0]\n",
    "                top_members = df_foldseek_sub[f'target_{analysis}_annotation'].value_counts().values[0]\n",
    "                top_description = df_foldseek_sub[f'target_{analysis}_annotation'].value_counts().index[0]\n",
    "                top_ratio = round(top_members / annotated_members, 2)\n",
    "\n",
    "                df_stats.loc[index, f'{analysis}_annotation_type'] = 'network'\n",
    "                df_stats.loc[index, f'{analysis}_annotation'] = top_description\n",
    "                df_stats.loc[index, f'{analysis}_ratio'] = top_ratio\n",
    "\n",
    "        print(cluster_id, description)"
   ]
  },
  {
   "cell_type": "code",
   "execution_count": 56,
   "metadata": {},
   "outputs": [
    {
     "data": {
      "text/plain": [
       "Pfam_annotation_type\n",
       "cluster    5514\n",
       "network     821\n",
       "Name: count, dtype: int64"
      ]
     },
     "execution_count": 56,
     "metadata": {},
     "output_type": "execute_result"
    }
   ],
   "source": [
    "df_stats['Pfam_annotation_type'].value_counts()"
   ]
  },
  {
   "cell_type": "code",
   "execution_count": 57,
   "metadata": {},
   "outputs": [
    {
     "data": {
      "text/plain": [
       "Gene3D_annotation_type\n",
       "cluster    2023\n",
       "network     496\n",
       "Name: count, dtype: int64"
      ]
     },
     "execution_count": 57,
     "metadata": {},
     "output_type": "execute_result"
    }
   ],
   "source": [
    "df_stats['Gene3D_annotation_type'].value_counts()"
   ]
  },
  {
   "cell_type": "code",
   "execution_count": 58,
   "metadata": {},
   "outputs": [
    {
     "data": {
      "text/plain": [
       "SUPERFAMILY_annotation_type\n",
       "cluster    2745\n",
       "network     534\n",
       "Name: count, dtype: int64"
      ]
     },
     "execution_count": 58,
     "metadata": {},
     "output_type": "execute_result"
    }
   ],
   "source": [
    "df_stats['SUPERFAMILY_annotation_type'].value_counts()"
   ]
  },
  {
   "cell_type": "code",
   "execution_count": 59,
   "metadata": {},
   "outputs": [],
   "source": [
    "df_stats.drop(columns=[\n",
    "    'Pfam',\n",
    "    'Pfam_start',\n",
    "    'Pfam_stop',\n",
    "    'Gene3D',\n",
    "    'Gene3D_start',\n",
    "    'Gene3D_stop',\n",
    "    'SUPERFAMILY',\n",
    "    'SUPERFAMILY_start',\n",
    "    'SUPERFAMILY_stop'\n",
    "    ], inplace=True)"
   ]
  },
  {
   "cell_type": "code",
   "execution_count": 60,
   "metadata": {},
   "outputs": [
    {
     "data": {
      "text/plain": [
       "count    821.000000\n",
       "mean       0.886005\n",
       "std        0.204841\n",
       "min        0.210000\n",
       "25%        0.810000\n",
       "50%        1.000000\n",
       "75%        1.000000\n",
       "max        1.000000\n",
       "Name: Pfam_ratio, dtype: float64"
      ]
     },
     "execution_count": 60,
     "metadata": {},
     "output_type": "execute_result"
    }
   ],
   "source": [
    "df_stats[df_stats['Pfam_annotation_type'] == 'network']['Pfam_ratio'].describe()"
   ]
  },
  {
   "cell_type": "code",
   "execution_count": 61,
   "metadata": {},
   "outputs": [],
   "source": [
    "df_stats.to_csv(\"./foldseekCluster90_1E-5_stats_single_interproscan_1E-3.csv\", index=False)"
   ]
  },
  {
   "cell_type": "code",
   "execution_count": 63,
   "metadata": {},
   "outputs": [
    {
     "data": {
      "image/png": "[encoded data removed]",
      "text/plain": [
       "<Figure size 300x400 with 1 Axes>"
      ]
     },
     "metadata": {},
     "output_type": "display_data"
    },
    {
     "data": {
      "image/png": "[encoded data removed]",
      "text/plain": [
       "<Figure size 300x400 with 1 Axes>"
      ]
     },
     "metadata": {},
     "output_type": "display_data"
    },
    {
     "data": {
      "image/png": "[encoded data removed]",
      "text/plain": [
       "<Figure size 300x400 with 1 Axes>"
      ]
     },
     "metadata": {},
     "output_type": "display_data"
    }
   ],
   "source": [
    "for analysis in [\"Pfam\", \"Gene3D\", \"SUPERFAMILY\"]:\n",
    "\n",
    "    plt.figure(figsize=(3, 4))\n",
    "\n",
    "    sns.kdeplot(df_stats[df_stats[f'{analysis}_annotation_type'] == 'network'][f'{analysis}_ratio'],\n",
    "                fill=True, clip=(0,1))\n",
    "\n",
    "    # X-axis label\n",
    "    plt.xlabel('Frequency of propagated annotation')\n",
    "\n",
    "    #plt.savefig('./figures/network_annotation_probability_kde.png', dpi=600, bbox_inches='tight')\n",
    "    #plt.savefig('./figures/network_annotation_probability_kde.svg', bbox_inches='tight', format='svg')\n",
    "\n",
    "    plt.show()"
   ]
  },
  {
   "cell_type": "markdown",
   "metadata": {},
   "source": [
    "### Update the meta file with cluster info"
   ]
  },
  {
   "cell_type": "code",
   "execution_count": null,
   "metadata": {},
   "outputs": [],
   "source": [
    "'''\n",
    "Add functional annotation from the cluster expansion to the meta file\n",
    "'''\n",
    "\n",
    "for analysis in [\"Pfam\", \"Gene3D\", \"SUPERFAMILY\"]:\n",
    "\n",
    "    for index, row in df_meta.iterrows():\n",
    "        \n",
    "        cluster_id = row['cluster_id']\n",
    "        cluster_rep = row['cluster_representative']\n",
    "        description = row[f'{analysis}']\n",
    "\n",
    "        if pd.isnull(description):\n",
    "            \n",
    "            top_description = df_stats[df_stats['cluster_representative'] == cluster_rep][f'{analysis}_annotation'].values[0]\n",
    "            top_ratio = df_stats[df_stats['cluster_representative'] == cluster_rep][f'{analysis}_ratio'].values[0]\n",
    "            \n",
    "            if pd.isnull(top_description):\n",
    "                df_meta.loc[index, f'{analysis}_annotation_type'] = np.nan\n",
    "            else:\n",
    "                df_meta.loc[index, f'{analysis}_annotation_type'] = \"cluster\"\n",
    "            \n",
    "            df_meta.loc[index, f'{analysis}_annotation'] = top_description\n",
    "            df_meta.loc[index, f'{analysis}_ratio'] = top_ratio\n",
    "                \n",
    "        else:\n",
    "            \n",
    "            df_meta.loc[index, f'{analysis}_annotation_type'] = analysis\n",
    "            df_meta.loc[index, f'{analysis}_annotation'] = description\n",
    "            df_meta.loc[index, f'{analysis}_ratio'] = np.nan\n",
    "\n",
    "        print(cluster_id, description)"
   ]
  },
  {
   "cell_type": "code",
   "execution_count": 68,
   "metadata": {},
   "outputs": [],
   "source": [
    "df_meta.drop(columns=[\n",
    "    'Pfam',\n",
    "    'Pfam_GO',\n",
    "    'Pfam_start',\n",
    "    'Pfam_stop',\n",
    "    'Gene3D',\n",
    "    'Gene3D_start',\n",
    "    'Gene3D_stop',\n",
    "    'SUPERFAMILY',\n",
    "    'SUPERFAMILY_start',\n",
    "    'SUPERFAMILY_stop'\n",
    "    ], inplace=True)"
   ]
  },
  {
   "cell_type": "code",
   "execution_count": 71,
   "metadata": {},
   "outputs": [],
   "source": [
    "df_meta.to_csv(\"./foldseekCluster90_1E-5_meta_single_interproscan_1E-3.csv\", index=False)"
   ]
  },
  {
   "cell_type": "markdown",
   "metadata": {},
   "source": [
    "### Update the meta file with network info"
   ]
  },
  {
   "cell_type": "code",
   "execution_count": null,
   "metadata": {},
   "outputs": [],
   "source": [
    "'''\n",
    "Add functional annotation from the cluster expansion to the meta file\n",
    "'''\n",
    "\n",
    "for analysis in [\"Pfam\", \"Gene3D\", \"SUPERFAMILY\"]:\n",
    "    \n",
    "    for index, row in df_stats[df_stats[f'{analysis}_annotation_type'] == 'network'].iterrows():\n",
    "    \n",
    "        cluster_id = row['cluster_id']\n",
    "        cluster_rep = row['cluster_representative']\n",
    "        \n",
    "        annotation_type = row[f'{analysis}_annotation_type']\n",
    "        annotation = row[f'{analysis}_annotation']\n",
    "        annotation_probability = row[f'{analysis}_ratio']\n",
    "\n",
    "        df_meta.loc[df_meta['cluster_representative'] == cluster_rep, f'{analysis}_annotation_type'] = annotation_type\n",
    "        df_meta.loc[df_meta['cluster_representative'] == cluster_rep, f'{analysis}_annotation'] = annotation\n",
    "        df_meta.loc[df_meta['cluster_representative'] == cluster_rep, f'{analysis}_ratio'] = annotation_probability\n",
    "\n",
    "        print(cluster_id, annotation)"
   ]
  },
  {
   "cell_type": "code",
   "execution_count": 75,
   "metadata": {},
   "outputs": [
    {
     "data": {
      "text/plain": [
       "SUPERFAMILY_annotation_type\n",
       "SUPERFAMILY    28431\n",
       "cluster         5269\n",
       "network         3845\n",
       "Name: count, dtype: int64"
      ]
     },
     "execution_count": 75,
     "metadata": {},
     "output_type": "execute_result"
    }
   ],
   "source": [
    "df_meta['SUPERFAMILY_annotation_type'].value_counts()"
   ]
  },
  {
   "cell_type": "code",
   "execution_count": 76,
   "metadata": {},
   "outputs": [],
   "source": [
    "df_meta.to_csv(\"./foldseekCluster90_1E-5_meta_single_interproscan_1E-3.csv\", index=False)"
   ]
  },
  {
   "cell_type": "code",
   "execution_count": 78,
   "metadata": {},
   "outputs": [
    {
     "data": {
      "image/png": "[encoded data removed]",
      "text/plain": [
       "<Figure size 300x400 with 1 Axes>"
      ]
     },
     "metadata": {},
     "output_type": "display_data"
    },
    {
     "data": {
      "image/png": "[encoded data removed]",
      "text/plain": [
       "<Figure size 300x400 with 1 Axes>"
      ]
     },
     "metadata": {},
     "output_type": "display_data"
    },
    {
     "data": {
      "image/png": "[encoded data removed]",
      "text/plain": [
       "<Figure size 300x400 with 1 Axes>"
      ]
     },
     "metadata": {},
     "output_type": "display_data"
    }
   ],
   "source": [
    "for analysis in [\"Pfam\", \"Gene3D\", \"SUPERFAMILY\"]:\n",
    "\n",
    "    plt.figure(figsize=(3, 4))\n",
    "\n",
    "    sns.kdeplot(df_meta, x=f\"{analysis}_ratio\", hue=f\"{analysis}_annotation_type\",\n",
    "                fill=False, clip=(0,1), legend=False)\n",
    "\n",
    "    # X-axis label\n",
    "    plt.xlabel('Frequency of propagated annotation')\n",
    "\n",
    "    #plt.savefig('./figures/network_annotation_probability_kde.png', dpi=600, bbox_inches='tight')\n",
    "    #plt.savefig('./figures/network_annotation_probability_kde.svg', bbox_inches='tight', format='svg')\n",
    "\n",
    "    plt.show()"
   ]
  },
  {
   "cell_type": "markdown",
   "metadata": {},
   "source": [
    "## Step 4: Visualization of functional annotation expansion"
   ]
  },
  {
   "cell_type": "code",
   "execution_count": 2,
   "metadata": {},
   "outputs": [],
   "source": [
    "import numpy as np\n",
    "import seaborn as sns\n",
    "import matplotlib.pyplot as plt\n",
    "from scipy.stats import gaussian_kde"
   ]
  },
  {
   "cell_type": "markdown",
   "metadata": {},
   "source": [
    "### Frequency of propagated annotation"
   ]
  },
  {
   "cell_type": "code",
   "execution_count": 3,
   "metadata": {},
   "outputs": [],
   "source": [
    "file_meta = \"./foldseekCluster90_1E-5_meta_single_interproscan_1E-3.csv\"\n",
    "df_meta = pd.read_csv(file_meta)"
   ]
  },
  {
   "cell_type": "code",
   "execution_count": 4,
   "metadata": {},
   "outputs": [],
   "source": [
    "file_stats = \"./foldseekCluster90_1E-5_stats_single_interproscan_1E-3.csv\"\n",
    "df_stats = pd.read_csv(file_stats)"
   ]
  },
  {
   "cell_type": "code",
   "execution_count": 20,
   "metadata": {},
   "outputs": [
    {
     "data": {
      "text/plain": [
       "count    5514.000000\n",
       "mean        0.984193\n",
       "std         0.075201\n",
       "min         0.330000\n",
       "25%         1.000000\n",
       "50%         1.000000\n",
       "75%         1.000000\n",
       "max         1.000000\n",
       "Name: Pfam_ratio, dtype: float64"
      ]
     },
     "execution_count": 20,
     "metadata": {},
     "output_type": "execute_result"
    }
   ],
   "source": [
    "df_stats[df_stats['Pfam_annotation_type'] == 'cluster']['Pfam_ratio'].describe()"
   ]
  },
  {
   "cell_type": "markdown",
   "metadata": {},
   "source": [
    "- 5,514 clusters with Pfam annotation"
   ]
  },
  {
   "cell_type": "code",
   "execution_count": 22,
   "metadata": {},
   "outputs": [
    {
     "data": {
      "text/plain": [
       "5256"
      ]
     },
     "execution_count": 22,
     "metadata": {},
     "output_type": "execute_result"
    }
   ],
   "source": [
    "df_stats[(df_stats['Pfam_annotation_type'] == 'cluster') &\n",
    "         (df_stats['Pfam_ratio'] > 0.9)].shape[0]"
   ]
  },
  {
   "cell_type": "code",
   "execution_count": 23,
   "metadata": {},
   "outputs": [
    {
     "data": {
      "text/plain": [
       "0.9532100108813928"
      ]
     },
     "execution_count": 23,
     "metadata": {},
     "output_type": "execute_result"
    }
   ],
   "source": [
    "5256 / 5514"
   ]
  },
  {
   "cell_type": "code",
   "execution_count": 24,
   "metadata": {},
   "outputs": [
    {
     "data": {
      "image/png": "[encoded data removed]",
      "text/plain": [
       "<Figure size 300x400 with 1 Axes>"
      ]
     },
     "metadata": {},
     "output_type": "display_data"
    }
   ],
   "source": [
    "# Split the data based on'annotation_type\n",
    "data1 = df_stats[df_stats['Pfam_annotation_type'] == 'cluster']['Pfam_ratio']\n",
    "\n",
    "# Compute KDE\n",
    "kde1 = gaussian_kde(data1)\n",
    "\n",
    "# Create a range of values for the x-axis\n",
    "x = np.linspace(0, 1, 1000)\n",
    "\n",
    "# Compute the densities\n",
    "density1 = kde1(x)\n",
    "\n",
    "# Normalize the densities\n",
    "density1 /= density1.max()\n",
    "\n",
    "plt.figure(figsize=(3, 4))\n",
    "plt.plot(x, density1, label='cluster', color='#56B4E9')\n",
    "plt.xlabel('Annotation consistency')\n",
    "plt.ylabel('Normalized density')\n",
    "plt.savefig(f'./figures/functional_annotation/interpro_pfam_annotation_consistency_kde.svg', bbox_inches='tight', format='svg')\n",
    "plt.show()"
   ]
  },
  {
   "cell_type": "code",
   "execution_count": 6,
   "metadata": {},
   "outputs": [
    {
     "data": {
      "image/png": "[encoded data removed]",
      "text/plain": [
       "<Figure size 300x400 with 1 Axes>"
      ]
     },
     "metadata": {},
     "output_type": "display_data"
    },
    {
     "data": {
      "image/png": "[encoded data removed]",
      "text/plain": [
       "<Figure size 300x400 with 1 Axes>"
      ]
     },
     "metadata": {},
     "output_type": "display_data"
    },
    {
     "data": {
      "image/png": "[encoded data removed]",
      "text/plain": [
       "<Figure size 300x400 with 1 Axes>"
      ]
     },
     "metadata": {},
     "output_type": "display_data"
    }
   ],
   "source": [
    "for analysis in [\"Pfam\", \"Gene3D\", \"SUPERFAMILY\"]:\n",
    "#for analysis in [\"Pfam\"]:\n",
    "\n",
    "    # Split the data based on'annotation_type\n",
    "    data1 = df_meta[df_meta[f'{analysis}_annotation_type'] == 'cluster'][f'{analysis}_ratio']\n",
    "    data2 = df_meta[df_meta[f'{analysis}_annotation_type'] == 'network'][f'{analysis}_ratio']\n",
    "\n",
    "    # Compute KDE\n",
    "    kde1 = gaussian_kde(data1)\n",
    "    kde2 = gaussian_kde(data2)\n",
    "\n",
    "    # Create a range of values for the x-axis\n",
    "    x = np.linspace(0, 1, 1000)\n",
    "\n",
    "    # Compute the densities\n",
    "    density1 = kde1(x)\n",
    "    density2 = kde2(x)\n",
    "\n",
    "    # Normalize the densities\n",
    "    density1 /= density1.max()\n",
    "    density2 /= density2.max()\n",
    "\n",
    "    # Plot the normalized densities\n",
    "    plt.figure(figsize=(3, 4))\n",
    "    plt.plot(x, density1, label='cluster', color='#F0E442')\n",
    "    plt.plot(x, density2, label='network', color='#56B4E9')\n",
    "    plt.xlabel('Annotation frequency')\n",
    "    plt.ylabel('Normalized density')\n",
    "    plt.legend()\n",
    "    plt.savefig(f'./figures/functional_annotation/interpro_{analysis}_propagated_annotation_frequency_kde.svg', bbox_inches='tight', format='svg')\n",
    "    plt.show()"
   ]
  },
  {
   "cell_type": "markdown",
   "metadata": {},
   "source": [
    "### Functional coverage"
   ]
  },
  {
   "cell_type": "code",
   "execution_count": 1,
   "metadata": {},
   "outputs": [],
   "source": [
    "import pandas as pd\n",
    "import numpy as np\n",
    "import matplotlib.pyplot as plt\n",
    "import seaborn as sns"
   ]
  },
  {
   "cell_type": "code",
   "execution_count": 26,
   "metadata": {},
   "outputs": [],
   "source": [
    "file_meta = \"./foldseekCluster90_1E-5_meta_single_interproscan_1E-3.csv\"\n",
    "df_meta = pd.read_csv(file_meta)\n",
    "\n",
    "file_meta_go = \"./foldseekCluster90_1E-5_meta_single_go_1E-3.csv\" # can be created with gene_ontology_annnotation.ipynb\n",
    "df_meta_go = pd.read_csv(file_meta_go)\n",
    "\n",
    "file_stats = \"./foldseekCluster90_1E-5_stats_single_interproscan_1E-3.csv\"\n",
    "df_stats = pd.read_csv(file_stats)\n",
    "\n",
    "file_ictv = \"~/1_dataset_preparation/msl38v2/VMR_MSL38_v2.xlsx\"\n",
    "df_ictv = pd.read_excel(file_ictv)"
   ]
  },
  {
   "cell_type": "code",
   "execution_count": 27,
   "metadata": {},
   "outputs": [],
   "source": [
    "df_meta_go_sub = df_meta_go[[\n",
    "    'cluster_member',\n",
    "    'molecular_function_annotation_type',\n",
    "    'molecular_function_annotation',\n",
    "    'molecular_function_ratio',\n",
    "    'biological_process_annotation_type',\n",
    "    'biological_process_annotation',\n",
    "    'biological_process_ratio',\n",
    "    'cellular_component_annotation_type',\n",
    "    'cellular_component_annotation',\n",
    "    'cellular_component_ratio']]"
   ]
  },
  {
   "cell_type": "code",
   "execution_count": 28,
   "metadata": {},
   "outputs": [],
   "source": [
    "df_meta = df_meta.merge(df_meta_go_sub, on='cluster_member', how='left')"
   ]
  },
  {
   "cell_type": "code",
   "execution_count": 29,
   "metadata": {},
   "outputs": [],
   "source": [
    "# merge df_meta with df_stats[['cluster_representative', 'cluster_size']]\n",
    "df_meta = df_meta.merge(df_stats[['cluster_representative', 'cluster_size']], on='cluster_representative', how='left')"
   ]
  },
  {
   "cell_type": "code",
   "execution_count": 30,
   "metadata": {},
   "outputs": [],
   "source": [
    "for analysis in [\"Pfam\",\"Gene3D\",\"SUPERFAMILY\",\"molecular_function\",\"biological_process\",\"cellular_component\"]:\n",
    "\n",
    "    df_meta[f\"{analysis}_annotation_type\"] = df_meta.apply(\n",
    "        lambda row: \"singleton\" if row[\"cluster_size\"] == 1 and pd.isna(row[f\"{analysis}_annotation_type\"]) else row[f\"{analysis}_annotation_type\"],\n",
    "        axis=1)"
   ]
  },
  {
   "cell_type": "code",
   "execution_count": 31,
   "metadata": {},
   "outputs": [],
   "source": [
    "df_coverage = pd.DataFrame(columns=['analysis', 'total_count', 'analysis_count', 'cluster_count', 'network_count', 'singleton_count'])\n",
    "\n",
    "for analysis in [\"Pfam\",\"SUPERFAMILY\",\"Gene3D\",\"molecular_function\",\"biological_process\",\"cellular_component\"]:\n",
    "\n",
    "    total_count = df_meta.shape[0]\n",
    "    analysis_count = df_meta[df_meta[f\"{analysis}_annotation_type\"] == f'{analysis}'].shape[0]\n",
    "    cluster_count = df_meta[df_meta[f\"{analysis}_annotation_type\"] == 'cluster'].shape[0]\n",
    "    network_count = df_meta[df_meta[f\"{analysis}_annotation_type\"] == 'network'].shape[0]\n",
    "    singleton_count = df_meta[df_meta[f\"{analysis}_annotation_type\"] == 'singleton'].shape[0]\n",
    "\n",
    "    new_row = pd.DataFrame([{\n",
    "        'analysis': analysis,\n",
    "        'total_count': total_count,\n",
    "        'analysis_count': analysis_count,\n",
    "        'cluster_count': cluster_count,\n",
    "        'network_count': network_count,\n",
    "        'singleton_count': singleton_count\n",
    "    }])\n",
    "\n",
    "    df_coverage = pd.concat([df_coverage, new_row], ignore_index=True)"
   ]
  },
  {
   "cell_type": "code",
   "execution_count": 32,
   "metadata": {},
   "outputs": [
    {
     "data": {
      "text/html": [
       "<div>\n",
       "<style scoped>\n",
       "    .dataframe tbody tr th:only-of-type {\n",
       "        vertical-align: middle;\n",
       "    }\n",
       "\n",
       "    .dataframe tbody tr th {\n",
       "        vertical-align: top;\n",
       "    }\n",
       "\n",
       "    .dataframe thead th {\n",
       "        text-align: right;\n",
       "    }\n",
       "</style>\n",
       "<table border=\"1\" class=\"dataframe\">\n",
       "  <thead>\n",
       "    <tr style=\"text-align: right;\">\n",
       "      <th></th>\n",
       "      <th>analysis</th>\n",
       "      <th>total_count</th>\n",
       "      <th>analysis_count</th>\n",
       "      <th>cluster_count</th>\n",
       "      <th>network_count</th>\n",
       "      <th>singleton_count</th>\n",
       "    </tr>\n",
       "  </thead>\n",
       "  <tbody>\n",
       "    <tr>\n",
       "      <th>0</th>\n",
       "      <td>Pfam</td>\n",
       "      <td>85162</td>\n",
       "      <td>55869</td>\n",
       "      <td>3395</td>\n",
       "      <td>2870</td>\n",
       "      <td>9441</td>\n",
       "    </tr>\n",
       "    <tr>\n",
       "      <th>1</th>\n",
       "      <td>SUPERFAMILY</td>\n",
       "      <td>85162</td>\n",
       "      <td>28431</td>\n",
       "      <td>5269</td>\n",
       "      <td>3845</td>\n",
       "      <td>10824</td>\n",
       "    </tr>\n",
       "    <tr>\n",
       "      <th>2</th>\n",
       "      <td>Gene3D</td>\n",
       "      <td>85162</td>\n",
       "      <td>22336</td>\n",
       "      <td>4475</td>\n",
       "      <td>4977</td>\n",
       "      <td>11185</td>\n",
       "    </tr>\n",
       "    <tr>\n",
       "      <th>3</th>\n",
       "      <td>molecular_function</td>\n",
       "      <td>85162</td>\n",
       "      <td>20892</td>\n",
       "      <td>2026</td>\n",
       "      <td>7262</td>\n",
       "      <td>11397</td>\n",
       "    </tr>\n",
       "    <tr>\n",
       "      <th>4</th>\n",
       "      <td>biological_process</td>\n",
       "      <td>85162</td>\n",
       "      <td>16141</td>\n",
       "      <td>1805</td>\n",
       "      <td>6060</td>\n",
       "      <td>11623</td>\n",
       "    </tr>\n",
       "    <tr>\n",
       "      <th>5</th>\n",
       "      <td>cellular_component</td>\n",
       "      <td>85162</td>\n",
       "      <td>8322</td>\n",
       "      <td>1276</td>\n",
       "      <td>2508</td>\n",
       "      <td>11923</td>\n",
       "    </tr>\n",
       "  </tbody>\n",
       "</table>\n",
       "</div>"
      ],
      "text/plain": [
       "             analysis total_count analysis_count cluster_count network_count  \\\n",
       "0                Pfam       85162          55869          3395          2870   \n",
       "1         SUPERFAMILY       85162          28431          5269          3845   \n",
       "2              Gene3D       85162          22336          4475          4977   \n",
       "3  molecular_function       85162          20892          2026          7262   \n",
       "4  biological_process       85162          16141          1805          6060   \n",
       "5  cellular_component       85162           8322          1276          2508   \n",
       "\n",
       "  singleton_count  \n",
       "0            9441  \n",
       "1           10824  \n",
       "2           11185  \n",
       "3           11397  \n",
       "4           11623  \n",
       "5           11923  "
      ]
     },
     "execution_count": 32,
     "metadata": {},
     "output_type": "execute_result"
    }
   ],
   "source": [
    "df_coverage"
   ]
  },
  {
   "cell_type": "code",
   "execution_count": 33,
   "metadata": {},
   "outputs": [],
   "source": [
    "df_coverage['analysis_percentage'] = df_coverage['analysis_count'] / df_coverage['total_count'] * 100\n",
    "df_coverage['cluster_percentage'] = df_coverage['analysis_percentage'] + (df_coverage['cluster_count'] / df_coverage['total_count'] * 100)\n",
    "df_coverage['network_percentage'] = df_coverage['cluster_percentage'] + (df_coverage['network_count'] / df_coverage['total_count'] * 100)\n",
    "df_coverage['singleton_percentage'] = df_coverage['network_percentage'] + (df_coverage['singleton_count'] / df_coverage['total_count'] * 100)"
   ]
  },
  {
   "cell_type": "code",
   "execution_count": 36,
   "metadata": {},
   "outputs": [
    {
     "data": {
      "text/plain": [
       "<function matplotlib.pyplot.show(close=None, block=None)>"
      ]
     },
     "execution_count": 36,
     "metadata": {},
     "output_type": "execute_result"
    },
    {
     "data": {
      "image/png": "[encoded data removed]",
      "text/plain": [
       "<Figure size 300x400 with 1 Axes>"
      ]
     },
     "metadata": {},
     "output_type": "display_data"
    }
   ],
   "source": [
    "#for analysis in [\"Pfam\",\"Gene3D\",\"SUPERFAMILY\", \"molecular_function\", \"biological_process\", \"cellular_component\"]:\n",
    "\n",
    "# change figure size\n",
    "plt.figure(figsize=(3, 4))\n",
    "sns.barplot(df_coverage, y=\"analysis\", x=100, color='lightgrey', alpha=1)\n",
    "sns.barplot(df_coverage, y=\"analysis\", x=f\"singleton_percentage\", color='darkgrey', alpha=1)\n",
    "sns.barplot(df_coverage, y=\"analysis\", x=f\"network_percentage\", color='#56B4E9', alpha=1)\n",
    "sns.barplot(df_coverage, y=\"analysis\", x=f\"cluster_percentage\", color='#F0E442', alpha=1)\n",
    "sns.barplot(df_coverage, y=\"analysis\", x=\"analysis_percentage\", color='#009E73', alpha=1)\n",
    "# remove the top and right lines\n",
    "sns.despine()\n",
    "# remove the y-axis label\n",
    "plt.ylabel(\"\")\n",
    "plt.xlabel(\"Functional coverage\")\n",
    "# save the figure\n",
    "plt.savefig(f\"./figures/functional_annotation/interpro_go_functional_coverage.svg\", format=\"svg\")\n",
    "#plt.savefig(f\"./figures/interpro_{analysis}_functional_coverage.png\", format=\"png\", dpi=600, bbox_inches='tight')\n",
    "plt.show"
   ]
  },
  {
   "cell_type": "markdown",
   "metadata": {},
   "source": [
    "### Functional coverage across realms"
   ]
  },
  {
   "cell_type": "code",
   "execution_count": 6,
   "metadata": {},
   "outputs": [
    {
     "data": {
      "text/html": [
       "<div>\n",
       "<style scoped>\n",
       "    .dataframe tbody tr th:only-of-type {\n",
       "        vertical-align: middle;\n",
       "    }\n",
       "\n",
       "    .dataframe tbody tr th {\n",
       "        vertical-align: top;\n",
       "    }\n",
       "\n",
       "    .dataframe thead th {\n",
       "        text-align: right;\n",
       "    }\n",
       "</style>\n",
       "<table border=\"1\" class=\"dataframe\">\n",
       "  <thead>\n",
       "    <tr style=\"text-align: right;\">\n",
       "      <th></th>\n",
       "      <th>Realm</th>\n",
       "      <th>count</th>\n",
       "    </tr>\n",
       "  </thead>\n",
       "  <tbody>\n",
       "    <tr>\n",
       "      <th>1</th>\n",
       "      <td>Riboviria</td>\n",
       "      <td>22453</td>\n",
       "    </tr>\n",
       "    <tr>\n",
       "      <th>4</th>\n",
       "      <td>Monodnaviria</td>\n",
       "      <td>4551</td>\n",
       "    </tr>\n",
       "    <tr>\n",
       "      <th>2</th>\n",
       "      <td>Unclassified</td>\n",
       "      <td>21224</td>\n",
       "    </tr>\n",
       "    <tr>\n",
       "      <th>0</th>\n",
       "      <td>Varidnaviria</td>\n",
       "      <td>25265</td>\n",
       "    </tr>\n",
       "    <tr>\n",
       "      <th>3</th>\n",
       "      <td>Duplodnaviria</td>\n",
       "      <td>11653</td>\n",
       "    </tr>\n",
       "    <tr>\n",
       "      <th>5</th>\n",
       "      <td>Ribozyviria</td>\n",
       "      <td>16</td>\n",
       "    </tr>\n",
       "  </tbody>\n",
       "</table>\n",
       "</div>"
      ],
      "text/plain": [
       "           Realm  count\n",
       "1      Riboviria  22453\n",
       "4   Monodnaviria   4551\n",
       "2   Unclassified  21224\n",
       "0   Varidnaviria  25265\n",
       "3  Duplodnaviria  11653\n",
       "5    Ribozyviria     16"
      ]
     },
     "execution_count": 6,
     "metadata": {},
     "output_type": "execute_result"
    }
   ],
   "source": [
    "df_ictv_sub = df_ictv[[\"Sort\", \"Realm\"]]\n",
    "# add realm to df_coverage\n",
    "df_meta = pd.merge(df_meta, df_ictv_sub, left_on=\"ictv_sort\", right_on=\"Sort\", how=\"left\")\n",
    "# replace Nan in realm with \"Other\"\n",
    "df_meta[\"Realm\"].fillna(\"Unclassified\", inplace=True)\n",
    "df_coverage = df_meta[\"Realm\"].value_counts().reset_index()\n",
    "# change the index order: Riboviria, Monodnaviria, Unclassified, Varidnaviria, Duplodnaviria, Ribozyviria\n",
    "df_coverage = df_coverage.reindex([1, 4, 2, 0, 3, 5])\n",
    "df_coverage"
   ]
  },
  {
   "cell_type": "code",
   "execution_count": 7,
   "metadata": {},
   "outputs": [],
   "source": [
    "for analysis in [\"Pfam\",\"Gene3D\",\"SUPERFAMILY\"]:\n",
    "\n",
    "    df_coverage[f'{analysis}'] = df_coverage['Realm'].apply(lambda x: df_meta[(df_meta['Realm'] == x) & (df_meta[f'{analysis}_annotation_type'] == analysis)].shape[0])\n",
    "    df_coverage[f'{analysis}_cluster'] = df_coverage['Realm'].apply(lambda x: df_meta[(df_meta['Realm'] == x) & (df_meta[f'{analysis}_annotation_type'] == 'cluster')].shape[0])\n",
    "    df_coverage[f'{analysis}_network'] = df_coverage['Realm'].apply(lambda x: df_meta[(df_meta['Realm'] == x) & (df_meta[f'{analysis}_annotation_type'] == 'network')].shape[0])\n",
    "    df_coverage[f'{analysis}_singleton'] = df_coverage['Realm'].apply(lambda x: df_meta[(df_meta['Realm'] == x) & (df_meta[f'{analysis}_annotation_type'] == 'singleton')].shape[0])\n",
    "\n",
    "    df_coverage[f'{analysis}_percentage'] = round(df_coverage[analysis] / df_coverage['count'], 4) * 100\n",
    "    df_coverage[f'{analysis}_cluster_percentage'] = df_coverage[f'{analysis}_percentage'] + round(df_coverage[f'{analysis}_cluster'] / df_coverage['count'], 4) * 100\n",
    "    df_coverage[f'{analysis}_network_percentage'] = df_coverage[f'{analysis}_cluster_percentage'] + round(df_coverage[f'{analysis}_network'] / df_coverage['count'], 4) * 100\n",
    "    df_coverage[f'{analysis}_singleton_percentage'] = df_coverage[f'{analysis}_network_percentage'] + round(df_coverage[f'{analysis}_singleton'] / df_coverage['count'], 4) * 100"
   ]
  },
  {
   "cell_type": "code",
   "execution_count": 8,
   "metadata": {},
   "outputs": [
    {
     "data": {
      "text/html": [
       "<div>\n",
       "<style scoped>\n",
       "    .dataframe tbody tr th:only-of-type {\n",
       "        vertical-align: middle;\n",
       "    }\n",
       "\n",
       "    .dataframe tbody tr th {\n",
       "        vertical-align: top;\n",
       "    }\n",
       "\n",
       "    .dataframe thead th {\n",
       "        text-align: right;\n",
       "    }\n",
       "</style>\n",
       "<table border=\"1\" class=\"dataframe\">\n",
       "  <thead>\n",
       "    <tr style=\"text-align: right;\">\n",
       "      <th></th>\n",
       "      <th>Realm</th>\n",
       "      <th>count</th>\n",
       "      <th>Pfam</th>\n",
       "      <th>Pfam_cluster</th>\n",
       "      <th>Pfam_network</th>\n",
       "      <th>Pfam_singleton</th>\n",
       "      <th>Pfam_percentage</th>\n",
       "      <th>Pfam_cluster_percentage</th>\n",
       "      <th>Pfam_network_percentage</th>\n",
       "      <th>Pfam_singleton_percentage</th>\n",
       "      <th>...</th>\n",
       "      <th>Gene3D_network_percentage</th>\n",
       "      <th>Gene3D_singleton_percentage</th>\n",
       "      <th>SUPERFAMILY</th>\n",
       "      <th>SUPERFAMILY_cluster</th>\n",
       "      <th>SUPERFAMILY_network</th>\n",
       "      <th>SUPERFAMILY_singleton</th>\n",
       "      <th>SUPERFAMILY_percentage</th>\n",
       "      <th>SUPERFAMILY_cluster_percentage</th>\n",
       "      <th>SUPERFAMILY_network_percentage</th>\n",
       "      <th>SUPERFAMILY_singleton_percentage</th>\n",
       "    </tr>\n",
       "  </thead>\n",
       "  <tbody>\n",
       "    <tr>\n",
       "      <th>1</th>\n",
       "      <td>Riboviria</td>\n",
       "      <td>22453</td>\n",
       "      <td>18561</td>\n",
       "      <td>677</td>\n",
       "      <td>380</td>\n",
       "      <td>1212</td>\n",
       "      <td>82.67</td>\n",
       "      <td>85.69</td>\n",
       "      <td>87.38</td>\n",
       "      <td>92.78</td>\n",
       "      <td>...</td>\n",
       "      <td>63.58</td>\n",
       "      <td>70.51</td>\n",
       "      <td>11075</td>\n",
       "      <td>1698</td>\n",
       "      <td>1812</td>\n",
       "      <td>1511</td>\n",
       "      <td>49.33</td>\n",
       "      <td>56.89</td>\n",
       "      <td>64.96</td>\n",
       "      <td>71.69</td>\n",
       "    </tr>\n",
       "    <tr>\n",
       "      <th>4</th>\n",
       "      <td>Monodnaviria</td>\n",
       "      <td>4551</td>\n",
       "      <td>3472</td>\n",
       "      <td>261</td>\n",
       "      <td>189</td>\n",
       "      <td>303</td>\n",
       "      <td>76.29</td>\n",
       "      <td>82.03</td>\n",
       "      <td>86.18</td>\n",
       "      <td>92.84</td>\n",
       "      <td>...</td>\n",
       "      <td>65.54</td>\n",
       "      <td>72.94</td>\n",
       "      <td>2793</td>\n",
       "      <td>270</td>\n",
       "      <td>105</td>\n",
       "      <td>328</td>\n",
       "      <td>61.37</td>\n",
       "      <td>67.30</td>\n",
       "      <td>69.61</td>\n",
       "      <td>76.82</td>\n",
       "    </tr>\n",
       "    <tr>\n",
       "      <th>2</th>\n",
       "      <td>Unclassified</td>\n",
       "      <td>21224</td>\n",
       "      <td>10606</td>\n",
       "      <td>927</td>\n",
       "      <td>721</td>\n",
       "      <td>3465</td>\n",
       "      <td>49.97</td>\n",
       "      <td>54.34</td>\n",
       "      <td>57.74</td>\n",
       "      <td>74.07</td>\n",
       "      <td>...</td>\n",
       "      <td>17.70</td>\n",
       "      <td>36.57</td>\n",
       "      <td>4149</td>\n",
       "      <td>1174</td>\n",
       "      <td>641</td>\n",
       "      <td>3873</td>\n",
       "      <td>19.55</td>\n",
       "      <td>25.08</td>\n",
       "      <td>28.10</td>\n",
       "      <td>46.35</td>\n",
       "    </tr>\n",
       "    <tr>\n",
       "      <th>0</th>\n",
       "      <td>Varidnaviria</td>\n",
       "      <td>25265</td>\n",
       "      <td>15722</td>\n",
       "      <td>985</td>\n",
       "      <td>1202</td>\n",
       "      <td>2557</td>\n",
       "      <td>62.23</td>\n",
       "      <td>66.13</td>\n",
       "      <td>70.89</td>\n",
       "      <td>81.01</td>\n",
       "      <td>...</td>\n",
       "      <td>30.54</td>\n",
       "      <td>42.56</td>\n",
       "      <td>7484</td>\n",
       "      <td>1529</td>\n",
       "      <td>828</td>\n",
       "      <td>2909</td>\n",
       "      <td>29.62</td>\n",
       "      <td>35.67</td>\n",
       "      <td>38.95</td>\n",
       "      <td>50.46</td>\n",
       "    </tr>\n",
       "    <tr>\n",
       "      <th>3</th>\n",
       "      <td>Duplodnaviria</td>\n",
       "      <td>11653</td>\n",
       "      <td>7494</td>\n",
       "      <td>545</td>\n",
       "      <td>378</td>\n",
       "      <td>1902</td>\n",
       "      <td>64.31</td>\n",
       "      <td>68.99</td>\n",
       "      <td>72.23</td>\n",
       "      <td>88.55</td>\n",
       "      <td>...</td>\n",
       "      <td>26.10</td>\n",
       "      <td>45.40</td>\n",
       "      <td>2914</td>\n",
       "      <td>598</td>\n",
       "      <td>459</td>\n",
       "      <td>2203</td>\n",
       "      <td>25.01</td>\n",
       "      <td>30.14</td>\n",
       "      <td>34.08</td>\n",
       "      <td>52.99</td>\n",
       "    </tr>\n",
       "    <tr>\n",
       "      <th>5</th>\n",
       "      <td>Ribozyviria</td>\n",
       "      <td>16</td>\n",
       "      <td>14</td>\n",
       "      <td>0</td>\n",
       "      <td>0</td>\n",
       "      <td>2</td>\n",
       "      <td>87.50</td>\n",
       "      <td>87.50</td>\n",
       "      <td>87.50</td>\n",
       "      <td>100.00</td>\n",
       "      <td>...</td>\n",
       "      <td>93.75</td>\n",
       "      <td>100.00</td>\n",
       "      <td>16</td>\n",
       "      <td>0</td>\n",
       "      <td>0</td>\n",
       "      <td>0</td>\n",
       "      <td>100.00</td>\n",
       "      <td>100.00</td>\n",
       "      <td>100.00</td>\n",
       "      <td>100.00</td>\n",
       "    </tr>\n",
       "  </tbody>\n",
       "</table>\n",
       "<p>6 rows × 26 columns</p>\n",
       "</div>"
      ],
      "text/plain": [
       "           Realm  count   Pfam  Pfam_cluster  Pfam_network  Pfam_singleton  \\\n",
       "1      Riboviria  22453  18561           677           380            1212   \n",
       "4   Monodnaviria   4551   3472           261           189             303   \n",
       "2   Unclassified  21224  10606           927           721            3465   \n",
       "0   Varidnaviria  25265  15722           985          1202            2557   \n",
       "3  Duplodnaviria  11653   7494           545           378            1902   \n",
       "5    Ribozyviria     16     14             0             0               2   \n",
       "\n",
       "   Pfam_percentage  Pfam_cluster_percentage  Pfam_network_percentage  \\\n",
       "1            82.67                    85.69                    87.38   \n",
       "4            76.29                    82.03                    86.18   \n",
       "2            49.97                    54.34                    57.74   \n",
       "0            62.23                    66.13                    70.89   \n",
       "3            64.31                    68.99                    72.23   \n",
       "5            87.50                    87.50                    87.50   \n",
       "\n",
       "   Pfam_singleton_percentage  ...  Gene3D_network_percentage  \\\n",
       "1                      92.78  ...                      63.58   \n",
       "4                      92.84  ...                      65.54   \n",
       "2                      74.07  ...                      17.70   \n",
       "0                      81.01  ...                      30.54   \n",
       "3                      88.55  ...                      26.10   \n",
       "5                     100.00  ...                      93.75   \n",
       "\n",
       "   Gene3D_singleton_percentage  SUPERFAMILY  SUPERFAMILY_cluster  \\\n",
       "1                        70.51        11075                 1698   \n",
       "4                        72.94         2793                  270   \n",
       "2                        36.57         4149                 1174   \n",
       "0                        42.56         7484                 1529   \n",
       "3                        45.40         2914                  598   \n",
       "5                       100.00           16                    0   \n",
       "\n",
       "   SUPERFAMILY_network  SUPERFAMILY_singleton  SUPERFAMILY_percentage  \\\n",
       "1                 1812                   1511                   49.33   \n",
       "4                  105                    328                   61.37   \n",
       "2                  641                   3873                   19.55   \n",
       "0                  828                   2909                   29.62   \n",
       "3                  459                   2203                   25.01   \n",
       "5                    0                      0                  100.00   \n",
       "\n",
       "   SUPERFAMILY_cluster_percentage  SUPERFAMILY_network_percentage  \\\n",
       "1                           56.89                           64.96   \n",
       "4                           67.30                           69.61   \n",
       "2                           25.08                           28.10   \n",
       "0                           35.67                           38.95   \n",
       "3                           30.14                           34.08   \n",
       "5                          100.00                          100.00   \n",
       "\n",
       "   SUPERFAMILY_singleton_percentage  \n",
       "1                             71.69  \n",
       "4                             76.82  \n",
       "2                             46.35  \n",
       "0                             50.46  \n",
       "3                             52.99  \n",
       "5                            100.00  \n",
       "\n",
       "[6 rows x 26 columns]"
      ]
     },
     "execution_count": 8,
     "metadata": {},
     "output_type": "execute_result"
    }
   ],
   "source": [
    "df_coverage"
   ]
  },
  {
   "cell_type": "markdown",
   "metadata": {},
   "source": [
    "85,162 records\n",
    "\n",
    "- Pfam annotation: 65.6% (55,869 records)\n",
    "- Pfam expansion with cluster: 3.99% (3,395 records)\n",
    "- Pfam expansion with network: 3.37% (2,870 records)\n",
    "\n",
    "- Gene3D annotation: 26.2% (22,336 records)\n",
    "- Gene3D cluster: 5.25% (4,475 records)\n",
    "- Gene3D network: 5.84% (4,977 records)\n",
    "\n",
    "- Superfamily annotation: 33.4% (28,431 records)\n",
    "- Superfamily cluster: 6.19% (5,269 records)\n",
    "- Superfamily network: 4.51% (3,845 records)"
   ]
  },
  {
   "cell_type": "code",
   "execution_count": 28,
   "metadata": {},
   "outputs": [
    {
     "data": {
      "text/plain": [
       "85162"
      ]
     },
     "execution_count": 28,
     "metadata": {},
     "output_type": "execute_result"
    }
   ],
   "source": [
    "#df_coverage['SUPERFAMILY_network'].sum() / df_coverage['count'].sum()\n",
    "df_coverage['count'].sum()"
   ]
  },
  {
   "cell_type": "code",
   "execution_count": null,
   "metadata": {},
   "outputs": [
    {
     "data": {
      "image/png": "[encoded data removed]",
      "text/plain": [
       "<Figure size 300x400 with 1 Axes>"
      ]
     },
     "metadata": {},
     "output_type": "display_data"
    },
    {
     "data": {
      "image/png": "[encoded data removed]",
      "text/plain": [
       "<Figure size 300x400 with 1 Axes>"
      ]
     },
     "metadata": {},
     "output_type": "display_data"
    },
    {
     "data": {
      "image/png": "[encoded data removed]",
      "text/plain": [
       "<Figure size 300x400 with 1 Axes>"
      ]
     },
     "metadata": {},
     "output_type": "display_data"
    }
   ],
   "source": [
    "for analysis in [\"Pfam\",\"Gene3D\",\"SUPERFAMILY\"]:\n",
    "\n",
    "    # change figure size\n",
    "    plt.figure(figsize=(3, 4))\n",
    "    sns.barplot(df_coverage, y=\"Realm\", x=100, color='lightgrey', alpha=1)\n",
    "    sns.barplot(df_coverage, y=\"Realm\", x=f\"{analysis}_singleton_percentage\", color='darkgrey', alpha=1)\n",
    "    sns.barplot(df_coverage, y=\"Realm\", x=f\"{analysis}_network_percentage\", color='#56B4E9', alpha=1)\n",
    "    sns.barplot(df_coverage, y=\"Realm\", x=f\"{analysis}_cluster_percentage\", color='#F0E442', alpha=1)\n",
    "    sns.barplot(df_coverage, y=\"Realm\", x=f\"{analysis}_percentage\", color='#009E73', alpha=1)\n",
    "    # remove the top and right lines\n",
    "    sns.despine()\n",
    "    # remove the y-axis label\n",
    "    plt.ylabel(\"\")\n",
    "    plt.xlabel(\"Functional coverage\")\n",
    "    # make y-tick labels italic\n",
    "    plt.yticks(fontstyle='italic')\n",
    "    # save the figure\n",
    "    plt.savefig(f\"./figures/functional_annotation/interpro_{analysis}_functional_coverage.svg\", format=\"svg\")\n",
    "    #plt.savefig(f\"./figures/interpro_{analysis}_functional_coverage.png\", format=\"png\", dpi=600, bbox_inches='tight')\n",
    "    plt.show"
   ]
  },
  {
   "cell_type": "markdown",
   "metadata": {},
   "source": [
    "## Create meta file with InterProScan results\n",
    "\n",
    "InterProScan file column names\n",
    "\n",
    "- Protein accession (e.g. P51587)\n",
    "- Sequence MD5 digest (e.g. 14086411a2cdf1c4cba63020e1622579)\n",
    "- Sequence length (e.g. 3418)\n",
    "- Analysis (e.g. Pfam / PRINTS / Gene3D)\n",
    "- Signature accession (e.g. PF09103 / G3DSA:2.40.50.140)\n",
    "- Signature description (e.g. BRCA2 repeat profile)\n",
    "- Start location\n",
    "- Stop location\n",
    "- Score - is the e-value (or score) of the match reported by member database method (e.g. 3.1E-52)\n",
    "- Status - is the status of the match (T: true)\n",
    "- Date - is the date of the run\n",
    "- InterPro annotations - accession (e.g. IPR002093)\n",
    "- InterPro annotations - description (e.g. BRCA2 repeat)\n",
    "- GO annotations with their source(s), e.g. GO:0005515(InterPro)|GO:0006302(PANTHER)|GO:0007195(InterPro,PANTHER). This is an optional column; only displayed if the --goterms option is switched on\n",
    "- Pathways annotations, e.g. REACT_71. This is an optional column; only displayed if the --pathways option is switched on"
   ]
  },
  {
   "cell_type": "code",
   "execution_count": 52,
   "metadata": {},
   "outputs": [],
   "source": [
    "file_interpro = \"./interproscan5_analysis/predicted_proteins_results_interproscan-v5.69-101.0.tsv\"\n",
    "file_meta = \"~/4_structural_clustering/foldseekCluster90_1E-5/foldseekCluster90_1E-5_meta.csv\"\n",
    "col_names = [\n",
    "    \"Protein Accession\",\n",
    "    \"Sequence MD5 Digest\",\n",
    "    \"Sequence Length\",\n",
    "    \"Analysis\",\n",
    "    \"Signature Accession\",\n",
    "    \"Signature Description\",\n",
    "    \"Start Location\",\n",
    "    \"Stop Location\",\n",
    "    \"Score\",\n",
    "    \"Status\",\n",
    "    \"Date\",\n",
    "    \"InterPro Annotations Accession\",\n",
    "    \"InterPro Annotations Description\",\n",
    "    \"GO Annotations\",\n",
    "    \"Pathways Annotations\"\n",
    "]\n",
    "df_interpro = pd.read_csv(file_interpro, sep=\"\\t\", names=col_names, header=None, index_col=False)\n",
    "df_meta = pd.read_csv(file_meta)"
   ]
  },
  {
   "cell_type": "code",
   "execution_count": 53,
   "metadata": {},
   "outputs": [],
   "source": [
    "df_interpro['filter'] = df_interpro['Protein Accession'] + \"_\" + df_interpro['Analysis']\n",
    "df_interpro['length'] = df_interpro['Stop Location'] - df_interpro['Start Location'] + 1\n",
    "df_interpro.sort_values(by=['length'], ascending=False, inplace=True)\n",
    "df_interpro.drop_duplicates(subset='filter', keep='first', inplace=True)\n",
    "df_interpro.drop(columns=['filter'], inplace=True)"
   ]
  },
  {
   "cell_type": "code",
   "execution_count": 54,
   "metadata": {},
   "outputs": [],
   "source": [
    "for analysis in [\"Pfam\", \"Gene3D\", \"SUPERFAMILY\"]:\n",
    "\n",
    "    df = df_interpro[df_interpro[\"Analysis\"] == analysis][[\"Protein Accession\", \"Signature Description\", \"InterPro Annotations Description\", \"GO Annotations\", \"Start Location\", \"Stop Location\"]]\n",
    "    df_meta = df_meta.merge(df, left_on=\"member_record_id\", right_on=\"Protein Accession\", how=\"left\")\n",
    "    df_meta.drop(columns=[\"Protein Accession\"], inplace=True)\n",
    "    df_meta.rename(columns={\n",
    "        \"Signature Description\": f\"{analysis}_description\",\n",
    "        \"InterPro Annotations Description\": f\"{analysis}_interpro_description\",\n",
    "        \"GO Annotations\": f\"{analysis}_GO\",\n",
    "        \"Start Location\": f\"{analysis}_start\",\n",
    "        \"Stop Location\": f\"{analysis}_stop\"}, inplace=True)\n",
    "\n",
    "df_meta.drop(columns=[\"Pfam_interpro_description\", \"SUPERFAMILY_interpro_description\", \"Gene3D_description\"], inplace=True)\n",
    "df_meta.rename(columns={\"Pfam_description\": \"Pfam\", \"Gene3D_interpro_description\": \"Gene3D\", \"SUPERFAMILY_description\": \"SUPERFAMILY\"}, inplace=True)"
   ]
  },
  {
   "cell_type": "code",
   "execution_count": 55,
   "metadata": {},
   "outputs": [],
   "source": [
    "# replace '-' with np.nan\n",
    "df_meta.replace('-', np.nan, inplace=True)"
   ]
  },
  {
   "cell_type": "code",
   "execution_count": 56,
   "metadata": {},
   "outputs": [],
   "source": [
    "df_meta.drop(columns=[\"Gene3D_GO\", \"SUPERFAMILY_GO\"], inplace=True)"
   ]
  },
  {
   "cell_type": "code",
   "execution_count": 57,
   "metadata": {},
   "outputs": [
    {
     "data": {
      "text/html": [
       "<div>\n",
       "<style scoped>\n",
       "    .dataframe tbody tr th:only-of-type {\n",
       "        vertical-align: middle;\n",
       "    }\n",
       "\n",
       "    .dataframe tbody tr th {\n",
       "        vertical-align: top;\n",
       "    }\n",
       "\n",
       "    .dataframe thead th {\n",
       "        text-align: right;\n",
       "    }\n",
       "</style>\n",
       "<table border=\"1\" class=\"dataframe\">\n",
       "  <thead>\n",
       "    <tr style=\"text-align: right;\">\n",
       "      <th></th>\n",
       "      <th>cluster_id</th>\n",
       "      <th>cluster_representative</th>\n",
       "      <th>structure_representative</th>\n",
       "      <th>cluster_member</th>\n",
       "      <th>clustering_method</th>\n",
       "      <th>member_class</th>\n",
       "      <th>member_record_id</th>\n",
       "      <th>protlen</th>\n",
       "      <th>plddt</th>\n",
       "      <th>ptm</th>\n",
       "      <th>...</th>\n",
       "      <th>Pfam</th>\n",
       "      <th>Pfam_GO</th>\n",
       "      <th>Pfam_start</th>\n",
       "      <th>Pfam_stop</th>\n",
       "      <th>Gene3D</th>\n",
       "      <th>Gene3D_start</th>\n",
       "      <th>Gene3D_stop</th>\n",
       "      <th>SUPERFAMILY</th>\n",
       "      <th>SUPERFAMILY_start</th>\n",
       "      <th>SUPERFAMILY_stop</th>\n",
       "    </tr>\n",
       "  </thead>\n",
       "  <tbody>\n",
       "    <tr>\n",
       "      <th>0</th>\n",
       "      <td>1</td>\n",
       "      <td>CF-AKH10573.1.1.6_7109_relaxed</td>\n",
       "      <td>CF-BAA24003.1.11_10589_relaxed</td>\n",
       "      <td>CF-AAX47043.1.11_10545_relaxed</td>\n",
       "      <td>mmseq</td>\n",
       "      <td>CF</td>\n",
       "      <td>AAX47043.1.11_10545</td>\n",
       "      <td>462</td>\n",
       "      <td>96.4</td>\n",
       "      <td>0.94</td>\n",
       "      <td>...</td>\n",
       "      <td>Viral RNA-dependent RNA polymerase</td>\n",
       "      <td>GO:0003723(InterPro)|GO:0003968(InterPro)|GO:0...</td>\n",
       "      <td>27.0</td>\n",
       "      <td>438.0</td>\n",
       "      <td>Reverse transcriptase/Diguanylate cyclase domain</td>\n",
       "      <td>269.0</td>\n",
       "      <td>368.0</td>\n",
       "      <td>DNA/RNA polymerases</td>\n",
       "      <td>6.0</td>\n",
       "      <td>461.0</td>\n",
       "    </tr>\n",
       "    <tr>\n",
       "      <th>1</th>\n",
       "      <td>1</td>\n",
       "      <td>CF-AKH10573.1.1.6_7109_relaxed</td>\n",
       "      <td>CF-BAA24003.1.11_10589_relaxed</td>\n",
       "      <td>CF-ABK41188.1.11_10539_relaxed</td>\n",
       "      <td>mmseq</td>\n",
       "      <td>CF</td>\n",
       "      <td>ABK41188.1.11_10539</td>\n",
       "      <td>462</td>\n",
       "      <td>96.5</td>\n",
       "      <td>0.94</td>\n",
       "      <td>...</td>\n",
       "      <td>Viral RNA-dependent RNA polymerase</td>\n",
       "      <td>GO:0003723(InterPro)|GO:0003968(InterPro)|GO:0...</td>\n",
       "      <td>27.0</td>\n",
       "      <td>438.0</td>\n",
       "      <td>Reverse transcriptase/Diguanylate cyclase domain</td>\n",
       "      <td>269.0</td>\n",
       "      <td>368.0</td>\n",
       "      <td>DNA/RNA polymerases</td>\n",
       "      <td>8.0</td>\n",
       "      <td>461.0</td>\n",
       "    </tr>\n",
       "    <tr>\n",
       "      <th>2</th>\n",
       "      <td>1</td>\n",
       "      <td>CF-AKH10573.1.1.6_7109_relaxed</td>\n",
       "      <td>CF-BAA24003.1.11_10589_relaxed</td>\n",
       "      <td>CF-ACZ67658.1.11_10757_relaxed</td>\n",
       "      <td>mmseq</td>\n",
       "      <td>CF</td>\n",
       "      <td>ACZ67658.1.11_10757</td>\n",
       "      <td>460</td>\n",
       "      <td>95.7</td>\n",
       "      <td>0.93</td>\n",
       "      <td>...</td>\n",
       "      <td>Viral RNA-dependent RNA polymerase</td>\n",
       "      <td>GO:0003723(InterPro)|GO:0003968(InterPro)|GO:0...</td>\n",
       "      <td>27.0</td>\n",
       "      <td>431.0</td>\n",
       "      <td>Reverse transcriptase/Diguanylate cyclase domain</td>\n",
       "      <td>264.0</td>\n",
       "      <td>365.0</td>\n",
       "      <td>DNA/RNA polymerases</td>\n",
       "      <td>3.0</td>\n",
       "      <td>459.0</td>\n",
       "    </tr>\n",
       "    <tr>\n",
       "      <th>3</th>\n",
       "      <td>1</td>\n",
       "      <td>CF-AKH10573.1.1.6_7109_relaxed</td>\n",
       "      <td>CF-BAA24003.1.11_10589_relaxed</td>\n",
       "      <td>CF-AGH70290.1.11_10579_relaxed</td>\n",
       "      <td>mmseq</td>\n",
       "      <td>CF</td>\n",
       "      <td>AGH70290.1.11_10579</td>\n",
       "      <td>461</td>\n",
       "      <td>96.4</td>\n",
       "      <td>0.94</td>\n",
       "      <td>...</td>\n",
       "      <td>Viral RNA-dependent RNA polymerase</td>\n",
       "      <td>GO:0003723(InterPro)|GO:0003968(InterPro)|GO:0...</td>\n",
       "      <td>29.0</td>\n",
       "      <td>437.0</td>\n",
       "      <td>Reverse transcriptase/Diguanylate cyclase domain</td>\n",
       "      <td>268.0</td>\n",
       "      <td>367.0</td>\n",
       "      <td>DNA/RNA polymerases</td>\n",
       "      <td>1.0</td>\n",
       "      <td>461.0</td>\n",
       "    </tr>\n",
       "    <tr>\n",
       "      <th>4</th>\n",
       "      <td>1</td>\n",
       "      <td>CF-AKH10573.1.1.6_7109_relaxed</td>\n",
       "      <td>CF-BAA24003.1.11_10589_relaxed</td>\n",
       "      <td>CF-AFQ62099.1.1.10_10580_relaxed</td>\n",
       "      <td>mmseq</td>\n",
       "      <td>CF</td>\n",
       "      <td>AFQ62099.1.1.10_10580</td>\n",
       "      <td>453</td>\n",
       "      <td>96.1</td>\n",
       "      <td>0.94</td>\n",
       "      <td>...</td>\n",
       "      <td>Viral RNA-dependent RNA polymerase</td>\n",
       "      <td>GO:0003723(InterPro)|GO:0003968(InterPro)|GO:0...</td>\n",
       "      <td>29.0</td>\n",
       "      <td>429.0</td>\n",
       "      <td>Reverse transcriptase/Diguanylate cyclase domain</td>\n",
       "      <td>260.0</td>\n",
       "      <td>359.0</td>\n",
       "      <td>DNA/RNA polymerases</td>\n",
       "      <td>5.0</td>\n",
       "      <td>452.0</td>\n",
       "    </tr>\n",
       "    <tr>\n",
       "      <th>...</th>\n",
       "      <td>...</td>\n",
       "      <td>...</td>\n",
       "      <td>...</td>\n",
       "      <td>...</td>\n",
       "      <td>...</td>\n",
       "      <td>...</td>\n",
       "      <td>...</td>\n",
       "      <td>...</td>\n",
       "      <td>...</td>\n",
       "      <td>...</td>\n",
       "      <td>...</td>\n",
       "      <td>...</td>\n",
       "      <td>...</td>\n",
       "      <td>...</td>\n",
       "      <td>...</td>\n",
       "      <td>...</td>\n",
       "      <td>...</td>\n",
       "      <td>...</td>\n",
       "      <td>...</td>\n",
       "      <td>...</td>\n",
       "      <td>...</td>\n",
       "    </tr>\n",
       "    <tr>\n",
       "      <th>85157</th>\n",
       "      <td>19063</td>\n",
       "      <td>CF-BAF45662.1_12759_relaxed</td>\n",
       "      <td>CF-BAF45662.1_12759_relaxed</td>\n",
       "      <td>CF-BAF45662.1_12759_relaxed</td>\n",
       "      <td>foldseek</td>\n",
       "      <td>CF</td>\n",
       "      <td>BAF45662.1_12759</td>\n",
       "      <td>128</td>\n",
       "      <td>94.0</td>\n",
       "      <td>0.52</td>\n",
       "      <td>...</td>\n",
       "      <td>NaN</td>\n",
       "      <td>NaN</td>\n",
       "      <td>NaN</td>\n",
       "      <td>NaN</td>\n",
       "      <td>NaN</td>\n",
       "      <td>NaN</td>\n",
       "      <td>NaN</td>\n",
       "      <td>NaN</td>\n",
       "      <td>NaN</td>\n",
       "      <td>NaN</td>\n",
       "    </tr>\n",
       "    <tr>\n",
       "      <th>85158</th>\n",
       "      <td>19064</td>\n",
       "      <td>CF-BAF45663.1_12759_relaxed</td>\n",
       "      <td>CF-BAF45663.1_12759_relaxed</td>\n",
       "      <td>CF-BAF45663.1_12759_relaxed</td>\n",
       "      <td>foldseek</td>\n",
       "      <td>CF</td>\n",
       "      <td>BAF45663.1_12759</td>\n",
       "      <td>116</td>\n",
       "      <td>53.3</td>\n",
       "      <td>0.23</td>\n",
       "      <td>...</td>\n",
       "      <td>NaN</td>\n",
       "      <td>NaN</td>\n",
       "      <td>NaN</td>\n",
       "      <td>NaN</td>\n",
       "      <td>NaN</td>\n",
       "      <td>NaN</td>\n",
       "      <td>NaN</td>\n",
       "      <td>NaN</td>\n",
       "      <td>NaN</td>\n",
       "      <td>NaN</td>\n",
       "    </tr>\n",
       "    <tr>\n",
       "      <th>85159</th>\n",
       "      <td>19065</td>\n",
       "      <td>CF-BAF45664.1_12759_relaxed</td>\n",
       "      <td>CF-BAF45664.1_12759_relaxed</td>\n",
       "      <td>CF-BAF45664.1_12759_relaxed</td>\n",
       "      <td>foldseek</td>\n",
       "      <td>CF</td>\n",
       "      <td>BAF45664.1_12759</td>\n",
       "      <td>159</td>\n",
       "      <td>79.7</td>\n",
       "      <td>0.41</td>\n",
       "      <td>...</td>\n",
       "      <td>NaN</td>\n",
       "      <td>NaN</td>\n",
       "      <td>NaN</td>\n",
       "      <td>NaN</td>\n",
       "      <td>NaN</td>\n",
       "      <td>NaN</td>\n",
       "      <td>NaN</td>\n",
       "      <td>NaN</td>\n",
       "      <td>NaN</td>\n",
       "      <td>NaN</td>\n",
       "    </tr>\n",
       "    <tr>\n",
       "      <th>85160</th>\n",
       "      <td>19066</td>\n",
       "      <td>CF-BAF45668.1_12759_relaxed</td>\n",
       "      <td>CF-BAF45668.1_12759_relaxed</td>\n",
       "      <td>CF-BAF45668.1_12759_relaxed</td>\n",
       "      <td>foldseek</td>\n",
       "      <td>CF</td>\n",
       "      <td>BAF45668.1_12759</td>\n",
       "      <td>139</td>\n",
       "      <td>41.3</td>\n",
       "      <td>0.23</td>\n",
       "      <td>...</td>\n",
       "      <td>NaN</td>\n",
       "      <td>NaN</td>\n",
       "      <td>NaN</td>\n",
       "      <td>NaN</td>\n",
       "      <td>NaN</td>\n",
       "      <td>NaN</td>\n",
       "      <td>NaN</td>\n",
       "      <td>NaN</td>\n",
       "      <td>NaN</td>\n",
       "      <td>NaN</td>\n",
       "    </tr>\n",
       "    <tr>\n",
       "      <th>85161</th>\n",
       "      <td>19067</td>\n",
       "      <td>CF-BAF45669.1_12759_relaxed</td>\n",
       "      <td>CF-BAF45669.1_12759_relaxed</td>\n",
       "      <td>CF-BAF45669.1_12759_relaxed</td>\n",
       "      <td>foldseek</td>\n",
       "      <td>CF</td>\n",
       "      <td>BAF45669.1_12759</td>\n",
       "      <td>183</td>\n",
       "      <td>36.2</td>\n",
       "      <td>0.29</td>\n",
       "      <td>...</td>\n",
       "      <td>NaN</td>\n",
       "      <td>NaN</td>\n",
       "      <td>NaN</td>\n",
       "      <td>NaN</td>\n",
       "      <td>NaN</td>\n",
       "      <td>NaN</td>\n",
       "      <td>NaN</td>\n",
       "      <td>NaN</td>\n",
       "      <td>NaN</td>\n",
       "      <td>NaN</td>\n",
       "    </tr>\n",
       "  </tbody>\n",
       "</table>\n",
       "<p>85162 rows × 23 columns</p>\n",
       "</div>"
      ],
      "text/plain": [
       "       cluster_id          cluster_representative  \\\n",
       "0               1  CF-AKH10573.1.1.6_7109_relaxed   \n",
       "1               1  CF-AKH10573.1.1.6_7109_relaxed   \n",
       "2               1  CF-AKH10573.1.1.6_7109_relaxed   \n",
       "3               1  CF-AKH10573.1.1.6_7109_relaxed   \n",
       "4               1  CF-AKH10573.1.1.6_7109_relaxed   \n",
       "...           ...                             ...   \n",
       "85157       19063     CF-BAF45662.1_12759_relaxed   \n",
       "85158       19064     CF-BAF45663.1_12759_relaxed   \n",
       "85159       19065     CF-BAF45664.1_12759_relaxed   \n",
       "85160       19066     CF-BAF45668.1_12759_relaxed   \n",
       "85161       19067     CF-BAF45669.1_12759_relaxed   \n",
       "\n",
       "             structure_representative                    cluster_member  \\\n",
       "0      CF-BAA24003.1.11_10589_relaxed    CF-AAX47043.1.11_10545_relaxed   \n",
       "1      CF-BAA24003.1.11_10589_relaxed    CF-ABK41188.1.11_10539_relaxed   \n",
       "2      CF-BAA24003.1.11_10589_relaxed    CF-ACZ67658.1.11_10757_relaxed   \n",
       "3      CF-BAA24003.1.11_10589_relaxed    CF-AGH70290.1.11_10579_relaxed   \n",
       "4      CF-BAA24003.1.11_10589_relaxed  CF-AFQ62099.1.1.10_10580_relaxed   \n",
       "...                               ...                               ...   \n",
       "85157     CF-BAF45662.1_12759_relaxed       CF-BAF45662.1_12759_relaxed   \n",
       "85158     CF-BAF45663.1_12759_relaxed       CF-BAF45663.1_12759_relaxed   \n",
       "85159     CF-BAF45664.1_12759_relaxed       CF-BAF45664.1_12759_relaxed   \n",
       "85160     CF-BAF45668.1_12759_relaxed       CF-BAF45668.1_12759_relaxed   \n",
       "85161     CF-BAF45669.1_12759_relaxed       CF-BAF45669.1_12759_relaxed   \n",
       "\n",
       "      clustering_method member_class       member_record_id  protlen  plddt  \\\n",
       "0                 mmseq           CF    AAX47043.1.11_10545      462   96.4   \n",
       "1                 mmseq           CF    ABK41188.1.11_10539      462   96.5   \n",
       "2                 mmseq           CF    ACZ67658.1.11_10757      460   95.7   \n",
       "3                 mmseq           CF    AGH70290.1.11_10579      461   96.4   \n",
       "4                 mmseq           CF  AFQ62099.1.1.10_10580      453   96.1   \n",
       "...                 ...          ...                    ...      ...    ...   \n",
       "85157          foldseek           CF       BAF45662.1_12759      128   94.0   \n",
       "85158          foldseek           CF       BAF45663.1_12759      116   53.3   \n",
       "85159          foldseek           CF       BAF45664.1_12759      159   79.7   \n",
       "85160          foldseek           CF       BAF45668.1_12759      139   41.3   \n",
       "85161          foldseek           CF       BAF45669.1_12759      183   36.2   \n",
       "\n",
       "        ptm  ...                                Pfam  \\\n",
       "0      0.94  ...  Viral RNA-dependent RNA polymerase   \n",
       "1      0.94  ...  Viral RNA-dependent RNA polymerase   \n",
       "2      0.93  ...  Viral RNA-dependent RNA polymerase   \n",
       "3      0.94  ...  Viral RNA-dependent RNA polymerase   \n",
       "4      0.94  ...  Viral RNA-dependent RNA polymerase   \n",
       "...     ...  ...                                 ...   \n",
       "85157  0.52  ...                                 NaN   \n",
       "85158  0.23  ...                                 NaN   \n",
       "85159  0.41  ...                                 NaN   \n",
       "85160  0.23  ...                                 NaN   \n",
       "85161  0.29  ...                                 NaN   \n",
       "\n",
       "                                                 Pfam_GO Pfam_start Pfam_stop  \\\n",
       "0      GO:0003723(InterPro)|GO:0003968(InterPro)|GO:0...       27.0     438.0   \n",
       "1      GO:0003723(InterPro)|GO:0003968(InterPro)|GO:0...       27.0     438.0   \n",
       "2      GO:0003723(InterPro)|GO:0003968(InterPro)|GO:0...       27.0     431.0   \n",
       "3      GO:0003723(InterPro)|GO:0003968(InterPro)|GO:0...       29.0     437.0   \n",
       "4      GO:0003723(InterPro)|GO:0003968(InterPro)|GO:0...       29.0     429.0   \n",
       "...                                                  ...        ...       ...   \n",
       "85157                                                NaN        NaN       NaN   \n",
       "85158                                                NaN        NaN       NaN   \n",
       "85159                                                NaN        NaN       NaN   \n",
       "85160                                                NaN        NaN       NaN   \n",
       "85161                                                NaN        NaN       NaN   \n",
       "\n",
       "                                                 Gene3D  Gene3D_start  \\\n",
       "0      Reverse transcriptase/Diguanylate cyclase domain         269.0   \n",
       "1      Reverse transcriptase/Diguanylate cyclase domain         269.0   \n",
       "2      Reverse transcriptase/Diguanylate cyclase domain         264.0   \n",
       "3      Reverse transcriptase/Diguanylate cyclase domain         268.0   \n",
       "4      Reverse transcriptase/Diguanylate cyclase domain         260.0   \n",
       "...                                                 ...           ...   \n",
       "85157                                               NaN           NaN   \n",
       "85158                                               NaN           NaN   \n",
       "85159                                               NaN           NaN   \n",
       "85160                                               NaN           NaN   \n",
       "85161                                               NaN           NaN   \n",
       "\n",
       "       Gene3D_stop          SUPERFAMILY  SUPERFAMILY_start  SUPERFAMILY_stop  \n",
       "0            368.0  DNA/RNA polymerases                6.0             461.0  \n",
       "1            368.0  DNA/RNA polymerases                8.0             461.0  \n",
       "2            365.0  DNA/RNA polymerases                3.0             459.0  \n",
       "3            367.0  DNA/RNA polymerases                1.0             461.0  \n",
       "4            359.0  DNA/RNA polymerases                5.0             452.0  \n",
       "...            ...                  ...                ...               ...  \n",
       "85157          NaN                  NaN                NaN               NaN  \n",
       "85158          NaN                  NaN                NaN               NaN  \n",
       "85159          NaN                  NaN                NaN               NaN  \n",
       "85160          NaN                  NaN                NaN               NaN  \n",
       "85161          NaN                  NaN                NaN               NaN  \n",
       "\n",
       "[85162 rows x 23 columns]"
      ]
     },
     "execution_count": 57,
     "metadata": {},
     "output_type": "execute_result"
    }
   ],
   "source": [
    "df_meta"
   ]
  },
  {
   "cell_type": "code",
   "execution_count": 58,
   "metadata": {},
   "outputs": [],
   "source": [
    "df_meta.to_csv(\"./foldseekCluster90_1E-5_meta_single_interproscan_tmp.csv\", index=False)"
   ]
  },
  {
   "cell_type": "code",
   "execution_count": null,
   "metadata": {},
   "outputs": [],
   "source": []
  }
 ],
 "metadata": {
  "kernelspec": {
   "display_name": "bio",
   "language": "python",
   "name": "python3"
  },
  "language_info": {
   "codemirror_mode": {
    "name": "ipython",
    "version": 3
   },
   "file_extension": ".py",
   "mimetype": "text/x-python",
   "name": "python",
   "nbconvert_exporter": "python",
   "pygments_lexer": "ipython3",
   "version": "3.12.0"
  }
 },
 "nbformat": 4,
 "nbformat_minor": 2
}
